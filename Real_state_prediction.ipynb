{
 "cells": [
  {
   "cell_type": "markdown",
   "metadata": {},
   "source": [
    "**Dataset 1:** raw_sales.csv contains individual sales data. There are aproximately 30,000 sales recorded in the period between years 2008-2019.<br>\n",
    "**Dataset 2:** ma_lga_12345.csv contains data resampled using Median Price Moving Average (MA) in Quarterly Intervals.<br>\n",
    "<br>\n",
    "**Objective:** Forecast MA for 8 future intervals for all # of bedrooms series using a multivariate forecasting model of your choice.<br>\n",
    "<br>\n",
    "**Guiding Point 1:** Try at least 3 different models and recommend one that yields the best results. It is ok to include a variant of the VAR model or improve the VAR parameters in this notebook in one instance of the three. One of the models should use a neural network.<br>\n",
    "**Guiding Point 2:** The forecast should be done on the 90% train and validated against the 10% test set. Test set should be witheld from the model and only be used to produce the MAPE scores.<br> \n",
    "**Guiding Point 3:** The train forecast should be compared with test set and MAPE values presented for every model must be below those of the VAR model values in this notebook. "
   ]
  },
  {
   "cell_type": "code",
   "execution_count": 1,
   "metadata": {},
   "outputs": [],
   "source": [
    "# We will clean, explore and visualise the raw data first\n",
    "import pandas as pd\n",
    "import matplotlib.pyplot as plt\n",
    "import numpy as np\n",
    "from pandas.plotting import register_matplotlib_converters\n",
    "register_matplotlib_converters()\n",
    "df=pd.read_csv('real_state.csv')"
   ]
  },
  {
   "cell_type": "code",
   "execution_count": 2,
   "metadata": {},
   "outputs": [],
   "source": [
    "# # We will group and visualise the data by the number of bedrooms\n",
    "# import seaborn\n",
    "# from  matplotlib import pyplot\n",
    "# df=df[df.bedrooms>1] # 0 and 1 bedrooms are not relevant to houses and should be discarded\n",
    "# _bedrooms=df['bedrooms'].unique().sort()\n",
    "# fg = seaborn.FacetGrid(data=df, hue='bedrooms', hue_order=_bedrooms, aspect=2, height=8)\n",
    "# fg.map(pyplot.scatter, 'datesold', 'price', alpha=.7, s=5).add_legend()\n",
    "# #This data may be useful for forecasts via a neural network."
   ]
  },
  {
   "cell_type": "markdown",
   "metadata": {},
   "source": [
    "We will stop here for now and move on to resampled quarterly data"
   ]
  },
  {
   "cell_type": "code",
   "execution_count": 3,
   "metadata": {},
   "outputs": [
    {
     "data": {
      "text/html": [
       "<div>\n",
       "<style scoped>\n",
       "    .dataframe tbody tr th:only-of-type {\n",
       "        vertical-align: middle;\n",
       "    }\n",
       "\n",
       "    .dataframe tbody tr th {\n",
       "        vertical-align: top;\n",
       "    }\n",
       "\n",
       "    .dataframe thead th {\n",
       "        text-align: right;\n",
       "    }\n",
       "</style>\n",
       "<table border=\"1\" class=\"dataframe\">\n",
       "  <thead>\n",
       "    <tr style=\"text-align: right;\">\n",
       "      <th></th>\n",
       "      <th>saledate</th>\n",
       "      <th>MA</th>\n",
       "      <th>type</th>\n",
       "      <th>bedrooms</th>\n",
       "    </tr>\n",
       "  </thead>\n",
       "  <tbody>\n",
       "    <tr>\n",
       "      <th>195</th>\n",
       "      <td>2018-09-30</td>\n",
       "      <td>1007114</td>\n",
       "      <td>house</td>\n",
       "      <td>5</td>\n",
       "    </tr>\n",
       "    <tr>\n",
       "      <th>196</th>\n",
       "      <td>2018-12-31</td>\n",
       "      <td>1002323</td>\n",
       "      <td>house</td>\n",
       "      <td>5</td>\n",
       "    </tr>\n",
       "    <tr>\n",
       "      <th>197</th>\n",
       "      <td>2019-03-31</td>\n",
       "      <td>998136</td>\n",
       "      <td>house</td>\n",
       "      <td>5</td>\n",
       "    </tr>\n",
       "    <tr>\n",
       "      <th>198</th>\n",
       "      <td>2019-06-30</td>\n",
       "      <td>995363</td>\n",
       "      <td>house</td>\n",
       "      <td>5</td>\n",
       "    </tr>\n",
       "    <tr>\n",
       "      <th>199</th>\n",
       "      <td>2019-09-30</td>\n",
       "      <td>970268</td>\n",
       "      <td>house</td>\n",
       "      <td>5</td>\n",
       "    </tr>\n",
       "  </tbody>\n",
       "</table>\n",
       "</div>"
      ],
      "text/plain": [
       "      saledate       MA   type  bedrooms\n",
       "195 2018-09-30  1007114  house         5\n",
       "196 2018-12-31  1002323  house         5\n",
       "197 2019-03-31   998136  house         5\n",
       "198 2019-06-30   995363  house         5\n",
       "199 2019-09-30   970268  house         5"
      ]
     },
     "execution_count": 3,
     "metadata": {},
     "output_type": "execute_result"
    }
   ],
   "source": [
    "#The data in ma_lga_12345.csv has been resampled to quartely intervals with a median aggregator outside of this notebook\n",
    "#We will load it and visualise it first\n",
    "df=pd.read_csv('Real_state.csv')\n",
    "df=df[df.type=='house'] #Let's limit the scope of this problem to houses only\n",
    "df['saledate'] = pd.to_datetime(df['saledate'])\n",
    "df.tail()"
   ]
  },
  {
   "cell_type": "code",
   "execution_count": 4,
   "metadata": {},
   "outputs": [
    {
     "data": {
      "text/html": [
       "<div>\n",
       "<style scoped>\n",
       "    .dataframe tbody tr th:only-of-type {\n",
       "        vertical-align: middle;\n",
       "    }\n",
       "\n",
       "    .dataframe tbody tr th {\n",
       "        vertical-align: top;\n",
       "    }\n",
       "\n",
       "    .dataframe thead th {\n",
       "        text-align: right;\n",
       "    }\n",
       "</style>\n",
       "<table border=\"1\" class=\"dataframe\">\n",
       "  <thead>\n",
       "    <tr style=\"text-align: right;\">\n",
       "      <th>bedrooms</th>\n",
       "      <th>2</th>\n",
       "      <th>3</th>\n",
       "      <th>4</th>\n",
       "      <th>5</th>\n",
       "    </tr>\n",
       "    <tr>\n",
       "      <th>saledate</th>\n",
       "      <th></th>\n",
       "      <th></th>\n",
       "      <th></th>\n",
       "      <th></th>\n",
       "    </tr>\n",
       "  </thead>\n",
       "  <tbody>\n",
       "    <tr>\n",
       "      <th>2018-09-30</th>\n",
       "      <td>504318.0</td>\n",
       "      <td>624602.0</td>\n",
       "      <td>830727.0</td>\n",
       "      <td>1007114.0</td>\n",
       "    </tr>\n",
       "    <tr>\n",
       "      <th>2018-12-31</th>\n",
       "      <td>506001.0</td>\n",
       "      <td>626608.0</td>\n",
       "      <td>820924.0</td>\n",
       "      <td>1002323.0</td>\n",
       "    </tr>\n",
       "    <tr>\n",
       "      <th>2019-03-31</th>\n",
       "      <td>496133.0</td>\n",
       "      <td>628423.0</td>\n",
       "      <td>811121.0</td>\n",
       "      <td>998136.0</td>\n",
       "    </tr>\n",
       "    <tr>\n",
       "      <th>2019-06-30</th>\n",
       "      <td>500158.0</td>\n",
       "      <td>630814.0</td>\n",
       "      <td>803925.0</td>\n",
       "      <td>995363.0</td>\n",
       "    </tr>\n",
       "    <tr>\n",
       "      <th>2019-09-30</th>\n",
       "      <td>510712.0</td>\n",
       "      <td>631875.0</td>\n",
       "      <td>791446.0</td>\n",
       "      <td>970268.0</td>\n",
       "    </tr>\n",
       "  </tbody>\n",
       "</table>\n",
       "</div>"
      ],
      "text/plain": [
       "bedrooms           2         3         4          5\n",
       "saledate                                           \n",
       "2018-09-30  504318.0  624602.0  830727.0  1007114.0\n",
       "2018-12-31  506001.0  626608.0  820924.0  1002323.0\n",
       "2019-03-31  496133.0  628423.0  811121.0   998136.0\n",
       "2019-06-30  500158.0  630814.0  803925.0   995363.0\n",
       "2019-09-30  510712.0  631875.0  791446.0   970268.0"
      ]
     },
     "execution_count": 4,
     "metadata": {},
     "output_type": "execute_result"
    }
   ],
   "source": [
    "#Pivot the data so we can feed it into the model\n",
    "df=df.pivot(index='saledate', columns='bedrooms', values='MA').interpolate(method='linear', limit_direction='both')\n",
    "df.tail()"
   ]
  },
  {
   "cell_type": "code",
   "execution_count": 23,
   "metadata": {},
   "outputs": [],
   "source": [
    "#Plot the data\n",
    "# %matplotlib inline \n",
    "# df.plot(figsize=(15,5))\n",
    "#It is evident that 2 bedroom curve before 2009 is not an accurate representation of the actual median price.\n",
    "#It is not possible for a 2 bedroom median price to be above that of 3 bedroom median price.\n",
    "#This is due to low number of sales in that timeframe, which skews the calculated median price."
   ]
  },
  {
   "cell_type": "code",
   "execution_count": 24,
   "metadata": {},
   "outputs": [],
   "source": [
    "# Let's see what we can do to correct the overlapping lines for 2 and 3 br data\n",
    "def separate_series(df):\n",
    "    columns = list(df) \n",
    "    for col in columns: \n",
    "        if col== columns[-1]:\n",
    "            break\n",
    "        #Calculate average difference between 2 and 3 bedrooms for the recent  1/3 of the dataframe\n",
    "        diff_mean= (df[col+1][:-int(len(df)/3)]-df[col][:-int(len(df)/3)]).mean()\n",
    "        #Where 2 br price is higher than that of 3 br, replace it with 3 br price minus the diff\n",
    "        #do_they_intersect = False if df[col].loc[df[col] >= df[col+1], ].empty else True\n",
    "        #if do_they_intersect:\n",
    "        df.loc[df[col] > df[col+1]-diff_mean, col] = df[col+1]-diff_mean\n",
    "    return df\n",
    "df=separate_series(df)\n",
    "# df.plot(figsize=(15,5))"
   ]
  },
  {
   "cell_type": "code",
   "execution_count": 25,
   "metadata": {},
   "outputs": [
    {
     "data": {
      "text/html": [
       "<div>\n",
       "<style scoped>\n",
       "    .dataframe tbody tr th:only-of-type {\n",
       "        vertical-align: middle;\n",
       "    }\n",
       "\n",
       "    .dataframe tbody tr th {\n",
       "        vertical-align: top;\n",
       "    }\n",
       "\n",
       "    .dataframe thead th {\n",
       "        text-align: right;\n",
       "    }\n",
       "</style>\n",
       "<table border=\"1\" class=\"dataframe\">\n",
       "  <thead>\n",
       "    <tr style=\"text-align: right;\">\n",
       "      <th>bedrooms</th>\n",
       "      <th>2</th>\n",
       "      <th>3</th>\n",
       "      <th>4</th>\n",
       "      <th>5</th>\n",
       "    </tr>\n",
       "    <tr>\n",
       "      <th>saledate</th>\n",
       "      <th></th>\n",
       "      <th></th>\n",
       "      <th></th>\n",
       "      <th></th>\n",
       "    </tr>\n",
       "  </thead>\n",
       "  <tbody>\n",
       "    <tr>\n",
       "      <th>2019-05-31</th>\n",
       "      <td>498816</td>\n",
       "      <td>630017</td>\n",
       "      <td>806323</td>\n",
       "      <td>996287</td>\n",
       "    </tr>\n",
       "    <tr>\n",
       "      <th>2019-06-30</th>\n",
       "      <td>500158</td>\n",
       "      <td>630814</td>\n",
       "      <td>803925</td>\n",
       "      <td>995363</td>\n",
       "    </tr>\n",
       "    <tr>\n",
       "      <th>2019-07-31</th>\n",
       "      <td>503676</td>\n",
       "      <td>631167</td>\n",
       "      <td>799293</td>\n",
       "      <td>986998</td>\n",
       "    </tr>\n",
       "    <tr>\n",
       "      <th>2019-08-31</th>\n",
       "      <td>507194</td>\n",
       "      <td>631521</td>\n",
       "      <td>794662</td>\n",
       "      <td>978633</td>\n",
       "    </tr>\n",
       "    <tr>\n",
       "      <th>2019-09-30</th>\n",
       "      <td>510712</td>\n",
       "      <td>631875</td>\n",
       "      <td>790030</td>\n",
       "      <td>970268</td>\n",
       "    </tr>\n",
       "  </tbody>\n",
       "</table>\n",
       "</div>"
      ],
      "text/plain": [
       "bedrooms         2       3       4       5\n",
       "saledate                                  \n",
       "2019-05-31  498816  630017  806323  996287\n",
       "2019-06-30  500158  630814  803925  995363\n",
       "2019-07-31  503676  631167  799293  986998\n",
       "2019-08-31  507194  631521  794662  978633\n",
       "2019-09-30  510712  631875  790030  970268"
      ]
     },
     "execution_count": 25,
     "metadata": {},
     "output_type": "execute_result"
    }
   ],
   "source": [
    "#if you are after monthly frequency we can resample the quarterly data to monthly by\n",
    "df_monthly = df.resample('M').interpolate(method='linear', limit_direction='both').astype(int)\n",
    "#if you are after weekly or daily just replace 'M' with 'W' or 'D' respectively\n",
    "df_monthly.tail()\n",
    "# df_monthly.plot(figsize=(15,5))"
   ]
  },
  {
   "cell_type": "code",
   "execution_count": 8,
   "metadata": {},
   "outputs": [
    {
     "data": {
      "text/plain": [
       "array([0.40292351, 0.16715847, 0.09216369, 0.00183796])"
      ]
     },
     "execution_count": 8,
     "metadata": {},
     "output_type": "execute_result"
    }
   ],
   "source": [
    "#Coint Johansen test for all # bedrooms columns\n",
    "from statsmodels.tsa.vector_ar.vecm import coint_johansen\n",
    "coint_johansen(df,-1,1).eig"
   ]
  },
  {
   "cell_type": "code",
   "execution_count": 9,
   "metadata": {},
   "outputs": [],
   "source": [
    "#Split the data into train and test\n",
    "train = df[:int(0.9*(len(df)))]\n",
    "test = df[int(0.9*(len(df))):]\n",
    "\n",
    "#Fit the model\n",
    "from statsmodels.tsa.vector_ar.var_model import VAR\n",
    "\n",
    "model = VAR(endog=train, freq='Q-DEC')\n",
    "model_fit = model.fit()\n",
    "\n",
    "#Forecast based on train data\n",
    "forecast = model_fit.forecast(model_fit.endog, steps=len(test))"
   ]
  },
  {
   "cell_type": "code",
   "execution_count": 10,
   "metadata": {},
   "outputs": [
    {
     "data": {
      "text/html": [
       "<div>\n",
       "<style scoped>\n",
       "    .dataframe tbody tr th:only-of-type {\n",
       "        vertical-align: middle;\n",
       "    }\n",
       "\n",
       "    .dataframe tbody tr th {\n",
       "        vertical-align: top;\n",
       "    }\n",
       "\n",
       "    .dataframe thead tr th {\n",
       "        text-align: left;\n",
       "    }\n",
       "\n",
       "    .dataframe thead tr:last-of-type th {\n",
       "        text-align: right;\n",
       "    }\n",
       "</style>\n",
       "<table border=\"1\" class=\"dataframe\">\n",
       "  <thead>\n",
       "    <tr>\n",
       "      <th>bedrooms</th>\n",
       "      <th>2</th>\n",
       "      <th>3</th>\n",
       "      <th>4</th>\n",
       "      <th>5</th>\n",
       "    </tr>\n",
       "    <tr>\n",
       "      <th>saledate</th>\n",
       "      <th></th>\n",
       "      <th></th>\n",
       "      <th></th>\n",
       "      <th></th>\n",
       "    </tr>\n",
       "  </thead>\n",
       "  <tbody>\n",
       "    <tr>\n",
       "      <th>2018-09-30</th>\n",
       "      <td>507480</td>\n",
       "      <td>631399</td>\n",
       "      <td>861752</td>\n",
       "      <td>1045546</td>\n",
       "    </tr>\n",
       "    <tr>\n",
       "      <th>2018-12-31</th>\n",
       "      <td>507833</td>\n",
       "      <td>637650</td>\n",
       "      <td>875549</td>\n",
       "      <td>1061382</td>\n",
       "    </tr>\n",
       "    <tr>\n",
       "      <th>2019-03-31</th>\n",
       "      <td>508310</td>\n",
       "      <td>644176</td>\n",
       "      <td>890014</td>\n",
       "      <td>1077831</td>\n",
       "    </tr>\n",
       "    <tr>\n",
       "      <th>2019-06-30</th>\n",
       "      <td>508891</td>\n",
       "      <td>650995</td>\n",
       "      <td>905172</td>\n",
       "      <td>1094935</td>\n",
       "    </tr>\n",
       "    <tr>\n",
       "      <th>2019-09-30</th>\n",
       "      <td>509559</td>\n",
       "      <td>658120</td>\n",
       "      <td>921046</td>\n",
       "      <td>1112734</td>\n",
       "    </tr>\n",
       "  </tbody>\n",
       "</table>\n",
       "</div>"
      ],
      "text/plain": [
       "bedrooms         2       3       4        5\n",
       "saledate                                   \n",
       "2018-09-30  507480  631399  861752  1045546\n",
       "2018-12-31  507833  637650  875549  1061382\n",
       "2019-03-31  508310  644176  890014  1077831\n",
       "2019-06-30  508891  650995  905172  1094935\n",
       "2019-09-30  509559  658120  921046  1112734"
      ]
     },
     "execution_count": 10,
     "metadata": {},
     "output_type": "execute_result"
    }
   ],
   "source": [
    "#Convert forecast data to a dataframe we can use\n",
    "cols = df.columns\n",
    "pred = pd.DataFrame(index=test.index, data=forecast,columns=[cols])\n",
    "pred=pred.astype(int)\n",
    "pred.tail()"
   ]
  },
  {
   "cell_type": "code",
   "execution_count": 26,
   "metadata": {},
   "outputs": [],
   "source": [
    "#Plot actuals (df) and forecast (pred) on the same chart\n",
    "# ax = df.plot()\n",
    "# pred.plot(ax=ax,figsize=(15,5))"
   ]
  },
  {
   "cell_type": "code",
   "execution_count": 12,
   "metadata": {},
   "outputs": [
    {
     "data": {
      "text/plain": [
       "array([0.44721878, 5.17760633, 9.15400419, 8.49827058])"
      ]
     },
     "execution_count": 12,
     "metadata": {},
     "output_type": "execute_result"
    }
   ],
   "source": [
    "#Show percentage difference between the last period of the forecast and actual series. Less is better.\n",
    "((pred.iloc[-1].values-pred.iloc[0].values)/df.iloc[-1].values)*100"
   ]
  },
  {
   "cell_type": "markdown",
   "metadata": {},
   "source": [
    "Can you improve it so it is under 5% for all series without over-fitting the model?"
   ]
  },
  {
   "cell_type": "code",
   "execution_count": 13,
   "metadata": {},
   "outputs": [
    {
     "name": "stdout",
     "output_type": "stream",
     "text": [
      "2 bedrooms 1.027963025803897\n",
      "3 bedrooms 2.3523955523069557\n",
      "4 bedrooms 8.347488048618313\n",
      "5 bedrooms 7.229671356483708\n"
     ]
    }
   ],
   "source": [
    "#Here is the mean absolute percentage error\n",
    "import numpy as np\n",
    "for col in df.columns:\n",
    "    print (str(col) +' bedrooms ' + str(np.mean(np.abs((df[col].iloc[-len(pred):].values - pred[[col]].values) / df[col].iloc[-len(pred):].values)) * 100))"
   ]
  },
  {
   "cell_type": "code",
   "execution_count": 14,
   "metadata": {},
   "outputs": [],
   "source": [
    "import time\n",
    "import datetime"
   ]
  },
  {
   "cell_type": "code",
   "execution_count": 15,
   "metadata": {},
   "outputs": [],
   "source": [
    "with open('test_real_state.txt') as f:\n",
    "    content = f. readlines()"
   ]
  },
  {
   "cell_type": "markdown",
   "metadata": {},
   "source": [
    "**Next** is up to you. What can you do to improve accuracy of this forecast?"
   ]
  },
  {
   "cell_type": "code",
   "execution_count": 16,
   "metadata": {},
   "outputs": [
    {
     "data": {
      "text/plain": [
       "'11/08/2010'"
      ]
     },
     "execution_count": 16,
     "metadata": {},
     "output_type": "execute_result"
    }
   ],
   "source": [
    "def listToString(s):\n",
    " \n",
    "    # initialize an empty string\n",
    "    str1 = \"\"\n",
    " \n",
    "    # traverse in the string\n",
    "    for ele in s:\n",
    "        str1 += ele\n",
    " \n",
    "    # return string\n",
    "    return str1\n",
    "(listToString(content))"
   ]
  },
  {
   "cell_type": "code",
   "execution_count": 22,
   "metadata": {},
   "outputs": [
    {
     "data": {
      "text/plain": [
       "<AxesSubplot:xlabel='saledate'>"
      ]
     },
     "execution_count": 22,
     "metadata": {},
     "output_type": "execute_result"
    }
   ],
   "source": [
    "#Forecast actuals\n",
    "model = VAR(endog=df, freq='Q-DEC')\n",
    "model_fit = model.fit()\n",
    "forecast_period=8\n",
    "prediction = model_fit.forecast(model_fit.endog, steps=forecast_period)\n",
    "cols = df.columns\n",
    "string=listToString(content)\n",
    "element = datetime.datetime.strptime(string,\"%d/%m/%Y\")\n",
    "forecast_index = pd.date_range(start = element , freq ='Q', periods=forecast_period) \n",
    "pred = pd.DataFrame(index=forecast_index, data=prediction,columns=[cols])\n",
    "# ax = df.plot()\n",
    "pred.plot(ax=ax,figsize=(15,5))"
   ]
  },
  {
   "cell_type": "code",
   "execution_count": 18,
   "metadata": {},
   "outputs": [
    {
     "data": {
      "text/plain": [
       "414576.71"
      ]
     },
     "execution_count": 18,
     "metadata": {},
     "output_type": "execute_result"
    }
   ],
   "source": [
    "val=(df.iat[0,1].round(2))\n",
    "val"
   ]
  },
  {
   "cell_type": "code",
   "execution_count": 19,
   "metadata": {},
   "outputs": [],
   "source": [
    "int(val)\n",
    "converted_num = \"{}\".format(val)"
   ]
  },
  {
   "cell_type": "code",
   "execution_count": 20,
   "metadata": {},
   "outputs": [],
   "source": [
    "converted_num=\", \"+converted_num"
   ]
  },
  {
   "cell_type": "code",
   "execution_count": 21,
   "metadata": {},
   "outputs": [],
   "source": [
    "with open(\"final_output.txt\", 'a') as file3:\n",
    "    file3.write(converted_num)"
   ]
  },
  {
   "cell_type": "code",
   "execution_count": null,
   "metadata": {},
   "outputs": [],
   "source": []
  }
 ],
 "metadata": {
  "kernelspec": {
   "display_name": "Python 3",
   "language": "python",
   "name": "python3"
  },
  "language_info": {
   "codemirror_mode": {
    "name": "ipython",
    "version": 3
   },
   "file_extension": ".py",
   "mimetype": "text/x-python",
   "name": "python",
   "nbconvert_exporter": "python",
   "pygments_lexer": "ipython3",
   "version": "3.8.8"
  }
 },
 "nbformat": 4,
 "nbformat_minor": 1
}
