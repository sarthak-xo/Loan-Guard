{
 "cells": [
  {
   "cell_type": "markdown",
   "id": "e1a6f6b1",
   "metadata": {
    "_cell_guid": "b1076dfc-b9ad-4769-8c92-a6c4dae69d19",
    "_uuid": "8f2839f25d086af736a60e9eeb907d3b93b6e0e5",
    "papermill": {
     "duration": 0.056563,
     "end_time": "2022-06-05T04:05:09.275970",
     "exception": false,
     "start_time": "2022-06-05T04:05:09.219407",
     "status": "completed"
    },
    "tags": []
   },
   "source": [
    "## Gold Price - Analysis & Forecasting"
   ]
  },
  {
   "cell_type": "markdown",
   "id": "a17f702a",
   "metadata": {
    "papermill": {
     "duration": 0.05278,
     "end_time": "2022-06-05T04:05:09.700668",
     "exception": false,
     "start_time": "2022-06-05T04:05:09.647888",
     "status": "completed"
    },
    "tags": []
   },
   "source": [
    "## Import libraries <a class=\"anchor\" id=\"section_1.1\"></a>"
   ]
  },
  {
   "cell_type": "code",
   "execution_count": 1,
   "id": "9e9372da",
   "metadata": {
    "execution": {
     "iopub.execute_input": "2022-06-05T04:05:09.813676Z",
     "iopub.status.busy": "2022-06-05T04:05:09.811994Z",
     "iopub.status.idle": "2022-06-05T04:05:11.360923Z",
     "shell.execute_reply": "2022-06-05T04:05:11.360121Z",
     "shell.execute_reply.started": "2021-08-03T14:31:05.159473Z"
    },
    "papermill": {
     "duration": 1.607137,
     "end_time": "2022-06-05T04:05:11.361089",
     "exception": false,
     "start_time": "2022-06-05T04:05:09.753952",
     "status": "completed"
    },
    "tags": []
   },
   "outputs": [],
   "source": [
    "# Import necessary libraries\n",
    "import numpy as np\n",
    "import pandas as pd\n",
    "import seaborn as sns\n",
    "from matplotlib import pyplot as plt\n",
    "\n",
    "# Import model libraries\n",
    "from sklearn.linear_model import LinearRegression\n",
    "from statsmodels.tsa.api import ExponentialSmoothing, SimpleExpSmoothing, Holt"
   ]
  },
  {
   "cell_type": "markdown",
   "id": "52d00b82",
   "metadata": {
    "papermill": {
     "duration": 0.053275,
     "end_time": "2022-06-05T04:05:11.467882",
     "exception": false,
     "start_time": "2022-06-05T04:05:11.414607",
     "status": "completed"
    },
    "tags": []
   },
   "source": [
    "## Import data <a class=\"anchor\" id=\"section_1.2\"></a>"
   ]
  },
  {
   "cell_type": "code",
   "execution_count": 2,
   "id": "9d2ca642",
   "metadata": {},
   "outputs": [
    {
     "data": {
      "text/html": [
       "<div>\n",
       "<style scoped>\n",
       "    .dataframe tbody tr th:only-of-type {\n",
       "        vertical-align: middle;\n",
       "    }\n",
       "\n",
       "    .dataframe tbody tr th {\n",
       "        vertical-align: top;\n",
       "    }\n",
       "\n",
       "    .dataframe thead th {\n",
       "        text-align: right;\n",
       "    }\n",
       "</style>\n",
       "<table border=\"1\" class=\"dataframe\">\n",
       "  <thead>\n",
       "    <tr style=\"text-align: right;\">\n",
       "      <th></th>\n",
       "      <th>Date</th>\n",
       "      <th>Close</th>\n",
       "    </tr>\n",
       "  </thead>\n",
       "  <tbody>\n",
       "    <tr>\n",
       "      <th>0</th>\n",
       "      <td>01-01-2015</td>\n",
       "      <td>1974.40</td>\n",
       "    </tr>\n",
       "    <tr>\n",
       "      <th>1</th>\n",
       "      <td>02-01-2015</td>\n",
       "      <td>2013.20</td>\n",
       "    </tr>\n",
       "    <tr>\n",
       "      <th>2</th>\n",
       "      <td>05-01-2015</td>\n",
       "      <td>1995.90</td>\n",
       "    </tr>\n",
       "    <tr>\n",
       "      <th>3</th>\n",
       "      <td>06-01-2015</td>\n",
       "      <td>1954.20</td>\n",
       "    </tr>\n",
       "    <tr>\n",
       "      <th>4</th>\n",
       "      <td>07-01-2015</td>\n",
       "      <td>1963.55</td>\n",
       "    </tr>\n",
       "  </tbody>\n",
       "</table>\n",
       "</div>"
      ],
      "text/plain": [
       "         Date    Close\n",
       "0  01-01-2015  1974.40\n",
       "1  02-01-2015  2013.20\n",
       "2  05-01-2015  1995.90\n",
       "3  06-01-2015  1954.20\n",
       "4  07-01-2015  1963.55"
      ]
     },
     "execution_count": 2,
     "metadata": {},
     "output_type": "execute_result"
    }
   ],
   "source": [
    "df = pd.read_csv(\"infy_stock.csv\",usecols=['Date', 'Close'])\n",
    "df.head()"
   ]
  },
  {
   "cell_type": "code",
   "execution_count": 3,
   "id": "c0f0dc67",
   "metadata": {},
   "outputs": [],
   "source": [
    "rankings_pd = df\n",
    "   \n",
    "rankings_pd.rename(columns = {'Close':'Price'}, inplace = True)"
   ]
  },
  {
   "cell_type": "code",
   "execution_count": 4,
   "id": "bb607fe9",
   "metadata": {},
   "outputs": [
    {
     "data": {
      "text/html": [
       "<div>\n",
       "<style scoped>\n",
       "    .dataframe tbody tr th:only-of-type {\n",
       "        vertical-align: middle;\n",
       "    }\n",
       "\n",
       "    .dataframe tbody tr th {\n",
       "        vertical-align: top;\n",
       "    }\n",
       "\n",
       "    .dataframe thead th {\n",
       "        text-align: right;\n",
       "    }\n",
       "</style>\n",
       "<table border=\"1\" class=\"dataframe\">\n",
       "  <thead>\n",
       "    <tr style=\"text-align: right;\">\n",
       "      <th></th>\n",
       "      <th>Date</th>\n",
       "      <th>Price</th>\n",
       "    </tr>\n",
       "  </thead>\n",
       "  <tbody>\n",
       "    <tr>\n",
       "      <th>0</th>\n",
       "      <td>01-01-2015</td>\n",
       "      <td>1974.40</td>\n",
       "    </tr>\n",
       "    <tr>\n",
       "      <th>1</th>\n",
       "      <td>02-01-2015</td>\n",
       "      <td>2013.20</td>\n",
       "    </tr>\n",
       "    <tr>\n",
       "      <th>2</th>\n",
       "      <td>05-01-2015</td>\n",
       "      <td>1995.90</td>\n",
       "    </tr>\n",
       "    <tr>\n",
       "      <th>3</th>\n",
       "      <td>06-01-2015</td>\n",
       "      <td>1954.20</td>\n",
       "    </tr>\n",
       "    <tr>\n",
       "      <th>4</th>\n",
       "      <td>07-01-2015</td>\n",
       "      <td>1963.55</td>\n",
       "    </tr>\n",
       "    <tr>\n",
       "      <th>...</th>\n",
       "      <td>...</td>\n",
       "      <td>...</td>\n",
       "    </tr>\n",
       "    <tr>\n",
       "      <th>243</th>\n",
       "      <td>24-12-2015</td>\n",
       "      <td>1096.35</td>\n",
       "    </tr>\n",
       "    <tr>\n",
       "      <th>244</th>\n",
       "      <td>28-12-2015</td>\n",
       "      <td>1104.75</td>\n",
       "    </tr>\n",
       "    <tr>\n",
       "      <th>245</th>\n",
       "      <td>29-12-2015</td>\n",
       "      <td>1104.70</td>\n",
       "    </tr>\n",
       "    <tr>\n",
       "      <th>246</th>\n",
       "      <td>30-12-2015</td>\n",
       "      <td>1086.30</td>\n",
       "    </tr>\n",
       "    <tr>\n",
       "      <th>247</th>\n",
       "      <td>31-12-2015</td>\n",
       "      <td>1105.40</td>\n",
       "    </tr>\n",
       "  </tbody>\n",
       "</table>\n",
       "<p>248 rows × 2 columns</p>\n",
       "</div>"
      ],
      "text/plain": [
       "           Date    Price\n",
       "0    01-01-2015  1974.40\n",
       "1    02-01-2015  2013.20\n",
       "2    05-01-2015  1995.90\n",
       "3    06-01-2015  1954.20\n",
       "4    07-01-2015  1963.55\n",
       "..          ...      ...\n",
       "243  24-12-2015  1096.35\n",
       "244  28-12-2015  1104.75\n",
       "245  29-12-2015  1104.70\n",
       "246  30-12-2015  1086.30\n",
       "247  31-12-2015  1105.40\n",
       "\n",
       "[248 rows x 2 columns]"
      ]
     },
     "execution_count": 4,
     "metadata": {},
     "output_type": "execute_result"
    }
   ],
   "source": [
    "df=rankings_pd\n",
    "df"
   ]
  },
  {
   "cell_type": "code",
   "execution_count": 5,
   "id": "b508a747",
   "metadata": {
    "execution": {
     "iopub.execute_input": "2022-06-05T04:05:11.578079Z",
     "iopub.status.busy": "2022-06-05T04:05:11.577150Z",
     "iopub.status.idle": "2022-06-05T04:05:11.612218Z",
     "shell.execute_reply": "2022-06-05T04:05:11.612980Z",
     "shell.execute_reply.started": "2021-08-03T14:31:07.00407Z"
    },
    "papermill": {
     "duration": 0.092024,
     "end_time": "2022-06-05T04:05:11.613155",
     "exception": false,
     "start_time": "2022-06-05T04:05:11.521131",
     "status": "completed"
    },
    "tags": []
   },
   "outputs": [
    {
     "data": {
      "text/html": [
       "<div>\n",
       "<style scoped>\n",
       "    .dataframe tbody tr th:only-of-type {\n",
       "        vertical-align: middle;\n",
       "    }\n",
       "\n",
       "    .dataframe tbody tr th {\n",
       "        vertical-align: top;\n",
       "    }\n",
       "\n",
       "    .dataframe thead th {\n",
       "        text-align: right;\n",
       "    }\n",
       "</style>\n",
       "<table border=\"1\" class=\"dataframe\">\n",
       "  <thead>\n",
       "    <tr style=\"text-align: right;\">\n",
       "      <th></th>\n",
       "      <th>Date</th>\n",
       "      <th>Price</th>\n",
       "    </tr>\n",
       "  </thead>\n",
       "  <tbody>\n",
       "    <tr>\n",
       "      <th>0</th>\n",
       "      <td>01-01-2015</td>\n",
       "      <td>1974.40</td>\n",
       "    </tr>\n",
       "    <tr>\n",
       "      <th>1</th>\n",
       "      <td>02-01-2015</td>\n",
       "      <td>2013.20</td>\n",
       "    </tr>\n",
       "    <tr>\n",
       "      <th>2</th>\n",
       "      <td>05-01-2015</td>\n",
       "      <td>1995.90</td>\n",
       "    </tr>\n",
       "    <tr>\n",
       "      <th>3</th>\n",
       "      <td>06-01-2015</td>\n",
       "      <td>1954.20</td>\n",
       "    </tr>\n",
       "    <tr>\n",
       "      <th>4</th>\n",
       "      <td>07-01-2015</td>\n",
       "      <td>1963.55</td>\n",
       "    </tr>\n",
       "  </tbody>\n",
       "</table>\n",
       "</div>"
      ],
      "text/plain": [
       "         Date    Price\n",
       "0  01-01-2015  1974.40\n",
       "1  02-01-2015  2013.20\n",
       "2  05-01-2015  1995.90\n",
       "3  06-01-2015  1954.20\n",
       "4  07-01-2015  1963.55"
      ]
     },
     "execution_count": 5,
     "metadata": {},
     "output_type": "execute_result"
    }
   ],
   "source": [
    "# Import the price data\n",
    "df.head()"
   ]
  },
  {
   "cell_type": "code",
   "execution_count": 6,
   "id": "6999807c",
   "metadata": {},
   "outputs": [
    {
     "data": {
      "text/html": [
       "<div>\n",
       "<style scoped>\n",
       "    .dataframe tbody tr th:only-of-type {\n",
       "        vertical-align: middle;\n",
       "    }\n",
       "\n",
       "    .dataframe tbody tr th {\n",
       "        vertical-align: top;\n",
       "    }\n",
       "\n",
       "    .dataframe thead th {\n",
       "        text-align: right;\n",
       "    }\n",
       "</style>\n",
       "<table border=\"1\" class=\"dataframe\">\n",
       "  <thead>\n",
       "    <tr style=\"text-align: right;\">\n",
       "      <th></th>\n",
       "      <th>Date</th>\n",
       "      <th>Price</th>\n",
       "    </tr>\n",
       "  </thead>\n",
       "  <tbody>\n",
       "    <tr>\n",
       "      <th>243</th>\n",
       "      <td>24-12-2015</td>\n",
       "      <td>1096.35</td>\n",
       "    </tr>\n",
       "    <tr>\n",
       "      <th>244</th>\n",
       "      <td>28-12-2015</td>\n",
       "      <td>1104.75</td>\n",
       "    </tr>\n",
       "    <tr>\n",
       "      <th>245</th>\n",
       "      <td>29-12-2015</td>\n",
       "      <td>1104.70</td>\n",
       "    </tr>\n",
       "    <tr>\n",
       "      <th>246</th>\n",
       "      <td>30-12-2015</td>\n",
       "      <td>1086.30</td>\n",
       "    </tr>\n",
       "    <tr>\n",
       "      <th>247</th>\n",
       "      <td>31-12-2015</td>\n",
       "      <td>1105.40</td>\n",
       "    </tr>\n",
       "  </tbody>\n",
       "</table>\n",
       "</div>"
      ],
      "text/plain": [
       "           Date    Price\n",
       "243  24-12-2015  1096.35\n",
       "244  28-12-2015  1104.75\n",
       "245  29-12-2015  1104.70\n",
       "246  30-12-2015  1086.30\n",
       "247  31-12-2015  1105.40"
      ]
     },
     "execution_count": 6,
     "metadata": {},
     "output_type": "execute_result"
    }
   ],
   "source": [
    "df.tail()"
   ]
  },
  {
   "cell_type": "code",
   "execution_count": 7,
   "id": "f1d2820a",
   "metadata": {
    "execution": {
     "iopub.execute_input": "2022-06-05T04:05:11.725871Z",
     "iopub.status.busy": "2022-06-05T04:05:11.724974Z",
     "iopub.status.idle": "2022-06-05T04:05:11.730495Z",
     "shell.execute_reply": "2022-06-05T04:05:11.730999Z",
     "shell.execute_reply.started": "2021-08-03T14:31:07.045417Z"
    },
    "papermill": {
     "duration": 0.063233,
     "end_time": "2022-06-05T04:05:11.731150",
     "exception": false,
     "start_time": "2022-06-05T04:05:11.667917",
     "status": "completed"
    },
    "tags": []
   },
   "outputs": [
    {
     "data": {
      "text/plain": [
       "(248, 2)"
      ]
     },
     "execution_count": 7,
     "metadata": {},
     "output_type": "execute_result"
    }
   ],
   "source": [
    "df.shape"
   ]
  },
  {
   "cell_type": "markdown",
   "id": "f174c1ca",
   "metadata": {
    "papermill": {
     "duration": 0.056202,
     "end_time": "2022-06-05T04:05:11.841214",
     "exception": false,
     "start_time": "2022-06-05T04:05:11.785012",
     "status": "completed"
    },
    "tags": []
   },
   "source": [
    "# Exploratory Data Analysis <a class=\"anchor\" id=\"section2\"></a>"
   ]
  },
  {
   "cell_type": "code",
   "execution_count": 8,
   "id": "9dbf6a60",
   "metadata": {
    "execution": {
     "iopub.execute_input": "2022-06-05T04:05:12.064919Z",
     "iopub.status.busy": "2022-06-05T04:05:12.064254Z",
     "iopub.status.idle": "2022-06-05T04:05:12.066918Z",
     "shell.execute_reply": "2022-06-05T04:05:12.067349Z",
     "shell.execute_reply.started": "2021-08-03T14:31:07.054383Z"
    },
    "papermill": {
     "duration": 0.064895,
     "end_time": "2022-06-05T04:05:12.067530",
     "exception": false,
     "start_time": "2022-06-05T04:05:12.002635",
     "status": "completed"
    },
    "tags": []
   },
   "outputs": [
    {
     "name": "stdout",
     "output_type": "stream",
     "text": [
      "Date range of gold prices available from - 01-01-2015 to 31-12-2015\n"
     ]
    }
   ],
   "source": [
    "print(f\"Date range of gold prices available from - {df.loc[:,'Date'][0]} to {df.loc[:,'Date'][len(df)-1]}\")"
   ]
  },
  {
   "cell_type": "code",
   "execution_count": 9,
   "id": "6677956c",
   "metadata": {
    "execution": {
     "iopub.execute_input": "2022-06-05T04:05:12.197063Z",
     "iopub.status.busy": "2022-06-05T04:05:12.189086Z",
     "iopub.status.idle": "2022-06-05T04:05:12.200020Z",
     "shell.execute_reply": "2022-06-05T04:05:12.200478Z",
     "shell.execute_reply.started": "2021-08-03T14:31:07.070757Z"
    },
    "papermill": {
     "duration": 0.078904,
     "end_time": "2022-06-05T04:05:12.200636",
     "exception": false,
     "start_time": "2022-06-05T04:05:12.121732",
     "status": "completed"
    },
    "tags": []
   },
   "outputs": [
    {
     "data": {
      "text/plain": [
       "DatetimeIndex(['2015-01-01', '2015-01-02', '2015-01-03', '2015-01-04',\n",
       "               '2015-01-05', '2015-01-06', '2015-01-07', '2015-01-08',\n",
       "               '2015-01-09', '2015-01-10',\n",
       "               ...\n",
       "               '2015-08-27', '2015-08-28', '2015-08-29', '2015-08-30',\n",
       "               '2015-08-31', '2015-09-01', '2015-09-02', '2015-09-03',\n",
       "               '2015-09-04', '2015-09-05'],\n",
       "              dtype='datetime64[ns]', length=248, freq='D')"
      ]
     },
     "execution_count": 9,
     "metadata": {},
     "output_type": "execute_result"
    }
   ],
   "source": [
    "date = pd.date_range(start='01-01-2015', end='09-05-2015', freq='D')\n",
    "date"
   ]
  },
  {
   "cell_type": "code",
   "execution_count": 10,
   "id": "6c517bd9",
   "metadata": {
    "execution": {
     "iopub.execute_input": "2022-06-05T04:05:12.328279Z",
     "iopub.status.busy": "2022-06-05T04:05:12.327355Z",
     "iopub.status.idle": "2022-06-05T04:05:12.343317Z",
     "shell.execute_reply": "2022-06-05T04:05:12.344032Z",
     "shell.execute_reply.started": "2021-08-03T14:31:07.109398Z"
    },
    "papermill": {
     "duration": 0.089074,
     "end_time": "2022-06-05T04:05:12.344271",
     "exception": false,
     "start_time": "2022-06-05T04:05:12.255197",
     "status": "completed"
    },
    "tags": []
   },
   "outputs": [
    {
     "data": {
      "text/html": [
       "<div>\n",
       "<style scoped>\n",
       "    .dataframe tbody tr th:only-of-type {\n",
       "        vertical-align: middle;\n",
       "    }\n",
       "\n",
       "    .dataframe tbody tr th {\n",
       "        vertical-align: top;\n",
       "    }\n",
       "\n",
       "    .dataframe thead th {\n",
       "        text-align: right;\n",
       "    }\n",
       "</style>\n",
       "<table border=\"1\" class=\"dataframe\">\n",
       "  <thead>\n",
       "    <tr style=\"text-align: right;\">\n",
       "      <th></th>\n",
       "      <th>Price</th>\n",
       "    </tr>\n",
       "    <tr>\n",
       "      <th>month</th>\n",
       "      <th></th>\n",
       "    </tr>\n",
       "  </thead>\n",
       "  <tbody>\n",
       "    <tr>\n",
       "      <th>2015-01-01</th>\n",
       "      <td>1974.40</td>\n",
       "    </tr>\n",
       "    <tr>\n",
       "      <th>2015-01-02</th>\n",
       "      <td>2013.20</td>\n",
       "    </tr>\n",
       "    <tr>\n",
       "      <th>2015-01-03</th>\n",
       "      <td>1995.90</td>\n",
       "    </tr>\n",
       "    <tr>\n",
       "      <th>2015-01-04</th>\n",
       "      <td>1954.20</td>\n",
       "    </tr>\n",
       "    <tr>\n",
       "      <th>2015-01-05</th>\n",
       "      <td>1963.55</td>\n",
       "    </tr>\n",
       "  </tbody>\n",
       "</table>\n",
       "</div>"
      ],
      "text/plain": [
       "              Price\n",
       "month              \n",
       "2015-01-01  1974.40\n",
       "2015-01-02  2013.20\n",
       "2015-01-03  1995.90\n",
       "2015-01-04  1954.20\n",
       "2015-01-05  1963.55"
      ]
     },
     "execution_count": 10,
     "metadata": {},
     "output_type": "execute_result"
    }
   ],
   "source": [
    "df['month'] = date\n",
    "df.drop('Date',axis=1,inplace=True)\n",
    "df = df.set_index('month')\n",
    "df.head()"
   ]
  },
  {
   "cell_type": "code",
   "execution_count": 11,
   "id": "c1473b81",
   "metadata": {
    "execution": {
     "iopub.execute_input": "2022-06-05T04:05:12.467829Z",
     "iopub.status.busy": "2022-06-05T04:05:12.467251Z",
     "iopub.status.idle": "2022-06-05T04:05:12.873178Z",
     "shell.execute_reply": "2022-06-05T04:05:12.872731Z",
     "shell.execute_reply.started": "2021-08-03T14:31:07.128088Z"
    },
    "papermill": {
     "duration": 0.462703,
     "end_time": "2022-06-05T04:05:12.873304",
     "exception": false,
     "start_time": "2022-06-05T04:05:12.410601",
     "status": "completed"
    },
    "tags": []
   },
   "outputs": [
    {
     "data": {
      "image/png": "[encoded data removed]",
      "text/plain": [
       "<Figure size 1440x576 with 1 Axes>"
      ]
     },
     "metadata": {
      "needs_background": "light"
     },
     "output_type": "display_data"
    }
   ],
   "source": [
    "df.plot(figsize=(20,8))\n",
    "plt.title(\"Gold price (Monthly) since 1979\")\n",
    "plt.xlabel(\"Months\")\n",
    "plt.ylabel(\"Price\")\n",
    "plt.grid();"
   ]
  },
  {
   "cell_type": "code",
   "execution_count": 12,
   "id": "b0a1878c",
   "metadata": {
    "execution": {
     "iopub.execute_input": "2022-06-05T04:05:12.991519Z",
     "iopub.status.busy": "2022-06-05T04:05:12.990835Z",
     "iopub.status.idle": "2022-06-05T04:05:13.005631Z",
     "shell.execute_reply": "2022-06-05T04:05:13.006144Z",
     "shell.execute_reply.started": "2021-08-03T14:31:07.603075Z"
    },
    "papermill": {
     "duration": 0.076164,
     "end_time": "2022-06-05T04:05:13.006311",
     "exception": false,
     "start_time": "2022-06-05T04:05:12.930147",
     "status": "completed"
    },
    "tags": []
   },
   "outputs": [
    {
     "data": {
      "text/html": [
       "<div>\n",
       "<style scoped>\n",
       "    .dataframe tbody tr th:only-of-type {\n",
       "        vertical-align: middle;\n",
       "    }\n",
       "\n",
       "    .dataframe tbody tr th {\n",
       "        vertical-align: top;\n",
       "    }\n",
       "\n",
       "    .dataframe thead th {\n",
       "        text-align: right;\n",
       "    }\n",
       "</style>\n",
       "<table border=\"1\" class=\"dataframe\">\n",
       "  <thead>\n",
       "    <tr style=\"text-align: right;\">\n",
       "      <th></th>\n",
       "      <th>Price</th>\n",
       "    </tr>\n",
       "  </thead>\n",
       "  <tbody>\n",
       "    <tr>\n",
       "      <th>count</th>\n",
       "      <td>248.000</td>\n",
       "    </tr>\n",
       "    <tr>\n",
       "      <th>mean</th>\n",
       "      <td>1547.978</td>\n",
       "    </tr>\n",
       "    <tr>\n",
       "      <th>std</th>\n",
       "      <td>529.468</td>\n",
       "    </tr>\n",
       "    <tr>\n",
       "      <th>min</th>\n",
       "      <td>937.500</td>\n",
       "    </tr>\n",
       "    <tr>\n",
       "      <th>25%</th>\n",
       "      <td>1085.912</td>\n",
       "    </tr>\n",
       "    <tr>\n",
       "      <th>50%</th>\n",
       "      <td>1149.325</td>\n",
       "    </tr>\n",
       "    <tr>\n",
       "      <th>75%</th>\n",
       "      <td>2125.312</td>\n",
       "    </tr>\n",
       "    <tr>\n",
       "      <th>max</th>\n",
       "      <td>2324.700</td>\n",
       "    </tr>\n",
       "  </tbody>\n",
       "</table>\n",
       "</div>"
      ],
      "text/plain": [
       "          Price\n",
       "count   248.000\n",
       "mean   1547.978\n",
       "std     529.468\n",
       "min     937.500\n",
       "25%    1085.912\n",
       "50%    1149.325\n",
       "75%    2125.312\n",
       "max    2324.700"
      ]
     },
     "execution_count": 12,
     "metadata": {},
     "output_type": "execute_result"
    }
   ],
   "source": [
    "round(df.describe(),3)"
   ]
  },
  {
   "cell_type": "markdown",
   "id": "4bad812e",
   "metadata": {
    "papermill": {
     "duration": 0.057019,
     "end_time": "2022-06-05T04:05:13.233870",
     "exception": false,
     "start_time": "2022-06-05T04:05:13.176851",
     "status": "completed"
    },
    "tags": []
   },
   "source": [
    "## Visual Analysis <a class=\"anchor\" id=\"section2.2\"></a>"
   ]
  },
  {
   "cell_type": "code",
   "execution_count": 13,
   "id": "835a254c",
   "metadata": {
    "execution": {
     "iopub.execute_input": "2022-06-05T04:05:13.350923Z",
     "iopub.status.busy": "2022-06-05T04:05:13.350362Z",
     "iopub.status.idle": "2022-06-05T04:05:15.191392Z",
     "shell.execute_reply": "2022-06-05T04:05:15.190897Z",
     "shell.execute_reply.started": "2021-08-03T14:31:07.626661Z"
    },
    "papermill": {
     "duration": 1.900611,
     "end_time": "2022-06-05T04:05:15.191544",
     "exception": false,
     "start_time": "2022-06-05T04:05:13.290933",
     "status": "completed"
    },
    "tags": []
   },
   "outputs": [
    {
     "data": {
      "image/png": "[encoded data removed]",
      "text/plain": [
       "<Figure size 1800x576 with 1 Axes>"
      ]
     },
     "metadata": {
      "needs_background": "light"
     },
     "output_type": "display_data"
    }
   ],
   "source": [
    "_, ax = plt.subplots(figsize=(25,8))\n",
    "sns.boxplot(x = df.index.year,y = df.values[:,0],ax=ax)\n",
    "plt.title(\"Gold price (Monthly) since 1979\")\n",
    "plt.xlabel(\"Year\")\n",
    "plt.ylabel(\"Price\")\n",
    "plt.xticks(rotation=90)\n",
    "plt.grid();"
   ]
  },
  {
   "cell_type": "code",
   "execution_count": 14,
   "id": "fbcab9ef",
   "metadata": {
    "execution": {
     "iopub.execute_input": "2022-06-05T04:05:15.332933Z",
     "iopub.status.busy": "2022-06-05T04:05:15.331993Z",
     "iopub.status.idle": "2022-06-05T04:05:15.683085Z",
     "shell.execute_reply": "2022-06-05T04:05:15.683495Z",
     "shell.execute_reply.started": "2021-08-03T14:31:09.779231Z"
    },
    "papermill": {
     "duration": 0.433817,
     "end_time": "2022-06-05T04:05:15.683663",
     "exception": false,
     "start_time": "2022-06-05T04:05:15.249846",
     "status": "completed"
    },
    "tags": []
   },
   "outputs": [
    {
     "data": {
      "image/png": "[encoded data removed]",
      "text/plain": [
       "<Figure size 1584x576 with 1 Axes>"
      ]
     },
     "metadata": {
      "needs_background": "light"
     },
     "output_type": "display_data"
    }
   ],
   "source": [
    "_, ax = plt.subplots(figsize=(22,8))\n",
    "sns.boxplot(x = df.index.month_name(),y = df.values[:,0],ax=ax)\n",
    "plt.title(\"Gold price (Monthly) since 1979\")\n",
    "plt.xlabel(\"Months\")\n",
    "plt.ylabel(\"Price\")\n",
    "plt.grid();"
   ]
  },
  {
   "cell_type": "code",
   "execution_count": 15,
   "id": "e86cb3ea",
   "metadata": {
    "execution": {
     "iopub.execute_input": "2022-06-05T04:05:15.812624Z",
     "iopub.status.busy": "2022-06-05T04:05:15.811015Z",
     "iopub.status.idle": "2022-06-05T04:05:16.213337Z",
     "shell.execute_reply": "2022-06-05T04:05:16.213791Z",
     "shell.execute_reply.started": "2021-08-03T14:31:10.222205Z"
    },
    "papermill": {
     "duration": 0.469017,
     "end_time": "2022-06-05T04:05:16.213951",
     "exception": false,
     "start_time": "2022-06-05T04:05:15.744934",
     "status": "completed"
    },
    "tags": []
   },
   "outputs": [],
   "source": [
    "# from statsmodels.graphics.tsaplots import month_plot\n",
    "\n",
    "# fig, ax = plt.subplots(figsize=(22,8))\n",
    "\n",
    "# month_plot(df,ylabel='Stocks price',ax=ax)\n",
    "# plt.title(\"Gold price (Monthly) since 1979\")\n",
    "# plt.xlabel(\"Months\")\n",
    "# plt.ylabel(\"Price\")\n",
    "# plt.grid();"
   ]
  },
  {
   "cell_type": "code",
   "execution_count": 16,
   "id": "f822fa2e",
   "metadata": {
    "execution": {
     "iopub.execute_input": "2022-06-05T04:05:16.339214Z",
     "iopub.status.busy": "2022-06-05T04:05:16.338654Z",
     "iopub.status.idle": "2022-06-05T04:05:16.551926Z",
     "shell.execute_reply": "2022-06-05T04:05:16.552327Z",
     "shell.execute_reply.started": "2021-08-03T14:31:10.673113Z"
    },
    "papermill": {
     "duration": 0.276845,
     "end_time": "2022-06-05T04:05:16.552509",
     "exception": false,
     "start_time": "2022-06-05T04:05:16.275664",
     "status": "completed"
    },
    "tags": []
   },
   "outputs": [],
   "source": [
    "# # Average gold price per year trend since 1979\n",
    "# df_yearly_sum = df.resample('A').mean()\n",
    "# df_yearly_sum.plot();\n",
    "# plt.title(\"Average Gold price (Yearly) since 1979\")\n",
    "# plt.xlabel(\"Year\")\n",
    "# plt.ylabel(\"Price\")\n",
    "# plt.grid()"
   ]
  },
  {
   "cell_type": "code",
   "execution_count": 17,
   "id": "81d95810",
   "metadata": {
    "execution": {
     "iopub.execute_input": "2022-06-05T04:05:16.679519Z",
     "iopub.status.busy": "2022-06-05T04:05:16.678937Z",
     "iopub.status.idle": "2022-06-05T04:05:16.891840Z",
     "shell.execute_reply": "2022-06-05T04:05:16.891200Z",
     "shell.execute_reply.started": "2021-08-03T14:31:10.932967Z"
    },
    "papermill": {
     "duration": 0.277241,
     "end_time": "2022-06-05T04:05:16.891981",
     "exception": false,
     "start_time": "2022-06-05T04:05:16.614740",
     "status": "completed"
    },
    "tags": []
   },
   "outputs": [],
   "source": [
    "# # Average gold price per quarter trend since 1979\n",
    "# df_quarterly_sum = df.resample('Q').mean()\n",
    "# df_quarterly_sum.plot();\n",
    "# plt.title(\"Average Gold price (Quarterly) since 1979\")\n",
    "# plt.xlabel(\"Quarter\")\n",
    "# plt.ylabel(\"Price\")\n",
    "# plt.grid()"
   ]
  },
  {
   "cell_type": "code",
   "execution_count": 18,
   "id": "45382a56",
   "metadata": {
    "execution": {
     "iopub.execute_input": "2022-06-05T04:05:17.024287Z",
     "iopub.status.busy": "2022-06-05T04:05:17.023712Z",
     "iopub.status.idle": "2022-06-05T04:05:17.236790Z",
     "shell.execute_reply": "2022-06-05T04:05:17.237219Z",
     "shell.execute_reply.started": "2021-08-03T14:31:11.19153Z"
    },
    "papermill": {
     "duration": 0.280939,
     "end_time": "2022-06-05T04:05:17.237377",
     "exception": false,
     "start_time": "2022-06-05T04:05:16.956438",
     "status": "completed"
    },
    "tags": []
   },
   "outputs": [],
   "source": [
    "# Average gold price per decade trend since 1979\n",
    "# df_decade_sum = df.resample('10Y').mean()\n",
    "# df_decade_sum.plot();\n",
    "# plt.title(\"Average Gold price (Decade) since 1979\")\n",
    "# plt.xlabel(\"Decade\")\n",
    "# plt.ylabel(\"Price\")\n",
    "# plt.grid()"
   ]
  },
  {
   "cell_type": "markdown",
   "id": "edd318ec",
   "metadata": {
    "papermill": {
     "duration": 0.063688,
     "end_time": "2022-06-05T04:05:17.364852",
     "exception": false,
     "start_time": "2022-06-05T04:05:17.301164",
     "status": "completed"
    },
    "tags": []
   },
   "source": [
    "### Analysis in Coefficient of variation"
   ]
  },
  {
   "cell_type": "code",
   "execution_count": 19,
   "id": "5506778a",
   "metadata": {
    "execution": {
     "iopub.execute_input": "2022-06-05T04:05:17.624395Z",
     "iopub.status.busy": "2022-06-05T04:05:17.623837Z",
     "iopub.status.idle": "2022-06-05T04:05:17.656044Z",
     "shell.execute_reply": "2022-06-05T04:05:17.656626Z",
     "shell.execute_reply.started": "2021-08-03T14:53:54.433717Z"
    },
    "papermill": {
     "duration": 0.099693,
     "end_time": "2022-06-05T04:05:17.656796",
     "exception": false,
     "start_time": "2022-06-05T04:05:17.557103",
     "status": "completed"
    },
    "tags": []
   },
   "outputs": [
    {
     "data": {
      "text/html": [
       "<div>\n",
       "<style scoped>\n",
       "    .dataframe tbody tr th:only-of-type {\n",
       "        vertical-align: middle;\n",
       "    }\n",
       "\n",
       "    .dataframe tbody tr th {\n",
       "        vertical-align: top;\n",
       "    }\n",
       "\n",
       "    .dataframe thead th {\n",
       "        text-align: right;\n",
       "    }\n",
       "</style>\n",
       "<table border=\"1\" class=\"dataframe\">\n",
       "  <thead>\n",
       "    <tr style=\"text-align: right;\">\n",
       "      <th></th>\n",
       "      <th>Mean</th>\n",
       "      <th>Std</th>\n",
       "      <th>CoV_pct</th>\n",
       "    </tr>\n",
       "    <tr>\n",
       "      <th>month</th>\n",
       "      <th></th>\n",
       "      <th></th>\n",
       "      <th></th>\n",
       "    </tr>\n",
       "  </thead>\n",
       "  <tbody>\n",
       "    <tr>\n",
       "      <th>2015</th>\n",
       "      <td>1547.978226</td>\n",
       "      <td>529.468189</td>\n",
       "      <td>34.2</td>\n",
       "    </tr>\n",
       "  </tbody>\n",
       "</table>\n",
       "</div>"
      ],
      "text/plain": [
       "              Mean         Std  CoV_pct\n",
       "month                                  \n",
       "2015   1547.978226  529.468189     34.2"
      ]
     },
     "execution_count": 19,
     "metadata": {},
     "output_type": "execute_result"
    }
   ],
   "source": [
    "# Coefficient of variation in price\n",
    "df_1 = df.groupby(df.index.year).mean().rename(columns={'Price':'Mean'})\n",
    "df_1 = df_1.merge(df.groupby(df.index.year).std().rename(columns={'Price':'Std'}),left_index=True,right_index=True)\n",
    "df_1['CoV_pct'] = ((df_1['Std']/df_1['Mean'])*100).round(2)\n",
    "df_1.head()"
   ]
  },
  {
   "cell_type": "code",
   "execution_count": 20,
   "id": "16dc3319",
   "metadata": {
    "execution": {
     "iopub.execute_input": "2022-06-05T04:05:17.789140Z",
     "iopub.status.busy": "2022-06-05T04:05:17.788530Z",
     "iopub.status.idle": "2022-06-05T04:05:17.990713Z",
     "shell.execute_reply": "2022-06-05T04:05:17.990180Z",
     "shell.execute_reply.started": "2021-08-03T14:56:15.090626Z"
    },
    "papermill": {
     "duration": 0.26963,
     "end_time": "2022-06-05T04:05:17.990848",
     "exception": false,
     "start_time": "2022-06-05T04:05:17.721218",
     "status": "completed"
    },
    "tags": []
   },
   "outputs": [
    {
     "data": {
      "image/png": "[encoded data removed]",
      "text/plain": [
       "<Figure size 1080x720 with 1 Axes>"
      ]
     },
     "metadata": {
      "needs_background": "light"
     },
     "output_type": "display_data"
    }
   ],
   "source": [
    "# Average gold price per year trend since 1979\n",
    "fig, ax = plt.subplots(figsize=(15,10))\n",
    "df_1['CoV_pct'].plot();\n",
    "plt.title(\"Average Gold price (Yearly) since 1979\")\n",
    "plt.xlabel(\"Year\")\n",
    "plt.ylabel(\"Coefficient of Variation in %\")\n",
    "plt.grid()"
   ]
  },
  {
   "cell_type": "markdown",
   "id": "7ce3c1d1",
   "metadata": {
    "papermill": {
     "duration": 0.066801,
     "end_time": "2022-06-05T04:05:18.124397",
     "exception": false,
     "start_time": "2022-06-05T04:05:18.057596",
     "status": "completed"
    },
    "tags": []
   },
   "source": [
    "**Inference**\n",
    "\n",
    "1. The CV value reached its highest in year 1979, which could have made the asset as highly risky\n",
    "2. But in 2017, the CV value is lowest, which makes the asset viable for good investment"
   ]
  },
  {
   "cell_type": "markdown",
   "id": "79cf7020",
   "metadata": {
    "papermill": {
     "duration": 0.066189,
     "end_time": "2022-06-05T04:05:18.257451",
     "exception": false,
     "start_time": "2022-06-05T04:05:18.191262",
     "status": "completed"
    },
    "tags": []
   },
   "source": [
    "# Time Series - Forecasting models <a class=\"anchor\" id=\"section3\"></a>"
   ]
  },
  {
   "cell_type": "markdown",
   "id": "f5fed20d",
   "metadata": {
    "papermill": {
     "duration": 0.066107,
     "end_time": "2022-06-05T04:05:18.389799",
     "exception": false,
     "start_time": "2022-06-05T04:05:18.323692",
     "status": "completed"
    },
    "tags": []
   },
   "source": [
    "## Train - Test split to build Time series forecasting models <a class=\"anchor\" id=\"section3.1\"></a>"
   ]
  },
  {
   "cell_type": "code",
   "execution_count": 21,
   "id": "85cd0bfc",
   "metadata": {
    "execution": {
     "iopub.execute_input": "2022-06-05T04:05:18.526726Z",
     "iopub.status.busy": "2022-06-05T04:05:18.526116Z",
     "iopub.status.idle": "2022-06-05T04:05:18.529904Z",
     "shell.execute_reply": "2022-06-05T04:05:18.530416Z",
     "shell.execute_reply.started": "2021-08-03T14:31:11.453561Z"
    },
    "papermill": {
     "duration": 0.074657,
     "end_time": "2022-06-05T04:05:18.530594",
     "exception": false,
     "start_time": "2022-06-05T04:05:18.455937",
     "status": "completed"
    },
    "tags": []
   },
   "outputs": [],
   "source": [
    "train    =   df[df.index.month <= 7] \n",
    "test     =   df[df.index.month > 7]"
   ]
  },
  {
   "cell_type": "code",
   "execution_count": 22,
   "id": "a072e437",
   "metadata": {
    "execution": {
     "iopub.execute_input": "2022-06-05T04:05:18.664623Z",
     "iopub.status.busy": "2022-06-05T04:05:18.664064Z",
     "iopub.status.idle": "2022-06-05T04:05:18.669827Z",
     "shell.execute_reply": "2022-06-05T04:05:18.669303Z",
     "shell.execute_reply.started": "2021-08-03T14:31:11.476192Z"
    },
    "papermill": {
     "duration": 0.073546,
     "end_time": "2022-06-05T04:05:18.669955",
     "exception": false,
     "start_time": "2022-06-05T04:05:18.596409",
     "status": "completed"
    },
    "tags": []
   },
   "outputs": [
    {
     "name": "stdout",
     "output_type": "stream",
     "text": [
      "(212, 1)\n",
      "(36, 1)\n"
     ]
    }
   ],
   "source": [
    "print(train.shape)\n",
    "print(test.shape)"
   ]
  },
  {
   "cell_type": "code",
   "execution_count": 41,
   "id": "c57e4f2c",
   "metadata": {
    "execution": {
     "iopub.execute_input": "2022-06-05T04:05:18.839733Z",
     "iopub.status.busy": "2022-06-05T04:05:18.832360Z",
     "iopub.status.idle": "2022-06-05T04:05:19.024566Z",
     "shell.execute_reply": "2022-06-05T04:05:19.024078Z",
     "shell.execute_reply.started": "2021-08-03T14:31:11.48289Z"
    },
    "papermill": {
     "duration": 0.288117,
     "end_time": "2022-06-05T04:05:19.024699",
     "exception": false,
     "start_time": "2022-06-05T04:05:18.736582",
     "status": "completed"
    },
    "tags": []
   },
   "outputs": [],
   "source": [
    "# train['Price'].plot(figsize=(13,5), fontsize=14)\n",
    "# test['Price'].plot(figsize=(13,5), fontsize=14)\n",
    "# plt.grid()\n",
    "# plt.legend(['Training Data','Test Data'])\n",
    "# plt.show()"
   ]
  },
  {
   "cell_type": "code",
   "execution_count": 24,
   "id": "3821b315",
   "metadata": {
    "execution": {
     "iopub.execute_input": "2022-06-05T04:05:19.302361Z",
     "iopub.status.busy": "2022-06-05T04:05:19.301754Z",
     "iopub.status.idle": "2022-06-05T04:05:19.306004Z",
     "shell.execute_reply": "2022-06-05T04:05:19.305408Z",
     "shell.execute_reply.started": "2021-08-03T14:31:11.74164Z"
    },
    "papermill": {
     "duration": 0.07741,
     "end_time": "2022-06-05T04:05:19.306131",
     "exception": false,
     "start_time": "2022-06-05T04:05:19.228721",
     "status": "completed"
    },
    "tags": []
   },
   "outputs": [
    {
     "data": {
      "text/plain": [
       "(212, 36)"
      ]
     },
     "execution_count": 24,
     "metadata": {},
     "output_type": "execute_result"
    }
   ],
   "source": [
    "train_time = [i+1 for i in range(len(train))]\n",
    "test_time = [i+len(train)+1 for i in range(len(test))]\n",
    "len(train_time), len(test_time)"
   ]
  },
  {
   "cell_type": "markdown",
   "id": "809c7c75",
   "metadata": {
    "papermill": {
     "duration": 0.079167,
     "end_time": "2022-06-05T04:05:24.886837",
     "exception": false,
     "start_time": "2022-06-05T04:05:24.807670",
     "status": "completed"
    },
    "tags": []
   },
   "source": [
    "### Simple Exponential Smoothing <a class=\"anchor\" id=\"section3.6\"></a>"
   ]
  },
  {
   "cell_type": "code",
   "execution_count": 25,
   "id": "2db7b8af",
   "metadata": {
    "execution": {
     "iopub.execute_input": "2022-06-05T04:05:25.051219Z",
     "iopub.status.busy": "2022-06-05T04:05:25.050306Z",
     "iopub.status.idle": "2022-06-05T04:05:25.054728Z",
     "shell.execute_reply": "2022-06-05T04:05:25.055233Z",
     "shell.execute_reply.started": "2021-08-03T14:31:13.868607Z"
    },
    "papermill": {
     "duration": 0.088031,
     "end_time": "2022-06-05T04:05:25.055394",
     "exception": false,
     "start_time": "2022-06-05T04:05:24.967363",
     "status": "completed"
    },
    "tags": []
   },
   "outputs": [],
   "source": [
    "SES_train = train.copy()\n",
    "SES_test = test.copy()"
   ]
  },
  {
   "cell_type": "code",
   "execution_count": 26,
   "id": "0db07a93",
   "metadata": {},
   "outputs": [
    {
     "data": {
      "text/html": [
       "<div>\n",
       "<style scoped>\n",
       "    .dataframe tbody tr th:only-of-type {\n",
       "        vertical-align: middle;\n",
       "    }\n",
       "\n",
       "    .dataframe tbody tr th {\n",
       "        vertical-align: top;\n",
       "    }\n",
       "\n",
       "    .dataframe thead th {\n",
       "        text-align: right;\n",
       "    }\n",
       "</style>\n",
       "<table border=\"1\" class=\"dataframe\">\n",
       "  <thead>\n",
       "    <tr style=\"text-align: right;\">\n",
       "      <th></th>\n",
       "      <th>Price</th>\n",
       "    </tr>\n",
       "  </thead>\n",
       "  <tbody>\n",
       "    <tr>\n",
       "      <th>count</th>\n",
       "      <td>212.000000</td>\n",
       "    </tr>\n",
       "    <tr>\n",
       "      <th>mean</th>\n",
       "      <td>1628.321462</td>\n",
       "    </tr>\n",
       "    <tr>\n",
       "      <th>std</th>\n",
       "      <td>532.321048</td>\n",
       "    </tr>\n",
       "    <tr>\n",
       "      <th>min</th>\n",
       "      <td>937.500000</td>\n",
       "    </tr>\n",
       "    <tr>\n",
       "      <th>25%</th>\n",
       "      <td>1097.900000</td>\n",
       "    </tr>\n",
       "    <tr>\n",
       "      <th>50%</th>\n",
       "      <td>1950.650000</td>\n",
       "    </tr>\n",
       "    <tr>\n",
       "      <th>75%</th>\n",
       "      <td>2143.275000</td>\n",
       "    </tr>\n",
       "    <tr>\n",
       "      <th>max</th>\n",
       "      <td>2324.700000</td>\n",
       "    </tr>\n",
       "  </tbody>\n",
       "</table>\n",
       "</div>"
      ],
      "text/plain": [
       "             Price\n",
       "count   212.000000\n",
       "mean   1628.321462\n",
       "std     532.321048\n",
       "min     937.500000\n",
       "25%    1097.900000\n",
       "50%    1950.650000\n",
       "75%    2143.275000\n",
       "max    2324.700000"
      ]
     },
     "execution_count": 26,
     "metadata": {},
     "output_type": "execute_result"
    }
   ],
   "source": [
    "SES_train.describe()"
   ]
  },
  {
   "cell_type": "code",
   "execution_count": 27,
   "id": "1fc3f78c",
   "metadata": {
    "execution": {
     "iopub.execute_input": "2022-06-05T04:05:25.220596Z",
     "iopub.status.busy": "2022-06-05T04:05:25.219667Z",
     "iopub.status.idle": "2022-06-05T04:05:25.237200Z",
     "shell.execute_reply": "2022-06-05T04:05:25.237709Z",
     "shell.execute_reply.started": "2021-08-03T14:31:13.8821Z"
    },
    "papermill": {
     "duration": 0.101271,
     "end_time": "2022-06-05T04:05:25.237877",
     "exception": false,
     "start_time": "2022-06-05T04:05:25.136606",
     "status": "completed"
    },
    "tags": []
   },
   "outputs": [
    {
     "name": "stderr",
     "output_type": "stream",
     "text": [
      "C:\\Users\\kesha\\anaconda3\\lib\\site-packages\\statsmodels\\tsa\\base\\tsa_model.py:524: ValueWarning: No frequency information was provided, so inferred frequency D will be used.\n",
      "  warnings.warn('No frequency information was'\n",
      "C:\\Users\\kesha\\anaconda3\\lib\\site-packages\\statsmodels\\tsa\\holtwinters\\model.py:427: FutureWarning: After 0.13 initialization must be handled at model creation\n",
      "  warnings.warn(\n"
     ]
    }
   ],
   "source": [
    "model_SES = SimpleExpSmoothing(SES_train['Price'])\n",
    "model_SES_autofit = model_SES.fit(optimized=True)"
   ]
  },
  {
   "cell_type": "code",
   "execution_count": 28,
   "id": "927a6149",
   "metadata": {
    "execution": {
     "iopub.execute_input": "2022-06-05T04:05:25.401264Z",
     "iopub.status.busy": "2022-06-05T04:05:25.400277Z",
     "iopub.status.idle": "2022-06-05T04:05:25.406225Z",
     "shell.execute_reply": "2022-06-05T04:05:25.406909Z",
     "shell.execute_reply.started": "2021-08-03T14:31:13.920906Z"
    },
    "papermill": {
     "duration": 0.090067,
     "end_time": "2022-06-05T04:05:25.407079",
     "exception": false,
     "start_time": "2022-06-05T04:05:25.317012",
     "status": "completed"
    },
    "tags": []
   },
   "outputs": [
    {
     "data": {
      "text/plain": [
       "{'smoothing_level': 0.995,\n",
       " 'smoothing_trend': nan,\n",
       " 'smoothing_seasonal': nan,\n",
       " 'damping_trend': nan,\n",
       " 'initial_level': 1974.4,\n",
       " 'initial_trend': nan,\n",
       " 'initial_seasons': array([], dtype=float64),\n",
       " 'use_boxcox': False,\n",
       " 'lamda': None,\n",
       " 'remove_bias': False}"
      ]
     },
     "execution_count": 28,
     "metadata": {},
     "output_type": "execute_result"
    }
   ],
   "source": [
    "model_SES_autofit.params"
   ]
  },
  {
   "cell_type": "code",
   "execution_count": 29,
   "id": "e3b0c8ca",
   "metadata": {
    "execution": {
     "iopub.execute_input": "2022-06-05T04:05:25.569421Z",
     "iopub.status.busy": "2022-06-05T04:05:25.568787Z",
     "iopub.status.idle": "2022-06-05T04:05:25.597417Z",
     "shell.execute_reply": "2022-06-05T04:05:25.597951Z",
     "shell.execute_reply.started": "2021-08-03T14:31:13.934954Z"
    },
    "papermill": {
     "duration": 0.111069,
     "end_time": "2022-06-05T04:05:25.598110",
     "exception": false,
     "start_time": "2022-06-05T04:05:25.487041",
     "status": "completed"
    },
    "tags": []
   },
   "outputs": [
    {
     "data": {
      "text/html": [
       "<div>\n",
       "<style scoped>\n",
       "    .dataframe tbody tr th:only-of-type {\n",
       "        vertical-align: middle;\n",
       "    }\n",
       "\n",
       "    .dataframe tbody tr th {\n",
       "        vertical-align: top;\n",
       "    }\n",
       "\n",
       "    .dataframe thead th {\n",
       "        text-align: right;\n",
       "    }\n",
       "</style>\n",
       "<table border=\"1\" class=\"dataframe\">\n",
       "  <thead>\n",
       "    <tr style=\"text-align: right;\">\n",
       "      <th></th>\n",
       "      <th>Price</th>\n",
       "      <th>predict</th>\n",
       "    </tr>\n",
       "    <tr>\n",
       "      <th>month</th>\n",
       "      <th></th>\n",
       "      <th></th>\n",
       "    </tr>\n",
       "  </thead>\n",
       "  <tbody>\n",
       "    <tr>\n",
       "      <th>2015-08-01</th>\n",
       "      <td>1134.60</td>\n",
       "      <td>1138.223349</td>\n",
       "    </tr>\n",
       "    <tr>\n",
       "      <th>2015-08-02</th>\n",
       "      <td>1103.85</td>\n",
       "      <td>1138.223349</td>\n",
       "    </tr>\n",
       "    <tr>\n",
       "      <th>2015-08-03</th>\n",
       "      <td>1107.60</td>\n",
       "      <td>1138.223349</td>\n",
       "    </tr>\n",
       "    <tr>\n",
       "      <th>2015-08-04</th>\n",
       "      <td>1100.80</td>\n",
       "      <td>1138.223349</td>\n",
       "    </tr>\n",
       "    <tr>\n",
       "      <th>2015-08-05</th>\n",
       "      <td>1080.20</td>\n",
       "      <td>1138.223349</td>\n",
       "    </tr>\n",
       "  </tbody>\n",
       "</table>\n",
       "</div>"
      ],
      "text/plain": [
       "              Price      predict\n",
       "month                           \n",
       "2015-08-01  1134.60  1138.223349\n",
       "2015-08-02  1103.85  1138.223349\n",
       "2015-08-03  1107.60  1138.223349\n",
       "2015-08-04  1100.80  1138.223349\n",
       "2015-08-05  1080.20  1138.223349"
      ]
     },
     "execution_count": 29,
     "metadata": {},
     "output_type": "execute_result"
    }
   ],
   "source": [
    "SES_test['predict'] = model_SES_autofit.forecast(steps=len(test))\n",
    "SES_test.head()"
   ]
  },
  {
   "cell_type": "code",
   "execution_count": 30,
   "id": "2fe873b0",
   "metadata": {
    "execution": {
     "iopub.execute_input": "2022-06-05T04:06:00.652101Z",
     "iopub.status.busy": "2022-06-05T04:06:00.651203Z",
     "iopub.status.idle": "2022-06-05T04:06:00.691938Z",
     "shell.execute_reply": "2022-06-05T04:06:00.692413Z",
     "shell.execute_reply.started": "2021-08-03T14:32:01.368276Z"
    },
    "papermill": {
     "duration": 0.138121,
     "end_time": "2022-06-05T04:06:00.692604",
     "exception": false,
     "start_time": "2022-06-05T04:06:00.554483",
     "status": "completed"
    },
    "tags": []
   },
   "outputs": [
    {
     "name": "stderr",
     "output_type": "stream",
     "text": [
      "C:\\Users\\kesha\\anaconda3\\lib\\site-packages\\statsmodels\\tsa\\base\\tsa_model.py:524: ValueWarning: No frequency information was provided, so inferred frequency D will be used.\n",
      "  warnings.warn('No frequency information was'\n",
      "C:\\Users\\kesha\\anaconda3\\lib\\site-packages\\statsmodels\\tsa\\holtwinters\\model.py:427: FutureWarning: After 0.13 initialization must be handled at model creation\n",
      "  warnings.warn(\n"
     ]
    }
   ],
   "source": [
    "final_model =  ExponentialSmoothing(df,\n",
    "                                  trend='additive',\n",
    "                                  seasonal='additive').fit(smoothing_level=0.4,\n",
    "                                                           smoothing_trend=0.3,\n",
    "                                                           smoothing_seasonal=0.6)"
   ]
  },
  {
   "cell_type": "code",
   "execution_count": 31,
   "id": "a64f0d63",
   "metadata": {
    "execution": {
     "iopub.execute_input": "2022-06-05T04:06:00.886819Z",
     "iopub.status.busy": "2022-06-05T04:06:00.885891Z",
     "iopub.status.idle": "2022-06-05T04:06:00.893268Z",
     "shell.execute_reply": "2022-06-05T04:06:00.893789Z",
     "shell.execute_reply.started": "2021-08-03T14:32:01.436018Z"
    },
    "papermill": {
     "duration": 0.105944,
     "end_time": "2022-06-05T04:06:00.893962",
     "exception": false,
     "start_time": "2022-06-05T04:06:00.788018",
     "status": "completed"
    },
    "tags": []
   },
   "outputs": [],
   "source": [
    "# MAPE_final_model = mape(df['Price'].values,final_model.fittedvalues)\n",
    "\n",
    "# print('MAPE:',MAPE_final_model)"
   ]
  },
  {
   "cell_type": "code",
   "execution_count": 32,
   "id": "c8d5103d",
   "metadata": {},
   "outputs": [],
   "source": [
    "fd1=pd.read_csv('test_stocks_final.csv')"
   ]
  },
  {
   "cell_type": "code",
   "execution_count": 33,
   "id": "936a761f",
   "metadata": {},
   "outputs": [
    {
     "data": {
      "text/html": [
       "<div>\n",
       "<style scoped>\n",
       "    .dataframe tbody tr th:only-of-type {\n",
       "        vertical-align: middle;\n",
       "    }\n",
       "\n",
       "    .dataframe tbody tr th {\n",
       "        vertical-align: top;\n",
       "    }\n",
       "\n",
       "    .dataframe thead th {\n",
       "        text-align: right;\n",
       "    }\n",
       "</style>\n",
       "<table border=\"1\" class=\"dataframe\">\n",
       "  <thead>\n",
       "    <tr style=\"text-align: right;\">\n",
       "      <th></th>\n",
       "      <th>month</th>\n",
       "    </tr>\n",
       "  </thead>\n",
       "  <tbody>\n",
       "    <tr>\n",
       "      <th>0</th>\n",
       "      <td>11-08-2010</td>\n",
       "    </tr>\n",
       "  </tbody>\n",
       "</table>\n",
       "</div>"
      ],
      "text/plain": [
       "        month\n",
       "0  11-08-2010"
      ]
     },
     "execution_count": 33,
     "metadata": {},
     "output_type": "execute_result"
    }
   ],
   "source": [
    "test=fd1   \n",
    "test"
   ]
  },
  {
   "cell_type": "code",
   "execution_count": 34,
   "id": "ad255346",
   "metadata": {
    "execution": {
     "iopub.execute_input": "2022-06-05T04:06:01.089911Z",
     "iopub.status.busy": "2022-06-05T04:06:01.089282Z",
     "iopub.status.idle": "2022-06-05T04:06:01.123129Z",
     "shell.execute_reply": "2022-06-05T04:06:01.123617Z",
     "shell.execute_reply.started": "2021-08-03T14:32:01.445632Z"
    },
    "papermill": {
     "duration": 0.132713,
     "end_time": "2022-06-05T04:06:01.123783",
     "exception": false,
     "start_time": "2022-06-05T04:06:00.991070",
     "status": "completed"
    },
    "tags": []
   },
   "outputs": [],
   "source": [
    "prediction = final_model.forecast(steps=len(test))"
   ]
  },
  {
   "cell_type": "code",
   "execution_count": 35,
   "id": "96f32024",
   "metadata": {},
   "outputs": [
    {
     "data": {
      "text/plain": [
       "90645"
      ]
     },
     "execution_count": 35,
     "metadata": {},
     "output_type": "execute_result"
    }
   ],
   "source": [
    "int(prediction[0]*82.79)"
   ]
  },
  {
   "cell_type": "code",
   "execution_count": 36,
   "id": "f7dba412",
   "metadata": {},
   "outputs": [],
   "source": [
    "val=int(prediction[0]*82.79)\n",
    "converted_num = \"{}\".format(val)"
   ]
  },
  {
   "cell_type": "code",
   "execution_count": 37,
   "id": "edcbad10",
   "metadata": {},
   "outputs": [],
   "source": [
    "converted_num=\", \"+converted_num"
   ]
  },
  {
   "cell_type": "code",
   "execution_count": 38,
   "id": "cfb8db41",
   "metadata": {},
   "outputs": [],
   "source": [
    "with open(\"final_output.txt\", 'a') as file2:\n",
    "    file2.write(converted_num)"
   ]
  },
  {
   "cell_type": "code",
   "execution_count": 39,
   "id": "45512eca",
   "metadata": {
    "execution": {
     "iopub.execute_input": "2022-06-05T04:06:01.316334Z",
     "iopub.status.busy": "2022-06-05T04:06:01.315763Z",
     "iopub.status.idle": "2022-06-05T04:06:01.327932Z",
     "shell.execute_reply": "2022-06-05T04:06:01.328445Z",
     "shell.execute_reply.started": "2021-08-03T14:32:01.509852Z"
    },
    "papermill": {
     "duration": 0.109596,
     "end_time": "2022-06-05T04:06:01.328619",
     "exception": false,
     "start_time": "2022-06-05T04:06:01.219023",
     "status": "completed"
    },
    "tags": []
   },
   "outputs": [],
   "source": [
    "# # Compute 95% confidence interval for predicted values\n",
    "# pred_df = pd.DataFrame({'prediction':prediction})\n",
    "# pred_df.head()"
   ]
  },
  {
   "cell_type": "code",
   "execution_count": 40,
   "id": "fe339fbd",
   "metadata": {
    "execution": {
     "iopub.execute_input": "2022-06-05T04:06:01.519920Z",
     "iopub.status.busy": "2022-06-05T04:06:01.519319Z",
     "iopub.status.idle": "2022-06-05T04:06:01.733614Z",
     "shell.execute_reply": "2022-06-05T04:06:01.734125Z",
     "shell.execute_reply.started": "2021-08-03T14:32:01.528757Z"
    },
    "papermill": {
     "duration": 0.311622,
     "end_time": "2022-06-05T04:06:01.734282",
     "exception": false,
     "start_time": "2022-06-05T04:06:01.422660",
     "status": "completed"
    },
    "tags": []
   },
   "outputs": [],
   "source": [
    "# # plot the forecast along with the confidence band\n",
    "\n",
    "# axis = df.plot(label='Actual', figsize=(15,8))\n",
    "# pred_df['prediction'].plot(ax=axis, label='Forecast', alpha=0.5)\n",
    "# # axis.fill_between(pred_df.index, pred_df['lower_CI'], pred_df['upper_CI'], color='k', alpha=.15)\n",
    "# axis.set_xlabel('Year-Months')\n",
    "# axis.set_ylabel('Price')\n",
    "# plt.legend(loc='best')\n",
    "# plt.grid()\n",
    "# plt.show()"
   ]
  }
 ],
 "metadata": {
  "kernelspec": {
   "display_name": "Python 3",
   "language": "python",
   "name": "python3"
  },
  "language_info": {
   "codemirror_mode": {
    "name": "ipython",
    "version": 3
   },
   "file_extension": ".py",
   "mimetype": "text/x-python",
   "name": "python",
   "nbconvert_exporter": "python",
   "pygments_lexer": "ipython3",
   "version": "3.8.8"
  },
  "papermill": {
   "default_parameters": {},
   "duration": 60.729449,
   "end_time": "2022-06-05T04:06:03.029815",
   "environment_variables": {},
   "exception": null,
   "input_path": "__notebook__.ipynb",
   "output_path": "__notebook__.ipynb",
   "parameters": {},
   "start_time": "2022-06-05T04:05:02.300366",
   "version": "2.3.3"
  }
 },
 "nbformat": 4,
 "nbformat_minor": 5
}
