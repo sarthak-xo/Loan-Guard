{
 "cells": [
  {
   "cell_type": "markdown",
   "metadata": {},
   "source": [
    "# Introduction\n",
    "\n",
    "   This is an attempt to predict Stock prices based on Stock prices of previous days. [The stock market](https://www.investopedia.com/terms/s/stockmarket.asp) refers to the collection of markets and exchanges where regular activities of buying, selling, and issuance of shares of publicly-held companies take place. \n",
    "   \n",
    "  This is a time series analysis and we will see simple eight ways to predict the Stock prices. The various models to be used are:\n",
    "   1. Average\n",
    "   2. Weighted Average\n",
    "   3. Moving Average\n",
    "   4. Moving Weighted Average\n",
    "   5. Linear Regression\n",
    "   6. Weighted Linear Regression\n",
    "   7. Lasso Regression\n",
    "   8. Moving Window Neural Network "
   ]
  },
  {
   "cell_type": "code",
   "execution_count": 410,
   "metadata": {
    "_cell_guid": "b1076dfc-b9ad-4769-8c92-a6c4dae69d19",
    "_kg_hide-input": true,
    "_kg_hide-output": true,
    "_uuid": "8f2839f25d086af736a60e9eeb907d3b93b6e0e5"
   },
   "outputs": [],
   "source": [
    "# This Python 3 environment comes with many helpful analytics libraries installed\n",
    "# It is defined by the kaggle/python docker image: https://github.com/kaggle/docker-python\n",
    "# For example, here's several helpful packages to load in \n",
    "\n",
    "import numpy as np # linear algebra\n",
    "import pandas as pd # data processing, CSV file I/O (e.g. pd.read_csv)\n",
    "import matplotlib.pyplot as plt\n",
    "\n",
    "from sklearn.metrics import mean_squared_error as mse\n",
    "# Any results you write to the current directory are saved as output."
   ]
  },
  {
   "cell_type": "markdown",
   "metadata": {},
   "source": [
    "# The Data\n",
    "   \n",
    "   \n",
    "   The data we use for prediction would be for closing price of [Infosys](https://www.infosys.com/) in NSE for the business days in 2015. So we will import only the Date column and Closing price column. "
   ]
  },
  {
   "cell_type": "code",
   "execution_count": 411,
   "metadata": {
    "_cell_guid": "79c7e3d0-c299-4dcb-8224-4455121ee9b0",
    "_uuid": "d629ff2d2480ee46fbb7e2d37f6b5fab8052498a"
   },
   "outputs": [],
   "source": [
    "# !head -3 /kaggle/input/national-stock-exchange-time-series/infy_stock.csv"
   ]
  },
  {
   "cell_type": "code",
   "execution_count": 412,
   "metadata": {},
   "outputs": [
    {
     "data": {
      "text/html": [
       "<div>\n",
       "<style scoped>\n",
       "    .dataframe tbody tr th:only-of-type {\n",
       "        vertical-align: middle;\n",
       "    }\n",
       "\n",
       "    .dataframe tbody tr th {\n",
       "        vertical-align: top;\n",
       "    }\n",
       "\n",
       "    .dataframe thead th {\n",
       "        text-align: right;\n",
       "    }\n",
       "</style>\n",
       "<table border=\"1\" class=\"dataframe\">\n",
       "  <thead>\n",
       "    <tr style=\"text-align: right;\">\n",
       "      <th></th>\n",
       "      <th>Date</th>\n",
       "      <th>Symbol</th>\n",
       "      <th>Series</th>\n",
       "      <th>Prev Close</th>\n",
       "      <th>Open</th>\n",
       "      <th>High</th>\n",
       "      <th>Low</th>\n",
       "      <th>Last</th>\n",
       "      <th>Close</th>\n",
       "      <th>VWAP</th>\n",
       "      <th>Volume</th>\n",
       "      <th>Turnover</th>\n",
       "      <th>Trades</th>\n",
       "      <th>Deliverable Volume</th>\n",
       "      <th>%Deliverble</th>\n",
       "    </tr>\n",
       "  </thead>\n",
       "  <tbody>\n",
       "    <tr>\n",
       "      <th>0</th>\n",
       "      <td>2015-01-01</td>\n",
       "      <td>INFY</td>\n",
       "      <td>EQ</td>\n",
       "      <td>1972.55</td>\n",
       "      <td>1968.95</td>\n",
       "      <td>1982.00</td>\n",
       "      <td>1956.9</td>\n",
       "      <td>1971.00</td>\n",
       "      <td>1974.40</td>\n",
       "      <td>1971.34</td>\n",
       "      <td>500691</td>\n",
       "      <td>9.870306e+13</td>\n",
       "      <td>14908</td>\n",
       "      <td>258080</td>\n",
       "      <td>0.5154</td>\n",
       "    </tr>\n",
       "    <tr>\n",
       "      <th>1</th>\n",
       "      <td>2015-01-02</td>\n",
       "      <td>INFY</td>\n",
       "      <td>EQ</td>\n",
       "      <td>1974.40</td>\n",
       "      <td>1972.00</td>\n",
       "      <td>2019.05</td>\n",
       "      <td>1972.0</td>\n",
       "      <td>2017.95</td>\n",
       "      <td>2013.20</td>\n",
       "      <td>2003.25</td>\n",
       "      <td>1694580</td>\n",
       "      <td>3.394669e+14</td>\n",
       "      <td>54166</td>\n",
       "      <td>1249104</td>\n",
       "      <td>0.7371</td>\n",
       "    </tr>\n",
       "    <tr>\n",
       "      <th>2</th>\n",
       "      <td>2015-01-05</td>\n",
       "      <td>INFY</td>\n",
       "      <td>EQ</td>\n",
       "      <td>2013.20</td>\n",
       "      <td>2009.90</td>\n",
       "      <td>2030.00</td>\n",
       "      <td>1977.5</td>\n",
       "      <td>1996.00</td>\n",
       "      <td>1995.90</td>\n",
       "      <td>2004.59</td>\n",
       "      <td>2484256</td>\n",
       "      <td>4.979911e+14</td>\n",
       "      <td>82694</td>\n",
       "      <td>1830962</td>\n",
       "      <td>0.7370</td>\n",
       "    </tr>\n",
       "    <tr>\n",
       "      <th>3</th>\n",
       "      <td>2015-01-06</td>\n",
       "      <td>INFY</td>\n",
       "      <td>EQ</td>\n",
       "      <td>1995.90</td>\n",
       "      <td>1980.00</td>\n",
       "      <td>1985.00</td>\n",
       "      <td>1934.1</td>\n",
       "      <td>1965.10</td>\n",
       "      <td>1954.20</td>\n",
       "      <td>1954.82</td>\n",
       "      <td>2416829</td>\n",
       "      <td>4.724458e+14</td>\n",
       "      <td>108209</td>\n",
       "      <td>1772070</td>\n",
       "      <td>0.7332</td>\n",
       "    </tr>\n",
       "    <tr>\n",
       "      <th>4</th>\n",
       "      <td>2015-01-07</td>\n",
       "      <td>INFY</td>\n",
       "      <td>EQ</td>\n",
       "      <td>1954.20</td>\n",
       "      <td>1965.00</td>\n",
       "      <td>1974.75</td>\n",
       "      <td>1950.0</td>\n",
       "      <td>1966.05</td>\n",
       "      <td>1963.55</td>\n",
       "      <td>1962.59</td>\n",
       "      <td>1812479</td>\n",
       "      <td>3.557162e+14</td>\n",
       "      <td>62463</td>\n",
       "      <td>1317720</td>\n",
       "      <td>0.7270</td>\n",
       "    </tr>\n",
       "  </tbody>\n",
       "</table>\n",
       "</div>"
      ],
      "text/plain": [
       "         Date Symbol Series  Prev Close     Open     High     Low     Last  \\\n",
       "0  2015-01-01   INFY     EQ     1972.55  1968.95  1982.00  1956.9  1971.00   \n",
       "1  2015-01-02   INFY     EQ     1974.40  1972.00  2019.05  1972.0  2017.95   \n",
       "2  2015-01-05   INFY     EQ     2013.20  2009.90  2030.00  1977.5  1996.00   \n",
       "3  2015-01-06   INFY     EQ     1995.90  1980.00  1985.00  1934.1  1965.10   \n",
       "4  2015-01-07   INFY     EQ     1954.20  1965.00  1974.75  1950.0  1966.05   \n",
       "\n",
       "     Close     VWAP   Volume      Turnover  Trades  Deliverable Volume  \\\n",
       "0  1974.40  1971.34   500691  9.870306e+13   14908              258080   \n",
       "1  2013.20  2003.25  1694580  3.394669e+14   54166             1249104   \n",
       "2  1995.90  2004.59  2484256  4.979911e+14   82694             1830962   \n",
       "3  1954.20  1954.82  2416829  4.724458e+14  108209             1772070   \n",
       "4  1963.55  1962.59  1812479  3.557162e+14   62463             1317720   \n",
       "\n",
       "   %Deliverble  \n",
       "0       0.5154  \n",
       "1       0.7371  \n",
       "2       0.7370  \n",
       "3       0.7332  \n",
       "4       0.7270  "
      ]
     },
     "execution_count": 412,
     "metadata": {},
     "output_type": "execute_result"
    }
   ],
   "source": [
    "cd=pd.read_csv(\"infy_stock.csv\")\n",
    "cd.head()"
   ]
  },
  {
   "cell_type": "code",
   "execution_count": 413,
   "metadata": {},
   "outputs": [
    {
     "data": {
      "text/html": [
       "<div>\n",
       "<style scoped>\n",
       "    .dataframe tbody tr th:only-of-type {\n",
       "        vertical-align: middle;\n",
       "    }\n",
       "\n",
       "    .dataframe tbody tr th {\n",
       "        vertical-align: top;\n",
       "    }\n",
       "\n",
       "    .dataframe thead th {\n",
       "        text-align: right;\n",
       "    }\n",
       "</style>\n",
       "<table border=\"1\" class=\"dataframe\">\n",
       "  <thead>\n",
       "    <tr style=\"text-align: right;\">\n",
       "      <th></th>\n",
       "      <th>Date</th>\n",
       "      <th>Close</th>\n",
       "    </tr>\n",
       "  </thead>\n",
       "  <tbody>\n",
       "    <tr>\n",
       "      <th>0</th>\n",
       "      <td>2015-01-01</td>\n",
       "      <td>1974.40</td>\n",
       "    </tr>\n",
       "    <tr>\n",
       "      <th>1</th>\n",
       "      <td>2015-01-02</td>\n",
       "      <td>2013.20</td>\n",
       "    </tr>\n",
       "    <tr>\n",
       "      <th>2</th>\n",
       "      <td>2015-01-05</td>\n",
       "      <td>1995.90</td>\n",
       "    </tr>\n",
       "    <tr>\n",
       "      <th>3</th>\n",
       "      <td>2015-01-06</td>\n",
       "      <td>1954.20</td>\n",
       "    </tr>\n",
       "    <tr>\n",
       "      <th>4</th>\n",
       "      <td>2015-01-07</td>\n",
       "      <td>1963.55</td>\n",
       "    </tr>\n",
       "  </tbody>\n",
       "</table>\n",
       "</div>"
      ],
      "text/plain": [
       "         Date    Close\n",
       "0  2015-01-01  1974.40\n",
       "1  2015-01-02  2013.20\n",
       "2  2015-01-05  1995.90\n",
       "3  2015-01-06  1954.20\n",
       "4  2015-01-07  1963.55"
      ]
     },
     "execution_count": 413,
     "metadata": {},
     "output_type": "execute_result"
    }
   ],
   "source": [
    "df = pd.read_csv(\"infy_stock.csv\",usecols=['Date', 'Close'])\n",
    "df.head()"
   ]
  },
  {
   "cell_type": "code",
   "execution_count": 434,
   "metadata": {},
   "outputs": [],
   "source": [
    "X = df.drop(['Close'], axis=1)\n",
    "Y = df['Close']"
   ]
  },
  {
   "cell_type": "code",
   "execution_count": 421,
   "metadata": {},
   "outputs": [],
   "source": [
    "from sklearn.model_selection import train_test_split\n",
    "x_train, x_test, y_train, y_test = train_test_split(X,Y,test_size=0.2,random_state=12)"
   ]
  },
  {
   "cell_type": "code",
   "execution_count": 422,
   "metadata": {},
   "outputs": [
    {
     "name": "stdout",
     "output_type": "stream",
     "text": [
      "(198, 1) (50, 1)\n"
     ]
    }
   ],
   "source": [
    "print(x_train.shape,x_test.shape)"
   ]
  },
  {
   "cell_type": "code",
   "execution_count": 423,
   "metadata": {},
   "outputs": [],
   "source": [
    "from sklearn.linear_model import LinearRegression\n",
    "from sklearn.svm import SVC\n",
    "from sklearn.naive_bayes import MultinomialNB\n",
    "from sklearn.tree import DecisionTreeClassifier\n",
    "from sklearn.neighbors import KNeighborsClassifier\n",
    "from sklearn.ensemble import RandomForestClassifier\n",
    "from sklearn.ensemble import AdaBoostClassifier\n",
    "from sklearn.ensemble import BaggingClassifier\n",
    "from sklearn.ensemble import ExtraTreesClassifier\n",
    "from sklearn.ensemble import GradientBoostingClassifier\n",
    "from xgboost import XGBClassifier\n",
    "from sklearn.linear_model import LogisticRegression\n",
    "from catboost import CatBoostClassifier\n",
    "import lightgbm as lgb\n",
    "from lightgbm import LGBMRegressor\n",
    "from sklearn.metrics import make_scorer, mean_absolute_error\n",
    "from sklearn.metrics import mean_squared_error as MSE\n",
    "from hyperopt import hp, fmin, tpe\n",
    "from sklearn.model_selection import GridSearchCV, StratifiedKFold\n",
    "from sklearn.model_selection import KFold, cross_val_score\n",
    "from lightgbm import LGBMClassifier"
   ]
  },
  {
   "cell_type": "code",
   "execution_count": 424,
   "metadata": {},
   "outputs": [],
   "source": [
    "svc = SVC()\n",
    "knc = KNeighborsClassifier() #algorithm='ball_tree', leaf_size=10, n_neighbors=18, p=1, weights='distance'\n",
    "mnb = MultinomialNB()\n",
    "dtc = DecisionTreeClassifier()\n",
    "lrc = LogisticRegression()\n",
    "rfc = RandomForestClassifier()\n",
    "abc = AdaBoostClassifier()\n",
    "bc = BaggingClassifier()\n",
    "etc = ExtraTreesClassifier()\n",
    "gbdt = GradientBoostingClassifier()\n",
    "xgb = XGBClassifier()\n",
    "cat = CatBoostClassifier(depth=7, iterations=300, l2_leaf_reg= 1, learning_rate= 0.1,verbose=0) #\n",
    "lgb = lgb.LGBMClassifier(colsample_bytree= 0.7378703019867917,learning_rate= 0.007929963347654646,max_depth=5,min_child_weight= 0.05345076003503776,num_leaves= 20,subsample= 0.892939141154265) \n",
    "\n",
    "#"
   ]
  },
  {
   "cell_type": "code",
   "execution_count": 425,
   "metadata": {},
   "outputs": [],
   "source": [
    "clfs = {\n",
    "    'KN' : knc, \n",
    "    'xgb':xgb,\n",
    "    'cat':cat,\n",
    "    'lgb':lgb\n",
    "}"
   ]
  },
  {
   "cell_type": "code",
   "execution_count": 426,
   "metadata": {},
   "outputs": [],
   "source": [
    "from sklearn.metrics import precision_score,accuracy_score\n",
    "def train_classifier(clf,X_train,y_train,X_test,y_test):\n",
    "    clf.fit(X_train,y_train)\n",
    "    y_pred = clf.predict(X_test)\n",
    "    accuracy = accuracy_score(y_test,y_pred)\n",
    "    precision = precision_score(y_test,y_pred)\n",
    "    \n",
    "    return accuracy,precision"
   ]
  },
  {
   "cell_type": "code",
   "execution_count": 429,
   "metadata": {},
   "outputs": [],
   "source": [
    "X_new = X.drop(columns=[col for col in X.columns if pd.isna(col)], axis=1)\n",
    "X_new_test = X_test.drop(columns=[col for col in X_test.columns if pd.isna(col)], axis=1)"
   ]
  },
  {
   "cell_type": "code",
   "execution_count": 433,
   "metadata": {},
   "outputs": [
    {
     "data": {
      "text/html": [
       "<div>\n",
       "<style scoped>\n",
       "    .dataframe tbody tr th:only-of-type {\n",
       "        vertical-align: middle;\n",
       "    }\n",
       "\n",
       "    .dataframe tbody tr th {\n",
       "        vertical-align: top;\n",
       "    }\n",
       "\n",
       "    .dataframe thead th {\n",
       "        text-align: right;\n",
       "    }\n",
       "</style>\n",
       "<table border=\"1\" class=\"dataframe\">\n",
       "  <thead>\n",
       "    <tr style=\"text-align: right;\">\n",
       "      <th></th>\n",
       "      <th>Date</th>\n",
       "    </tr>\n",
       "  </thead>\n",
       "  <tbody>\n",
       "    <tr>\n",
       "      <th>0</th>\n",
       "      <td>2015-01-01</td>\n",
       "    </tr>\n",
       "    <tr>\n",
       "      <th>1</th>\n",
       "      <td>2015-01-02</td>\n",
       "    </tr>\n",
       "    <tr>\n",
       "      <th>2</th>\n",
       "      <td>2015-01-05</td>\n",
       "    </tr>\n",
       "    <tr>\n",
       "      <th>3</th>\n",
       "      <td>2015-01-06</td>\n",
       "    </tr>\n",
       "    <tr>\n",
       "      <th>4</th>\n",
       "      <td>2015-01-07</td>\n",
       "    </tr>\n",
       "    <tr>\n",
       "      <th>...</th>\n",
       "      <td>...</td>\n",
       "    </tr>\n",
       "    <tr>\n",
       "      <th>243</th>\n",
       "      <td>2015-12-24</td>\n",
       "    </tr>\n",
       "    <tr>\n",
       "      <th>244</th>\n",
       "      <td>2015-12-28</td>\n",
       "    </tr>\n",
       "    <tr>\n",
       "      <th>245</th>\n",
       "      <td>2015-12-29</td>\n",
       "    </tr>\n",
       "    <tr>\n",
       "      <th>246</th>\n",
       "      <td>2015-12-30</td>\n",
       "    </tr>\n",
       "    <tr>\n",
       "      <th>247</th>\n",
       "      <td>2015-12-31</td>\n",
       "    </tr>\n",
       "  </tbody>\n",
       "</table>\n",
       "<p>248 rows × 1 columns</p>\n",
       "</div>"
      ],
      "text/plain": [
       "           Date\n",
       "0    2015-01-01\n",
       "1    2015-01-02\n",
       "2    2015-01-05\n",
       "3    2015-01-06\n",
       "4    2015-01-07\n",
       "..          ...\n",
       "243  2015-12-24\n",
       "244  2015-12-28\n",
       "245  2015-12-29\n",
       "246  2015-12-30\n",
       "247  2015-12-31\n",
       "\n",
       "[248 rows x 1 columns]"
      ]
     },
     "execution_count": 433,
     "metadata": {},
     "output_type": "execute_result"
    }
   ],
   "source": [
    "X_new"
   ]
  },
  {
   "cell_type": "code",
   "execution_count": 432,
   "metadata": {},
   "outputs": [
    {
     "ename": "ValueError",
     "evalue": "could not convert string to float: '2015-01-01'",
     "output_type": "error",
     "traceback": [
      "\u001b[1;31m---------------------------------------------------------------------------\u001b[0m",
      "\u001b[1;31mValueError\u001b[0m                                Traceback (most recent call last)",
      "\u001b[1;32m<ipython-input-432-5a4c9c51cdd6>\u001b[0m in \u001b[0;36m<module>\u001b[1;34m\u001b[0m\n\u001b[0;32m      5\u001b[0m \u001b[0mclf\u001b[0m \u001b[1;33m=\u001b[0m \u001b[0mRandomForestRegressor\u001b[0m\u001b[1;33m(\u001b[0m\u001b[1;33m)\u001b[0m\u001b[1;33m\u001b[0m\u001b[1;33m\u001b[0m\u001b[0m\n\u001b[0;32m      6\u001b[0m \u001b[1;33m\u001b[0m\u001b[0m\n\u001b[1;32m----> 7\u001b[1;33m \u001b[0mclf\u001b[0m\u001b[1;33m.\u001b[0m\u001b[0mfit\u001b[0m\u001b[1;33m(\u001b[0m\u001b[0mX_new\u001b[0m\u001b[1;33m,\u001b[0m\u001b[0my_train\u001b[0m\u001b[1;33m)\u001b[0m\u001b[1;33m\u001b[0m\u001b[1;33m\u001b[0m\u001b[0m\n\u001b[0m\u001b[0;32m      8\u001b[0m \u001b[1;33m\u001b[0m\u001b[0m\n\u001b[0;32m      9\u001b[0m \u001b[0mfeature_scores\u001b[0m \u001b[1;33m=\u001b[0m \u001b[0mpd\u001b[0m\u001b[1;33m.\u001b[0m\u001b[0mSeries\u001b[0m\u001b[1;33m(\u001b[0m\u001b[0mclf\u001b[0m\u001b[1;33m.\u001b[0m\u001b[0mfeature_importances_\u001b[0m\u001b[1;33m,\u001b[0m \u001b[0mindex\u001b[0m\u001b[1;33m=\u001b[0m\u001b[0mX_new\u001b[0m\u001b[1;33m.\u001b[0m\u001b[0mcolumns\u001b[0m\u001b[1;33m)\u001b[0m\u001b[1;33m.\u001b[0m\u001b[0msort_values\u001b[0m\u001b[1;33m(\u001b[0m\u001b[0mascending\u001b[0m\u001b[1;33m=\u001b[0m\u001b[1;32mFalse\u001b[0m\u001b[1;33m)\u001b[0m\u001b[1;33m\u001b[0m\u001b[1;33m\u001b[0m\u001b[0m\n",
      "\u001b[1;32m~\\anaconda3\\lib\\site-packages\\sklearn\\ensemble\\_forest.py\u001b[0m in \u001b[0;36mfit\u001b[1;34m(self, X, y, sample_weight)\u001b[0m\n\u001b[0;32m    302\u001b[0m                 \u001b[1;34m\"sparse multilabel-indicator for y is not supported.\"\u001b[0m\u001b[1;33m\u001b[0m\u001b[1;33m\u001b[0m\u001b[0m\n\u001b[0;32m    303\u001b[0m             )\n\u001b[1;32m--> 304\u001b[1;33m         X, y = self._validate_data(X, y, multi_output=True,\n\u001b[0m\u001b[0;32m    305\u001b[0m                                    accept_sparse=\"csc\", dtype=DTYPE)\n\u001b[0;32m    306\u001b[0m         \u001b[1;32mif\u001b[0m \u001b[0msample_weight\u001b[0m \u001b[1;32mis\u001b[0m \u001b[1;32mnot\u001b[0m \u001b[1;32mNone\u001b[0m\u001b[1;33m:\u001b[0m\u001b[1;33m\u001b[0m\u001b[1;33m\u001b[0m\u001b[0m\n",
      "\u001b[1;32m~\\anaconda3\\lib\\site-packages\\sklearn\\base.py\u001b[0m in \u001b[0;36m_validate_data\u001b[1;34m(self, X, y, reset, validate_separately, **check_params)\u001b[0m\n\u001b[0;32m    431\u001b[0m                 \u001b[0my\u001b[0m \u001b[1;33m=\u001b[0m \u001b[0mcheck_array\u001b[0m\u001b[1;33m(\u001b[0m\u001b[0my\u001b[0m\u001b[1;33m,\u001b[0m \u001b[1;33m**\u001b[0m\u001b[0mcheck_y_params\u001b[0m\u001b[1;33m)\u001b[0m\u001b[1;33m\u001b[0m\u001b[1;33m\u001b[0m\u001b[0m\n\u001b[0;32m    432\u001b[0m             \u001b[1;32melse\u001b[0m\u001b[1;33m:\u001b[0m\u001b[1;33m\u001b[0m\u001b[1;33m\u001b[0m\u001b[0m\n\u001b[1;32m--> 433\u001b[1;33m                 \u001b[0mX\u001b[0m\u001b[1;33m,\u001b[0m \u001b[0my\u001b[0m \u001b[1;33m=\u001b[0m \u001b[0mcheck_X_y\u001b[0m\u001b[1;33m(\u001b[0m\u001b[0mX\u001b[0m\u001b[1;33m,\u001b[0m \u001b[0my\u001b[0m\u001b[1;33m,\u001b[0m \u001b[1;33m**\u001b[0m\u001b[0mcheck_params\u001b[0m\u001b[1;33m)\u001b[0m\u001b[1;33m\u001b[0m\u001b[1;33m\u001b[0m\u001b[0m\n\u001b[0m\u001b[0;32m    434\u001b[0m             \u001b[0mout\u001b[0m \u001b[1;33m=\u001b[0m \u001b[0mX\u001b[0m\u001b[1;33m,\u001b[0m \u001b[0my\u001b[0m\u001b[1;33m\u001b[0m\u001b[1;33m\u001b[0m\u001b[0m\n\u001b[0;32m    435\u001b[0m \u001b[1;33m\u001b[0m\u001b[0m\n",
      "\u001b[1;32m~\\anaconda3\\lib\\site-packages\\sklearn\\utils\\validation.py\u001b[0m in \u001b[0;36minner_f\u001b[1;34m(*args, **kwargs)\u001b[0m\n\u001b[0;32m     61\u001b[0m             \u001b[0mextra_args\u001b[0m \u001b[1;33m=\u001b[0m \u001b[0mlen\u001b[0m\u001b[1;33m(\u001b[0m\u001b[0margs\u001b[0m\u001b[1;33m)\u001b[0m \u001b[1;33m-\u001b[0m \u001b[0mlen\u001b[0m\u001b[1;33m(\u001b[0m\u001b[0mall_args\u001b[0m\u001b[1;33m)\u001b[0m\u001b[1;33m\u001b[0m\u001b[1;33m\u001b[0m\u001b[0m\n\u001b[0;32m     62\u001b[0m             \u001b[1;32mif\u001b[0m \u001b[0mextra_args\u001b[0m \u001b[1;33m<=\u001b[0m \u001b[1;36m0\u001b[0m\u001b[1;33m:\u001b[0m\u001b[1;33m\u001b[0m\u001b[1;33m\u001b[0m\u001b[0m\n\u001b[1;32m---> 63\u001b[1;33m                 \u001b[1;32mreturn\u001b[0m \u001b[0mf\u001b[0m\u001b[1;33m(\u001b[0m\u001b[1;33m*\u001b[0m\u001b[0margs\u001b[0m\u001b[1;33m,\u001b[0m \u001b[1;33m**\u001b[0m\u001b[0mkwargs\u001b[0m\u001b[1;33m)\u001b[0m\u001b[1;33m\u001b[0m\u001b[1;33m\u001b[0m\u001b[0m\n\u001b[0m\u001b[0;32m     64\u001b[0m \u001b[1;33m\u001b[0m\u001b[0m\n\u001b[0;32m     65\u001b[0m             \u001b[1;31m# extra_args > 0\u001b[0m\u001b[1;33m\u001b[0m\u001b[1;33m\u001b[0m\u001b[1;33m\u001b[0m\u001b[0m\n",
      "\u001b[1;32m~\\anaconda3\\lib\\site-packages\\sklearn\\utils\\validation.py\u001b[0m in \u001b[0;36mcheck_X_y\u001b[1;34m(X, y, accept_sparse, accept_large_sparse, dtype, order, copy, force_all_finite, ensure_2d, allow_nd, multi_output, ensure_min_samples, ensure_min_features, y_numeric, estimator)\u001b[0m\n\u001b[0;32m    812\u001b[0m         \u001b[1;32mraise\u001b[0m \u001b[0mValueError\u001b[0m\u001b[1;33m(\u001b[0m\u001b[1;34m\"y cannot be None\"\u001b[0m\u001b[1;33m)\u001b[0m\u001b[1;33m\u001b[0m\u001b[1;33m\u001b[0m\u001b[0m\n\u001b[0;32m    813\u001b[0m \u001b[1;33m\u001b[0m\u001b[0m\n\u001b[1;32m--> 814\u001b[1;33m     X = check_array(X, accept_sparse=accept_sparse,\n\u001b[0m\u001b[0;32m    815\u001b[0m                     \u001b[0maccept_large_sparse\u001b[0m\u001b[1;33m=\u001b[0m\u001b[0maccept_large_sparse\u001b[0m\u001b[1;33m,\u001b[0m\u001b[1;33m\u001b[0m\u001b[1;33m\u001b[0m\u001b[0m\n\u001b[0;32m    816\u001b[0m                     \u001b[0mdtype\u001b[0m\u001b[1;33m=\u001b[0m\u001b[0mdtype\u001b[0m\u001b[1;33m,\u001b[0m \u001b[0morder\u001b[0m\u001b[1;33m=\u001b[0m\u001b[0morder\u001b[0m\u001b[1;33m,\u001b[0m \u001b[0mcopy\u001b[0m\u001b[1;33m=\u001b[0m\u001b[0mcopy\u001b[0m\u001b[1;33m,\u001b[0m\u001b[1;33m\u001b[0m\u001b[1;33m\u001b[0m\u001b[0m\n",
      "\u001b[1;32m~\\anaconda3\\lib\\site-packages\\sklearn\\utils\\validation.py\u001b[0m in \u001b[0;36minner_f\u001b[1;34m(*args, **kwargs)\u001b[0m\n\u001b[0;32m     61\u001b[0m             \u001b[0mextra_args\u001b[0m \u001b[1;33m=\u001b[0m \u001b[0mlen\u001b[0m\u001b[1;33m(\u001b[0m\u001b[0margs\u001b[0m\u001b[1;33m)\u001b[0m \u001b[1;33m-\u001b[0m \u001b[0mlen\u001b[0m\u001b[1;33m(\u001b[0m\u001b[0mall_args\u001b[0m\u001b[1;33m)\u001b[0m\u001b[1;33m\u001b[0m\u001b[1;33m\u001b[0m\u001b[0m\n\u001b[0;32m     62\u001b[0m             \u001b[1;32mif\u001b[0m \u001b[0mextra_args\u001b[0m \u001b[1;33m<=\u001b[0m \u001b[1;36m0\u001b[0m\u001b[1;33m:\u001b[0m\u001b[1;33m\u001b[0m\u001b[1;33m\u001b[0m\u001b[0m\n\u001b[1;32m---> 63\u001b[1;33m                 \u001b[1;32mreturn\u001b[0m \u001b[0mf\u001b[0m\u001b[1;33m(\u001b[0m\u001b[1;33m*\u001b[0m\u001b[0margs\u001b[0m\u001b[1;33m,\u001b[0m \u001b[1;33m**\u001b[0m\u001b[0mkwargs\u001b[0m\u001b[1;33m)\u001b[0m\u001b[1;33m\u001b[0m\u001b[1;33m\u001b[0m\u001b[0m\n\u001b[0m\u001b[0;32m     64\u001b[0m \u001b[1;33m\u001b[0m\u001b[0m\n\u001b[0;32m     65\u001b[0m             \u001b[1;31m# extra_args > 0\u001b[0m\u001b[1;33m\u001b[0m\u001b[1;33m\u001b[0m\u001b[1;33m\u001b[0m\u001b[0m\n",
      "\u001b[1;32m~\\anaconda3\\lib\\site-packages\\sklearn\\utils\\validation.py\u001b[0m in \u001b[0;36mcheck_array\u001b[1;34m(array, accept_sparse, accept_large_sparse, dtype, order, copy, force_all_finite, ensure_2d, allow_nd, ensure_min_samples, ensure_min_features, estimator)\u001b[0m\n\u001b[0;32m    614\u001b[0m                     \u001b[0marray\u001b[0m \u001b[1;33m=\u001b[0m \u001b[0marray\u001b[0m\u001b[1;33m.\u001b[0m\u001b[0mastype\u001b[0m\u001b[1;33m(\u001b[0m\u001b[0mdtype\u001b[0m\u001b[1;33m,\u001b[0m \u001b[0mcasting\u001b[0m\u001b[1;33m=\u001b[0m\u001b[1;34m\"unsafe\"\u001b[0m\u001b[1;33m,\u001b[0m \u001b[0mcopy\u001b[0m\u001b[1;33m=\u001b[0m\u001b[1;32mFalse\u001b[0m\u001b[1;33m)\u001b[0m\u001b[1;33m\u001b[0m\u001b[1;33m\u001b[0m\u001b[0m\n\u001b[0;32m    615\u001b[0m                 \u001b[1;32melse\u001b[0m\u001b[1;33m:\u001b[0m\u001b[1;33m\u001b[0m\u001b[1;33m\u001b[0m\u001b[0m\n\u001b[1;32m--> 616\u001b[1;33m                     \u001b[0marray\u001b[0m \u001b[1;33m=\u001b[0m \u001b[0mnp\u001b[0m\u001b[1;33m.\u001b[0m\u001b[0masarray\u001b[0m\u001b[1;33m(\u001b[0m\u001b[0marray\u001b[0m\u001b[1;33m,\u001b[0m \u001b[0morder\u001b[0m\u001b[1;33m=\u001b[0m\u001b[0morder\u001b[0m\u001b[1;33m,\u001b[0m \u001b[0mdtype\u001b[0m\u001b[1;33m=\u001b[0m\u001b[0mdtype\u001b[0m\u001b[1;33m)\u001b[0m\u001b[1;33m\u001b[0m\u001b[1;33m\u001b[0m\u001b[0m\n\u001b[0m\u001b[0;32m    617\u001b[0m             \u001b[1;32mexcept\u001b[0m \u001b[0mComplexWarning\u001b[0m \u001b[1;32mas\u001b[0m \u001b[0mcomplex_warning\u001b[0m\u001b[1;33m:\u001b[0m\u001b[1;33m\u001b[0m\u001b[1;33m\u001b[0m\u001b[0m\n\u001b[0;32m    618\u001b[0m                 raise ValueError(\"Complex data not supported\\n\"\n",
      "\u001b[1;32m~\\anaconda3\\lib\\site-packages\\numpy\\core\\_asarray.py\u001b[0m in \u001b[0;36masarray\u001b[1;34m(a, dtype, order, like)\u001b[0m\n\u001b[0;32m    100\u001b[0m         \u001b[1;32mreturn\u001b[0m \u001b[0m_asarray_with_like\u001b[0m\u001b[1;33m(\u001b[0m\u001b[0ma\u001b[0m\u001b[1;33m,\u001b[0m \u001b[0mdtype\u001b[0m\u001b[1;33m=\u001b[0m\u001b[0mdtype\u001b[0m\u001b[1;33m,\u001b[0m \u001b[0morder\u001b[0m\u001b[1;33m=\u001b[0m\u001b[0morder\u001b[0m\u001b[1;33m,\u001b[0m \u001b[0mlike\u001b[0m\u001b[1;33m=\u001b[0m\u001b[0mlike\u001b[0m\u001b[1;33m)\u001b[0m\u001b[1;33m\u001b[0m\u001b[1;33m\u001b[0m\u001b[0m\n\u001b[0;32m    101\u001b[0m \u001b[1;33m\u001b[0m\u001b[0m\n\u001b[1;32m--> 102\u001b[1;33m     \u001b[1;32mreturn\u001b[0m \u001b[0marray\u001b[0m\u001b[1;33m(\u001b[0m\u001b[0ma\u001b[0m\u001b[1;33m,\u001b[0m \u001b[0mdtype\u001b[0m\u001b[1;33m,\u001b[0m \u001b[0mcopy\u001b[0m\u001b[1;33m=\u001b[0m\u001b[1;32mFalse\u001b[0m\u001b[1;33m,\u001b[0m \u001b[0morder\u001b[0m\u001b[1;33m=\u001b[0m\u001b[0morder\u001b[0m\u001b[1;33m)\u001b[0m\u001b[1;33m\u001b[0m\u001b[1;33m\u001b[0m\u001b[0m\n\u001b[0m\u001b[0;32m    103\u001b[0m \u001b[1;33m\u001b[0m\u001b[0m\n\u001b[0;32m    104\u001b[0m \u001b[1;33m\u001b[0m\u001b[0m\n",
      "\u001b[1;32m~\\anaconda3\\lib\\site-packages\\pandas\\core\\generic.py\u001b[0m in \u001b[0;36m__array__\u001b[1;34m(self, dtype)\u001b[0m\n\u001b[0;32m   1897\u001b[0m \u001b[1;33m\u001b[0m\u001b[0m\n\u001b[0;32m   1898\u001b[0m     \u001b[1;32mdef\u001b[0m \u001b[0m__array__\u001b[0m\u001b[1;33m(\u001b[0m\u001b[0mself\u001b[0m\u001b[1;33m,\u001b[0m \u001b[0mdtype\u001b[0m\u001b[1;33m=\u001b[0m\u001b[1;32mNone\u001b[0m\u001b[1;33m)\u001b[0m \u001b[1;33m->\u001b[0m \u001b[0mnp\u001b[0m\u001b[1;33m.\u001b[0m\u001b[0mndarray\u001b[0m\u001b[1;33m:\u001b[0m\u001b[1;33m\u001b[0m\u001b[1;33m\u001b[0m\u001b[0m\n\u001b[1;32m-> 1899\u001b[1;33m         \u001b[1;32mreturn\u001b[0m \u001b[0mnp\u001b[0m\u001b[1;33m.\u001b[0m\u001b[0masarray\u001b[0m\u001b[1;33m(\u001b[0m\u001b[0mself\u001b[0m\u001b[1;33m.\u001b[0m\u001b[0m_values\u001b[0m\u001b[1;33m,\u001b[0m \u001b[0mdtype\u001b[0m\u001b[1;33m=\u001b[0m\u001b[0mdtype\u001b[0m\u001b[1;33m)\u001b[0m\u001b[1;33m\u001b[0m\u001b[1;33m\u001b[0m\u001b[0m\n\u001b[0m\u001b[0;32m   1900\u001b[0m \u001b[1;33m\u001b[0m\u001b[0m\n\u001b[0;32m   1901\u001b[0m     def __array_wrap__(\n",
      "\u001b[1;32m~\\anaconda3\\lib\\site-packages\\numpy\\core\\_asarray.py\u001b[0m in \u001b[0;36masarray\u001b[1;34m(a, dtype, order, like)\u001b[0m\n\u001b[0;32m    100\u001b[0m         \u001b[1;32mreturn\u001b[0m \u001b[0m_asarray_with_like\u001b[0m\u001b[1;33m(\u001b[0m\u001b[0ma\u001b[0m\u001b[1;33m,\u001b[0m \u001b[0mdtype\u001b[0m\u001b[1;33m=\u001b[0m\u001b[0mdtype\u001b[0m\u001b[1;33m,\u001b[0m \u001b[0morder\u001b[0m\u001b[1;33m=\u001b[0m\u001b[0morder\u001b[0m\u001b[1;33m,\u001b[0m \u001b[0mlike\u001b[0m\u001b[1;33m=\u001b[0m\u001b[0mlike\u001b[0m\u001b[1;33m)\u001b[0m\u001b[1;33m\u001b[0m\u001b[1;33m\u001b[0m\u001b[0m\n\u001b[0;32m    101\u001b[0m \u001b[1;33m\u001b[0m\u001b[0m\n\u001b[1;32m--> 102\u001b[1;33m     \u001b[1;32mreturn\u001b[0m \u001b[0marray\u001b[0m\u001b[1;33m(\u001b[0m\u001b[0ma\u001b[0m\u001b[1;33m,\u001b[0m \u001b[0mdtype\u001b[0m\u001b[1;33m,\u001b[0m \u001b[0mcopy\u001b[0m\u001b[1;33m=\u001b[0m\u001b[1;32mFalse\u001b[0m\u001b[1;33m,\u001b[0m \u001b[0morder\u001b[0m\u001b[1;33m=\u001b[0m\u001b[0morder\u001b[0m\u001b[1;33m)\u001b[0m\u001b[1;33m\u001b[0m\u001b[1;33m\u001b[0m\u001b[0m\n\u001b[0m\u001b[0;32m    103\u001b[0m \u001b[1;33m\u001b[0m\u001b[0m\n\u001b[0;32m    104\u001b[0m \u001b[1;33m\u001b[0m\u001b[0m\n",
      "\u001b[1;31mValueError\u001b[0m: could not convert string to float: '2015-01-01'"
     ]
    }
   ],
   "source": [
    "from sklearn.ensemble import RandomForestRegressor\n",
    "regressor = RandomForestRegressor()\n",
    "from sklearn.feature_selection import RFE\n",
    "\n",
    "clf = RandomForestRegressor()\n",
    "\n",
    "clf.fit(X_new,y_train)\n",
    "\n",
    "feature_scores = pd.Series(clf.feature_importances_, index=X_new.columns).sort_values(ascending=False)\n",
    "feature_scores"
   ]
  },
  {
   "cell_type": "code",
   "execution_count": null,
   "metadata": {},
   "outputs": [],
   "source": []
  },
  {
   "cell_type": "code",
   "execution_count": null,
   "metadata": {},
   "outputs": [],
   "source": []
  },
  {
   "cell_type": "code",
   "execution_count": null,
   "metadata": {},
   "outputs": [],
   "source": []
  },
  {
   "cell_type": "code",
   "execution_count": null,
   "metadata": {},
   "outputs": [],
   "source": []
  },
  {
   "cell_type": "code",
   "execution_count": 403,
   "metadata": {},
   "outputs": [],
   "source": [
    "# df['date'] = Date\n",
    "# df.drop('Date',axis=1,inplace=True)\n",
    "# df = df.set_index('date')\n",
    "# df.head()"
   ]
  },
  {
   "cell_type": "code",
   "execution_count": 419,
   "metadata": {},
   "outputs": [
    {
     "data": {
      "text/html": [
       "<div>\n",
       "<style scoped>\n",
       "    .dataframe tbody tr th:only-of-type {\n",
       "        vertical-align: middle;\n",
       "    }\n",
       "\n",
       "    .dataframe tbody tr th {\n",
       "        vertical-align: top;\n",
       "    }\n",
       "\n",
       "    .dataframe thead th {\n",
       "        text-align: right;\n",
       "    }\n",
       "</style>\n",
       "<table border=\"1\" class=\"dataframe\">\n",
       "  <thead>\n",
       "    <tr style=\"text-align: right;\">\n",
       "      <th></th>\n",
       "      <th>Date</th>\n",
       "      <th>Close</th>\n",
       "    </tr>\n",
       "  </thead>\n",
       "  <tbody>\n",
       "    <tr>\n",
       "      <th>243</th>\n",
       "      <td>2015-12-24</td>\n",
       "      <td>1096.35</td>\n",
       "    </tr>\n",
       "    <tr>\n",
       "      <th>244</th>\n",
       "      <td>2015-12-28</td>\n",
       "      <td>1104.75</td>\n",
       "    </tr>\n",
       "    <tr>\n",
       "      <th>245</th>\n",
       "      <td>2015-12-29</td>\n",
       "      <td>1104.70</td>\n",
       "    </tr>\n",
       "    <tr>\n",
       "      <th>246</th>\n",
       "      <td>2015-12-30</td>\n",
       "      <td>1086.30</td>\n",
       "    </tr>\n",
       "    <tr>\n",
       "      <th>247</th>\n",
       "      <td>2015-12-31</td>\n",
       "      <td>1105.40</td>\n",
       "    </tr>\n",
       "  </tbody>\n",
       "</table>\n",
       "</div>"
      ],
      "text/plain": [
       "           Date    Close\n",
       "243  2015-12-24  1096.35\n",
       "244  2015-12-28  1104.75\n",
       "245  2015-12-29  1104.70\n",
       "246  2015-12-30  1086.30\n",
       "247  2015-12-31  1105.40"
      ]
     },
     "execution_count": 419,
     "metadata": {},
     "output_type": "execute_result"
    }
   ],
   "source": [
    "df.tail()"
   ]
  },
  {
   "cell_type": "markdown",
   "metadata": {},
   "source": [
    "We have data on working days only and so there are 248 data with start date as 01-01-2015 and end date as 31-12-2015."
   ]
  },
  {
   "cell_type": "code",
   "execution_count": 405,
   "metadata": {
    "_kg_hide-input": false
   },
   "outputs": [
    {
     "name": "stdout",
     "output_type": "stream",
     "text": [
      "<class 'pandas.core.frame.DataFrame'>\n",
      "RangeIndex: 248 entries, 0 to 247\n",
      "Data columns (total 2 columns):\n",
      " #   Column  Non-Null Count  Dtype  \n",
      "---  ------  --------------  -----  \n",
      " 0   Date    248 non-null    object \n",
      " 1   Close   248 non-null    float64\n",
      "dtypes: float64(1), object(1)\n",
      "memory usage: 4.0+ KB\n"
     ]
    }
   ],
   "source": [
    "df.info()"
   ]
  },
  {
   "cell_type": "code",
   "execution_count": 406,
   "metadata": {
    "_kg_hide-input": true
   },
   "outputs": [
    {
     "name": "stdout",
     "output_type": "stream",
     "text": [
      "Min: 0\n",
      "Max: 247\n"
     ]
    }
   ],
   "source": [
    "print(\"Min:\",df.index.min())\n",
    "print(\"Max:\",df.index.max())"
   ]
  },
  {
   "cell_type": "code",
   "execution_count": 407,
   "metadata": {
    "_kg_hide-input": true
   },
   "outputs": [
    {
     "data": {
      "image/png": "[encoded data removed]",
      "text/plain": [
       "<Figure size 1224x360 with 1 Axes>"
      ]
     },
     "metadata": {
      "needs_background": "light"
     },
     "output_type": "display_data"
    }
   ],
   "source": [
    "plt.figure(figsize=(17,5))\n",
    "df.Close.plot()\n",
    "plt.title(\"Closing Price\",fontsize=20)\n",
    "plt.show()"
   ]
  },
  {
   "cell_type": "markdown",
   "metadata": {},
   "source": [
    "# Adjustment for split-up\n",
    "\n",
    "There is a huge drop on 15/06/2015, this was the [fifth split](https://www.splithistory.com/infy/) in Infosys Share price. If we take this whole data, the prediction might not be  as expected as there is a split in between!\n",
    "\n",
    "We have to either drop the data or adjust the values before split. Since the split is 2 for 1, we can normalize the data prior to split by dividing them by 2. (Old shares are half that of today's share)."
   ]
  },
  {
   "cell_type": "code",
   "execution_count": 414,
   "metadata": {},
   "outputs": [],
   "source": [
    "# plt.figure(figsize=(17,5))\n",
    "# stock_price = pd.concat([df.Close[:'2015-06-12']/2,df.Close['2015-06-15':]]) # adjustment\n",
    "# plt.plot(stock_price)\n",
    "# plt.title(\"Closing Price Adjusted\",fontsize=20)\n",
    "# plt.show()"
   ]
  },
  {
   "cell_type": "markdown",
   "metadata": {},
   "source": [
    "And now we have an adjusted time series of Infosys stock prices.\n",
    "\n",
    "Lets now Predict the Stock price based on various methods. \n",
    " \n",
    "* We will predict the values on last 68 days in the series.\n",
    "* We will use Mean squared error as a metrics to calculate the error in our prediction.\n",
    "* We will compare the results of various methods at the end."
   ]
  },
  {
   "cell_type": "code",
   "execution_count": 385,
   "metadata": {},
   "outputs": [],
   "source": [
    "#helper function to plot the stock prediction\n",
    "prev_values = stock_price.iloc[:180]\n",
    "y_test = stock_price.iloc[180:]\n",
    "\n",
    "def plot_pred(pred,title):\n",
    "    plt.figure(figsize=(17,5))\n",
    "    plt.plot(prev_values,label='Train')\n",
    "    plt.plot(y_test,label='Actual')\n",
    "    plt.plot(pred,label='Predicted')\n",
    "    plt.ylabel(\"Stock prices\")\n",
    "    plt.title(title,fontsize=20)\n",
    "    plt.legend()\n",
    "    plt.show()"
   ]
  },
  {
   "cell_type": "markdown",
   "metadata": {},
   "source": [
    "# 2. Weighted Mean\n",
    "\n",
    "We shall give more weightage to the data which are close to the last day in training data, while calculating the mean. The last day in the training set will get a weightage of 1(=180/180) and the first day will get a weightage of 1/180."
   ]
  },
  {
   "cell_type": "code",
   "execution_count": 297,
   "metadata": {},
   "outputs": [],
   "source": [
    "# weight = np.array(range(0,180))/180\n",
    "# weighted_train_data =np.multiply(prev_values,weight)\n",
    "\n",
    "# # weighted average is the sum of this weighted train data by the sum of the weight\n",
    "\n",
    "# weighted_average = sum(weighted_train_data)/sum(weight)\n",
    "# y_wa = pd.Series(np.repeat(weighted_average,68),index=y_test.index)\n",
    "\n",
    "# mse(y_wa,y_test)"
   ]
  },
  {
   "cell_type": "code",
   "execution_count": 298,
   "metadata": {},
   "outputs": [],
   "source": [
    "# plot_pred(y_wa,\"Weighted Average\")"
   ]
  },
  {
   "cell_type": "code",
   "execution_count": 415,
   "metadata": {},
   "outputs": [],
   "source": [
    "from sklearn.model_selection import train_test_split\n",
    "x_train, x_test, y_train, y_test = train_test_split(X,Y,test_size=0.2,random_state=12)"
   ]
  },
  {
   "cell_type": "markdown",
   "metadata": {},
   "source": [
    "    For the other methods we will predict the value of stock price on a day based on the values of stock prices of 80 days prior to it. So in our series we will not consider the first eight days (since there previous eighty days is not in the series).\n",
    "    We have to test the last 68 values. This would be based on the last 80 days stock prices of each day in the test data.\n",
    "    Since we have neglected first 80 and last 68 is our test set, the train dataset will be between 80 and 180 (100 days)."
   ]
  },
  {
   "cell_type": "code",
   "execution_count": 416,
   "metadata": {},
   "outputs": [
    {
     "name": "stdout",
     "output_type": "stream",
     "text": [
      "y train: (100,) \n",
      "y test: (68,)\n"
     ]
    }
   ],
   "source": [
    "y_train = stock_price[80:180]\n",
    "y_test = stock_price[180:]\n",
    "print(\"y train:\",y_train.shape,\"\\ny test:\",y_test.shape)"
   ]
  },
  {
   "cell_type": "markdown",
   "metadata": {},
   "source": [
    " There are 100 days in training and 68 days in testing set. We will construct the features, that is the last 80 days stock for each date in the y_train and y_test. This would be our target variable."
   ]
  },
  {
   "cell_type": "code",
   "execution_count": 417,
   "metadata": {},
   "outputs": [
    {
     "data": {
      "text/plain": [
       "Date\n",
       "2015-09-21    1104.65\n",
       "2015-09-22    1107.45\n",
       "2015-09-23    1116.25\n",
       "2015-09-24    1140.55\n",
       "2015-09-28    1105.55\n",
       "               ...   \n",
       "2015-12-24    1096.35\n",
       "2015-12-28    1104.75\n",
       "2015-12-29    1104.70\n",
       "2015-12-30    1086.30\n",
       "2015-12-31    1105.40\n",
       "Name: Close, Length: 68, dtype: float64"
      ]
     },
     "execution_count": 417,
     "metadata": {},
     "output_type": "execute_result"
    }
   ],
   "source": [
    "y_test"
   ]
  },
  {
   "cell_type": "code",
   "execution_count": 418,
   "metadata": {},
   "outputs": [
    {
     "data": {
      "text/html": [
       "<div>\n",
       "<style scoped>\n",
       "    .dataframe tbody tr th:only-of-type {\n",
       "        vertical-align: middle;\n",
       "    }\n",
       "\n",
       "    .dataframe tbody tr th {\n",
       "        vertical-align: top;\n",
       "    }\n",
       "\n",
       "    .dataframe thead th {\n",
       "        text-align: right;\n",
       "    }\n",
       "</style>\n",
       "<table border=\"1\" class=\"dataframe\">\n",
       "  <thead>\n",
       "    <tr style=\"text-align: right;\">\n",
       "      <th></th>\n",
       "      <th>1</th>\n",
       "    </tr>\n",
       "    <tr>\n",
       "      <th>Date</th>\n",
       "      <th></th>\n",
       "    </tr>\n",
       "  </thead>\n",
       "  <tbody>\n",
       "    <tr>\n",
       "      <th>2015-04-30</th>\n",
       "      <td>987.200</td>\n",
       "    </tr>\n",
       "    <tr>\n",
       "      <th>2015-05-04</th>\n",
       "      <td>1006.600</td>\n",
       "    </tr>\n",
       "    <tr>\n",
       "      <th>2015-05-05</th>\n",
       "      <td>997.950</td>\n",
       "    </tr>\n",
       "    <tr>\n",
       "      <th>2015-05-06</th>\n",
       "      <td>977.100</td>\n",
       "    </tr>\n",
       "    <tr>\n",
       "      <th>2015-05-07</th>\n",
       "      <td>981.775</td>\n",
       "    </tr>\n",
       "    <tr>\n",
       "      <th>...</th>\n",
       "      <td>...</td>\n",
       "    </tr>\n",
       "    <tr>\n",
       "      <th>2015-09-11</th>\n",
       "      <td>1023.225</td>\n",
       "    </tr>\n",
       "    <tr>\n",
       "      <th>2015-09-14</th>\n",
       "      <td>1008.400</td>\n",
       "    </tr>\n",
       "    <tr>\n",
       "      <th>2015-09-15</th>\n",
       "      <td>1003.650</td>\n",
       "    </tr>\n",
       "    <tr>\n",
       "      <th>2015-09-16</th>\n",
       "      <td>984.250</td>\n",
       "    </tr>\n",
       "    <tr>\n",
       "      <th>2015-09-18</th>\n",
       "      <td>1008.300</td>\n",
       "    </tr>\n",
       "  </tbody>\n",
       "</table>\n",
       "<p>100 rows × 1 columns</p>\n",
       "</div>"
      ],
      "text/plain": [
       "                   1\n",
       "Date                \n",
       "2015-04-30   987.200\n",
       "2015-05-04  1006.600\n",
       "2015-05-05   997.950\n",
       "2015-05-06   977.100\n",
       "2015-05-07   981.775\n",
       "...              ...\n",
       "2015-09-11  1023.225\n",
       "2015-09-14  1008.400\n",
       "2015-09-15  1003.650\n",
       "2015-09-16   984.250\n",
       "2015-09-18  1008.300\n",
       "\n",
       "[100 rows x 1 columns]"
      ]
     },
     "execution_count": 418,
     "metadata": {},
     "output_type": "execute_result"
    }
   ],
   "source": [
    "X_train = pd.DataFrame([list(stock_price[i:i+1]) for i in range(100)],\n",
    "                       columns=range(1,0,-1),index=y_train.index)\n",
    "X_test = pd.DataFrame([list(stock_price[i:i+1]) for i in range(100,168)],\n",
    "                       columns=range(1,0,-1),index=y_test.index)\n",
    "\n",
    "X_train"
   ]
  },
  {
   "cell_type": "markdown",
   "metadata": {},
   "source": [
    "      X_train is now a collection of 100 dates as index and a collection of stock prices of previous 80 days as features.\n",
    "    \n",
    "      Similarlily, X_test is now a collection of 68 dates as index and a collection of stock prices of previous 80 days as features.\n",
    "      \n",
    "      NOTE: Here 76 working days from '2015-05-04', the stock had a price of 986.725 and 77 working days from '2015-05-05', the stock has the same value. You can see the similarity of values along the diagonal. This is because consecutitive data will be similar to the previous except it drops the last value, shifts and has a new value.\n",
    "      \n",
    "      We will use these values for stock price prediction in the other four methods."
   ]
  },
  {
   "cell_type": "markdown",
   "metadata": {},
   "source": [
    "# 3. Moving Average\n",
    "   We have to predict the 68 values in data set and for each values we will get the average of previous 80 days.  \n",
    "   This will be a simple mean of each column in the y_test."
   ]
  },
  {
   "cell_type": "code",
   "execution_count": 242,
   "metadata": {},
   "outputs": [],
   "source": [
    "# y_ma = X_test.mean(axis=1)\n",
    "# mse(y_ma,y_test)"
   ]
  },
  {
   "cell_type": "code",
   "execution_count": 243,
   "metadata": {},
   "outputs": [],
   "source": [
    "# plot_pred(y_ma,\"Moving Average\")"
   ]
  },
  {
   "cell_type": "markdown",
   "metadata": {},
   "source": [
    "# 4. Weighted Moving Average\n",
    "\n",
    "We will obtain the stock price on the test date by calculating the weighted mean of past 80 days. The last of the 80 day will have a weightage of 1(=80/80) and the first will have a weightage of 1/80. "
   ]
  },
  {
   "cell_type": "code",
   "execution_count": 244,
   "metadata": {},
   "outputs": [],
   "source": [
    "# weight = np.array(range(1,81))/80\n",
    "# #weighted moving average\n",
    "# y_wma = X_test@weight/sum(weight)\n",
    "# mse(y_wma,y_test)"
   ]
  },
  {
   "cell_type": "code",
   "execution_count": 245,
   "metadata": {},
   "outputs": [],
   "source": [
    "# plot_pred(y_wma,\"Weighted Moving Average\")"
   ]
  },
  {
   "cell_type": "markdown",
   "metadata": {},
   "source": [
    "# 4. Linear regression\n",
    "   In this method, we will perform a linear regression on our dataset. The values will be predicted as a linear combination of the previous 80 days values. "
   ]
  },
  {
   "cell_type": "code",
   "execution_count": 342,
   "metadata": {},
   "outputs": [
    {
     "data": {
      "text/plain": [
       "3428.438896439114"
      ]
     },
     "execution_count": 342,
     "metadata": {},
     "output_type": "execute_result"
    }
   ],
   "source": [
    "from sklearn.linear_model import LinearRegression\n",
    "lr=LinearRegression()\n",
    "\n",
    "lr.fit(X_train,y_train)\n",
    "y_lr = lr.predict(X_test)\n",
    "y_lr = pd.Series(y_lr,index=y_test.index)\n",
    "\n",
    "mse(y_test,y_lr)"
   ]
  },
  {
   "cell_type": "code",
   "execution_count": 343,
   "metadata": {},
   "outputs": [],
   "source": [
    "# plot_pred(y_lr,\"Linear Regression\")"
   ]
  },
  {
   "cell_type": "markdown",
   "metadata": {},
   "source": [
    "# 6. Weighted Linear Regression\n",
    "We will provide weightage to our input data rather than the features. "
   ]
  },
  {
   "cell_type": "code",
   "execution_count": 349,
   "metadata": {},
   "outputs": [
    {
     "data": {
      "text/html": [
       "<div>\n",
       "<style scoped>\n",
       "    .dataframe tbody tr th:only-of-type {\n",
       "        vertical-align: middle;\n",
       "    }\n",
       "\n",
       "    .dataframe tbody tr th {\n",
       "        vertical-align: top;\n",
       "    }\n",
       "\n",
       "    .dataframe thead th {\n",
       "        text-align: right;\n",
       "    }\n",
       "</style>\n",
       "<table border=\"1\" class=\"dataframe\">\n",
       "  <thead>\n",
       "    <tr style=\"text-align: right;\">\n",
       "      <th></th>\n",
       "      <th>1</th>\n",
       "    </tr>\n",
       "    <tr>\n",
       "      <th>Date</th>\n",
       "      <th></th>\n",
       "    </tr>\n",
       "  </thead>\n",
       "  <tbody>\n",
       "    <tr>\n",
       "      <th>2015-09-21</th>\n",
       "      <td>1011.575</td>\n",
       "    </tr>\n",
       "    <tr>\n",
       "      <th>2015-09-22</th>\n",
       "      <td>1023.900</td>\n",
       "    </tr>\n",
       "    <tr>\n",
       "      <th>2015-09-23</th>\n",
       "      <td>1004.325</td>\n",
       "    </tr>\n",
       "    <tr>\n",
       "      <th>2015-09-24</th>\n",
       "      <td>1010.450</td>\n",
       "    </tr>\n",
       "    <tr>\n",
       "      <th>2015-09-28</th>\n",
       "      <td>1014.025</td>\n",
       "    </tr>\n",
       "  </tbody>\n",
       "</table>\n",
       "</div>"
      ],
      "text/plain": [
       "                   1\n",
       "Date                \n",
       "2015-09-21  1011.575\n",
       "2015-09-22  1023.900\n",
       "2015-09-23  1004.325\n",
       "2015-09-24  1010.450\n",
       "2015-09-28  1014.025"
      ]
     },
     "execution_count": 349,
     "metadata": {},
     "output_type": "execute_result"
    }
   ],
   "source": [
    "X_test.head()"
   ]
  },
  {
   "cell_type": "code",
   "execution_count": 248,
   "metadata": {},
   "outputs": [],
   "source": [
    "# weight = np.array(range(1,101))/100\n",
    "# wlr = LinearRegression()\n",
    "\n",
    "# wlr.fit(X_train,y_train,weight)\n",
    "# y_wlr = wlr.predict(X_test)\n",
    "# y_wlr = pd.Series(y_wlr,index=y_test.index)\n",
    "\n",
    "# mse(y_test,y_wlr)"
   ]
  },
  {
   "cell_type": "code",
   "execution_count": 249,
   "metadata": {},
   "outputs": [],
   "source": [
    "# plot_pred(y_wlr,\"Weighted Linear Regression\")"
   ]
  },
  {
   "cell_type": "markdown",
   "metadata": {},
   "source": [
    "# 7. Lasso Regression\n",
    "\n",
    "Linear Regression with L1 regulations."
   ]
  },
  {
   "cell_type": "code",
   "execution_count": 253,
   "metadata": {},
   "outputs": [],
   "source": [
    "# train    =   df[df.index.month <= 11] \n",
    "# test     =   df[df.index.month >=12 ]"
   ]
  },
  {
   "cell_type": "code",
   "execution_count": 254,
   "metadata": {},
   "outputs": [],
   "source": [
    "# df['month'] = date\n",
    "# df.drop('Date',axis=1,inplace=True)\n",
    "# df = df.set_index('month')"
   ]
  },
  {
   "cell_type": "code",
   "execution_count": 255,
   "metadata": {},
   "outputs": [],
   "source": [
    "# print(train.shape)\n",
    "# print(test.shape)"
   ]
  },
  {
   "cell_type": "code",
   "execution_count": 256,
   "metadata": {},
   "outputs": [],
   "source": [
    "# train.describe()"
   ]
  },
  {
   "cell_type": "code",
   "execution_count": 257,
   "metadata": {},
   "outputs": [],
   "source": [
    "# train_time = [i+1 for i in range(len(train))]\n",
    "# test_time = [i+len(train)+1 for i in range(len(test))]\n",
    "# len(train_time), len(test_time)"
   ]
  },
  {
   "cell_type": "code",
   "execution_count": 258,
   "metadata": {},
   "outputs": [],
   "source": [
    "# from sklearn.linear_model import LinearRegression\n",
    "# from statsmodels.tsa.api import ExponentialSmoothing, SimpleExpSmoothing, Holt"
   ]
  },
  {
   "cell_type": "code",
   "execution_count": 259,
   "metadata": {},
   "outputs": [],
   "source": [
    "# SES_train = train.copy()\n",
    "# SES_test = test.copy()"
   ]
  },
  {
   "cell_type": "code",
   "execution_count": 260,
   "metadata": {},
   "outputs": [],
   "source": [
    "# train.describe()"
   ]
  },
  {
   "cell_type": "code",
   "execution_count": 261,
   "metadata": {},
   "outputs": [],
   "source": [
    "# model_SES = SimpleExpSmoothing(SES_train['Close'])\n",
    "# model_SES_autofit = model_SES.fit(optimized=True)"
   ]
  },
  {
   "cell_type": "code",
   "execution_count": 262,
   "metadata": {},
   "outputs": [],
   "source": [
    "# model_SES_autofit.params"
   ]
  },
  {
   "cell_type": "code",
   "execution_count": 263,
   "metadata": {},
   "outputs": [],
   "source": [
    "# SES_test['predict'] = model_SES_autofit.forecast(steps=len(test))\n",
    "# SES_test.head()"
   ]
  },
  {
   "cell_type": "code",
   "execution_count": 350,
   "metadata": {},
   "outputs": [
    {
     "data": {
      "text/plain": [
       "3429.158765134825"
      ]
     },
     "execution_count": 350,
     "metadata": {},
     "output_type": "execute_result"
    }
   ],
   "source": [
    "from sklearn.linear_model import Lasso\n",
    "lasso = Lasso()\n",
    "\n",
    "las = lasso.fit(X_train,y_train)\n",
    "y_las = las.predict(X_test)\n",
    "y_las = pd.Series(y_las,index = y_test.index)\n",
    "\n",
    "mse(y_las,y_test)"
   ]
  },
  {
   "cell_type": "code",
   "execution_count": 351,
   "metadata": {},
   "outputs": [
    {
     "data": {
      "text/html": [
       "<div>\n",
       "<style scoped>\n",
       "    .dataframe tbody tr th:only-of-type {\n",
       "        vertical-align: middle;\n",
       "    }\n",
       "\n",
       "    .dataframe tbody tr th {\n",
       "        vertical-align: top;\n",
       "    }\n",
       "\n",
       "    .dataframe thead th {\n",
       "        text-align: right;\n",
       "    }\n",
       "</style>\n",
       "<table border=\"1\" class=\"dataframe\">\n",
       "  <thead>\n",
       "    <tr style=\"text-align: right;\">\n",
       "      <th></th>\n",
       "      <th>1</th>\n",
       "    </tr>\n",
       "    <tr>\n",
       "      <th>Date</th>\n",
       "      <th></th>\n",
       "    </tr>\n",
       "  </thead>\n",
       "  <tbody>\n",
       "    <tr>\n",
       "      <th>2015-09-21</th>\n",
       "      <td>1011.575</td>\n",
       "    </tr>\n",
       "    <tr>\n",
       "      <th>2015-09-22</th>\n",
       "      <td>1023.900</td>\n",
       "    </tr>\n",
       "    <tr>\n",
       "      <th>2015-09-23</th>\n",
       "      <td>1004.325</td>\n",
       "    </tr>\n",
       "    <tr>\n",
       "      <th>2015-09-24</th>\n",
       "      <td>1010.450</td>\n",
       "    </tr>\n",
       "    <tr>\n",
       "      <th>2015-09-28</th>\n",
       "      <td>1014.025</td>\n",
       "    </tr>\n",
       "    <tr>\n",
       "      <th>...</th>\n",
       "      <td>...</td>\n",
       "    </tr>\n",
       "    <tr>\n",
       "      <th>2015-12-24</th>\n",
       "      <td>1064.600</td>\n",
       "    </tr>\n",
       "    <tr>\n",
       "      <th>2015-12-28</th>\n",
       "      <td>1082.800</td>\n",
       "    </tr>\n",
       "    <tr>\n",
       "      <th>2015-12-29</th>\n",
       "      <td>1111.050</td>\n",
       "    </tr>\n",
       "    <tr>\n",
       "      <th>2015-12-30</th>\n",
       "      <td>1094.400</td>\n",
       "    </tr>\n",
       "    <tr>\n",
       "      <th>2015-12-31</th>\n",
       "      <td>1089.000</td>\n",
       "    </tr>\n",
       "  </tbody>\n",
       "</table>\n",
       "<p>68 rows × 1 columns</p>\n",
       "</div>"
      ],
      "text/plain": [
       "                   1\n",
       "Date                \n",
       "2015-09-21  1011.575\n",
       "2015-09-22  1023.900\n",
       "2015-09-23  1004.325\n",
       "2015-09-24  1010.450\n",
       "2015-09-28  1014.025\n",
       "...              ...\n",
       "2015-12-24  1064.600\n",
       "2015-12-28  1082.800\n",
       "2015-12-29  1111.050\n",
       "2015-12-30  1094.400\n",
       "2015-12-31  1089.000\n",
       "\n",
       "[68 rows x 1 columns]"
      ]
     },
     "execution_count": 351,
     "metadata": {},
     "output_type": "execute_result"
    }
   ],
   "source": [
    "X_test"
   ]
  },
  {
   "cell_type": "code",
   "execution_count": 352,
   "metadata": {},
   "outputs": [],
   "source": [
    "X_test.to_csv('GeeksforGeeks.csv', index = None)"
   ]
  },
  {
   "cell_type": "code",
   "execution_count": 330,
   "metadata": {},
   "outputs": [
    {
     "data": {
      "text/plain": [
       "Date\n",
       "2015-09-21    1065.216221\n",
       "2015-09-22    1059.448645\n",
       "2015-09-23    1068.608912\n",
       "2015-09-24    1065.742673\n",
       "2015-09-28    1064.069725\n",
       "dtype: float64"
      ]
     },
     "execution_count": 330,
     "metadata": {},
     "output_type": "execute_result"
    }
   ],
   "source": [
    "y_las.head()"
   ]
  },
  {
   "cell_type": "code",
   "execution_count": 373,
   "metadata": {},
   "outputs": [
    {
     "ename": "AttributeError",
     "evalue": "'str' object has no attribute 'reshape'",
     "output_type": "error",
     "traceback": [
      "\u001b[1;31m---------------------------------------------------------------------------\u001b[0m",
      "\u001b[1;31mAttributeError\u001b[0m                            Traceback (most recent call last)",
      "\u001b[1;32m<ipython-input-373-c0d9e4c71334>\u001b[0m in \u001b[0;36m<module>\u001b[1;34m\u001b[0m\n\u001b[1;32m----> 1\u001b[1;33m \u001b[0mstring\u001b[0m\u001b[1;33m.\u001b[0m\u001b[0mreshape\u001b[0m\u001b[1;33m(\u001b[0m\u001b[1;33m-\u001b[0m\u001b[1;36m1\u001b[0m\u001b[1;33m,\u001b[0m \u001b[1;36m1\u001b[0m\u001b[1;33m)\u001b[0m\u001b[1;33m\u001b[0m\u001b[1;33m\u001b[0m\u001b[0m\n\u001b[0m",
      "\u001b[1;31mAttributeError\u001b[0m: 'str' object has no attribute 'reshape'"
     ]
    }
   ],
   "source": [
    "string.reshape(-1, 1)"
   ]
  },
  {
   "cell_type": "code",
   "execution_count": 371,
   "metadata": {},
   "outputs": [
    {
     "ename": "AttributeError",
     "evalue": "'list' object has no attribute 'reshape'",
     "output_type": "error",
     "traceback": [
      "\u001b[1;31m---------------------------------------------------------------------------\u001b[0m",
      "\u001b[1;31mAttributeError\u001b[0m                            Traceback (most recent call last)",
      "\u001b[1;32m<ipython-input-371-49dc51a1fa3b>\u001b[0m in \u001b[0;36m<module>\u001b[1;34m\u001b[0m\n\u001b[1;32m----> 1\u001b[1;33m \u001b[0my_las\u001b[0m \u001b[1;33m=\u001b[0m \u001b[0mlas\u001b[0m\u001b[1;33m.\u001b[0m\u001b[0mpredict\u001b[0m\u001b[1;33m(\u001b[0m\u001b[1;33m[\u001b[0m\u001b[1;33m[\u001b[0m\u001b[0mstring\u001b[0m\u001b[1;33m]\u001b[0m\u001b[1;33m]\u001b[0m\u001b[1;33m.\u001b[0m\u001b[0mreshape\u001b[0m\u001b[1;33m(\u001b[0m\u001b[1;33m-\u001b[0m\u001b[1;36m1\u001b[0m\u001b[1;33m,\u001b[0m \u001b[1;36m1\u001b[0m\u001b[1;33m)\u001b[0m\u001b[1;33m)\u001b[0m\u001b[1;33m\u001b[0m\u001b[1;33m\u001b[0m\u001b[0m\n\u001b[0m",
      "\u001b[1;31mAttributeError\u001b[0m: 'list' object has no attribute 'reshape'"
     ]
    }
   ],
   "source": [
    "y_las = las.predict([[string]].reshape(-1, 1))"
   ]
  },
  {
   "cell_type": "code",
   "execution_count": 331,
   "metadata": {},
   "outputs": [],
   "source": [
    "import time\n",
    "import datetime"
   ]
  },
  {
   "cell_type": "code",
   "execution_count": 365,
   "metadata": {},
   "outputs": [],
   "source": [
    "with open('test_stock_txt.txt') as f:\n",
    "    content = f. readlines()"
   ]
  },
  {
   "cell_type": "code",
   "execution_count": 366,
   "metadata": {},
   "outputs": [
    {
     "data": {
      "text/plain": [
       "'2015-09-21'"
      ]
     },
     "execution_count": 366,
     "metadata": {},
     "output_type": "execute_result"
    }
   ],
   "source": [
    "def listToString(s):\n",
    " \n",
    "    # initialize an empty string\n",
    "    str1 = \"\"\n",
    " \n",
    "    # traverse in the string\n",
    "    for ele in s:\n",
    "        str1 += ele\n",
    " \n",
    "    # return string\n",
    "    return str1\n",
    "(listToString(content))"
   ]
  },
  {
   "cell_type": "code",
   "execution_count": 367,
   "metadata": {},
   "outputs": [],
   "source": [
    "string=listToString(content)"
   ]
  },
  {
   "cell_type": "code",
   "execution_count": 369,
   "metadata": {},
   "outputs": [
    {
     "ename": "AttributeError",
     "evalue": "'str' object has no attribute 'dtype'",
     "output_type": "error",
     "traceback": [
      "\u001b[1;31m---------------------------------------------------------------------------\u001b[0m",
      "\u001b[1;31mAttributeError\u001b[0m                            Traceback (most recent call last)",
      "\u001b[1;32m<ipython-input-369-814bdd6c8239>\u001b[0m in \u001b[0;36m<module>\u001b[1;34m\u001b[0m\n\u001b[1;32m----> 1\u001b[1;33m \u001b[0mstring\u001b[0m\u001b[1;33m.\u001b[0m\u001b[0mdtype\u001b[0m\u001b[1;33m(\u001b[0m\u001b[1;33m)\u001b[0m\u001b[1;33m\u001b[0m\u001b[1;33m\u001b[0m\u001b[0m\n\u001b[0m",
      "\u001b[1;31mAttributeError\u001b[0m: 'str' object has no attribute 'dtype'"
     ]
    }
   ],
   "source": []
  },
  {
   "cell_type": "code",
   "execution_count": 337,
   "metadata": {},
   "outputs": [
    {
     "data": {
      "text/plain": [
       "datetime.datetime(2015, 9, 21, 0, 0)"
      ]
     },
     "execution_count": 337,
     "metadata": {},
     "output_type": "execute_result"
    }
   ],
   "source": [
    "element"
   ]
  },
  {
   "cell_type": "code",
   "execution_count": 341,
   "metadata": {},
   "outputs": [
    {
     "ename": "ValueError",
     "evalue": "Expected 2D array, got scalar array instead:\narray=21/09/2015.\nReshape your data either using array.reshape(-1, 1) if your data has a single feature or array.reshape(1, -1) if it contains a single sample.",
     "output_type": "error",
     "traceback": [
      "\u001b[1;31m---------------------------------------------------------------------------\u001b[0m",
      "\u001b[1;31mValueError\u001b[0m                                Traceback (most recent call last)",
      "\u001b[1;32m<ipython-input-341-9a05e9d08278>\u001b[0m in \u001b[0;36m<module>\u001b[1;34m\u001b[0m\n\u001b[1;32m----> 1\u001b[1;33m \u001b[0my_las\u001b[0m \u001b[1;33m=\u001b[0m \u001b[0mlas\u001b[0m\u001b[1;33m.\u001b[0m\u001b[0mpredict\u001b[0m\u001b[1;33m(\u001b[0m\u001b[1;34m\"21/09/2015\"\u001b[0m\u001b[1;33m)\u001b[0m\u001b[1;33m\u001b[0m\u001b[1;33m\u001b[0m\u001b[0m\n\u001b[0m",
      "\u001b[1;32m~\\anaconda3\\lib\\site-packages\\sklearn\\linear_model\\_base.py\u001b[0m in \u001b[0;36mpredict\u001b[1;34m(self, X)\u001b[0m\n\u001b[0;32m    236\u001b[0m             \u001b[0mReturns\u001b[0m \u001b[0mpredicted\u001b[0m \u001b[0mvalues\u001b[0m\u001b[1;33m.\u001b[0m\u001b[1;33m\u001b[0m\u001b[1;33m\u001b[0m\u001b[0m\n\u001b[0;32m    237\u001b[0m         \"\"\"\n\u001b[1;32m--> 238\u001b[1;33m         \u001b[1;32mreturn\u001b[0m \u001b[0mself\u001b[0m\u001b[1;33m.\u001b[0m\u001b[0m_decision_function\u001b[0m\u001b[1;33m(\u001b[0m\u001b[0mX\u001b[0m\u001b[1;33m)\u001b[0m\u001b[1;33m\u001b[0m\u001b[1;33m\u001b[0m\u001b[0m\n\u001b[0m\u001b[0;32m    239\u001b[0m \u001b[1;33m\u001b[0m\u001b[0m\n\u001b[0;32m    240\u001b[0m     \u001b[0m_preprocess_data\u001b[0m \u001b[1;33m=\u001b[0m \u001b[0mstaticmethod\u001b[0m\u001b[1;33m(\u001b[0m\u001b[0m_preprocess_data\u001b[0m\u001b[1;33m)\u001b[0m\u001b[1;33m\u001b[0m\u001b[1;33m\u001b[0m\u001b[0m\n",
      "\u001b[1;32m~\\anaconda3\\lib\\site-packages\\sklearn\\linear_model\\_coordinate_descent.py\u001b[0m in \u001b[0;36m_decision_function\u001b[1;34m(self, X)\u001b[0m\n\u001b[0;32m    896\u001b[0m                                    dense_output=True) + self.intercept_\n\u001b[0;32m    897\u001b[0m         \u001b[1;32melse\u001b[0m\u001b[1;33m:\u001b[0m\u001b[1;33m\u001b[0m\u001b[1;33m\u001b[0m\u001b[0m\n\u001b[1;32m--> 898\u001b[1;33m             \u001b[1;32mreturn\u001b[0m \u001b[0msuper\u001b[0m\u001b[1;33m(\u001b[0m\u001b[1;33m)\u001b[0m\u001b[1;33m.\u001b[0m\u001b[0m_decision_function\u001b[0m\u001b[1;33m(\u001b[0m\u001b[0mX\u001b[0m\u001b[1;33m)\u001b[0m\u001b[1;33m\u001b[0m\u001b[1;33m\u001b[0m\u001b[0m\n\u001b[0m\u001b[0;32m    899\u001b[0m \u001b[1;33m\u001b[0m\u001b[0m\n\u001b[0;32m    900\u001b[0m \u001b[1;33m\u001b[0m\u001b[0m\n",
      "\u001b[1;32m~\\anaconda3\\lib\\site-packages\\sklearn\\linear_model\\_base.py\u001b[0m in \u001b[0;36m_decision_function\u001b[1;34m(self, X)\u001b[0m\n\u001b[0;32m    218\u001b[0m         \u001b[0mcheck_is_fitted\u001b[0m\u001b[1;33m(\u001b[0m\u001b[0mself\u001b[0m\u001b[1;33m)\u001b[0m\u001b[1;33m\u001b[0m\u001b[1;33m\u001b[0m\u001b[0m\n\u001b[0;32m    219\u001b[0m \u001b[1;33m\u001b[0m\u001b[0m\n\u001b[1;32m--> 220\u001b[1;33m         \u001b[0mX\u001b[0m \u001b[1;33m=\u001b[0m \u001b[0mcheck_array\u001b[0m\u001b[1;33m(\u001b[0m\u001b[0mX\u001b[0m\u001b[1;33m,\u001b[0m \u001b[0maccept_sparse\u001b[0m\u001b[1;33m=\u001b[0m\u001b[1;33m[\u001b[0m\u001b[1;34m'csr'\u001b[0m\u001b[1;33m,\u001b[0m \u001b[1;34m'csc'\u001b[0m\u001b[1;33m,\u001b[0m \u001b[1;34m'coo'\u001b[0m\u001b[1;33m]\u001b[0m\u001b[1;33m)\u001b[0m\u001b[1;33m\u001b[0m\u001b[1;33m\u001b[0m\u001b[0m\n\u001b[0m\u001b[0;32m    221\u001b[0m         return safe_sparse_dot(X, self.coef_.T,\n\u001b[0;32m    222\u001b[0m                                dense_output=True) + self.intercept_\n",
      "\u001b[1;32m~\\anaconda3\\lib\\site-packages\\sklearn\\utils\\validation.py\u001b[0m in \u001b[0;36minner_f\u001b[1;34m(*args, **kwargs)\u001b[0m\n\u001b[0;32m     61\u001b[0m             \u001b[0mextra_args\u001b[0m \u001b[1;33m=\u001b[0m \u001b[0mlen\u001b[0m\u001b[1;33m(\u001b[0m\u001b[0margs\u001b[0m\u001b[1;33m)\u001b[0m \u001b[1;33m-\u001b[0m \u001b[0mlen\u001b[0m\u001b[1;33m(\u001b[0m\u001b[0mall_args\u001b[0m\u001b[1;33m)\u001b[0m\u001b[1;33m\u001b[0m\u001b[1;33m\u001b[0m\u001b[0m\n\u001b[0;32m     62\u001b[0m             \u001b[1;32mif\u001b[0m \u001b[0mextra_args\u001b[0m \u001b[1;33m<=\u001b[0m \u001b[1;36m0\u001b[0m\u001b[1;33m:\u001b[0m\u001b[1;33m\u001b[0m\u001b[1;33m\u001b[0m\u001b[0m\n\u001b[1;32m---> 63\u001b[1;33m                 \u001b[1;32mreturn\u001b[0m \u001b[0mf\u001b[0m\u001b[1;33m(\u001b[0m\u001b[1;33m*\u001b[0m\u001b[0margs\u001b[0m\u001b[1;33m,\u001b[0m \u001b[1;33m**\u001b[0m\u001b[0mkwargs\u001b[0m\u001b[1;33m)\u001b[0m\u001b[1;33m\u001b[0m\u001b[1;33m\u001b[0m\u001b[0m\n\u001b[0m\u001b[0;32m     64\u001b[0m \u001b[1;33m\u001b[0m\u001b[0m\n\u001b[0;32m     65\u001b[0m             \u001b[1;31m# extra_args > 0\u001b[0m\u001b[1;33m\u001b[0m\u001b[1;33m\u001b[0m\u001b[1;33m\u001b[0m\u001b[0m\n",
      "\u001b[1;32m~\\anaconda3\\lib\\site-packages\\sklearn\\utils\\validation.py\u001b[0m in \u001b[0;36mcheck_array\u001b[1;34m(array, accept_sparse, accept_large_sparse, dtype, order, copy, force_all_finite, ensure_2d, allow_nd, ensure_min_samples, ensure_min_features, estimator)\u001b[0m\n\u001b[0;32m    628\u001b[0m             \u001b[1;31m# If input is scalar raise error\u001b[0m\u001b[1;33m\u001b[0m\u001b[1;33m\u001b[0m\u001b[1;33m\u001b[0m\u001b[0m\n\u001b[0;32m    629\u001b[0m             \u001b[1;32mif\u001b[0m \u001b[0marray\u001b[0m\u001b[1;33m.\u001b[0m\u001b[0mndim\u001b[0m \u001b[1;33m==\u001b[0m \u001b[1;36m0\u001b[0m\u001b[1;33m:\u001b[0m\u001b[1;33m\u001b[0m\u001b[1;33m\u001b[0m\u001b[0m\n\u001b[1;32m--> 630\u001b[1;33m                 raise ValueError(\n\u001b[0m\u001b[0;32m    631\u001b[0m                     \u001b[1;34m\"Expected 2D array, got scalar array instead:\\narray={}.\\n\"\u001b[0m\u001b[1;33m\u001b[0m\u001b[1;33m\u001b[0m\u001b[0m\n\u001b[0;32m    632\u001b[0m                     \u001b[1;34m\"Reshape your data either using array.reshape(-1, 1) if \"\u001b[0m\u001b[1;33m\u001b[0m\u001b[1;33m\u001b[0m\u001b[0m\n",
      "\u001b[1;31mValueError\u001b[0m: Expected 2D array, got scalar array instead:\narray=21/09/2015.\nReshape your data either using array.reshape(-1, 1) if your data has a single feature or array.reshape(1, -1) if it contains a single sample."
     ]
    }
   ],
   "source": [
    "y_las = las.predict(\"21/09/2015\")"
   ]
  },
  {
   "cell_type": "code",
   "execution_count": null,
   "metadata": {},
   "outputs": [],
   "source": []
  },
  {
   "cell_type": "code",
   "execution_count": null,
   "metadata": {},
   "outputs": [],
   "source": []
  },
  {
   "cell_type": "code",
   "execution_count": null,
   "metadata": {},
   "outputs": [],
   "source": []
  },
  {
   "cell_type": "code",
   "execution_count": null,
   "metadata": {},
   "outputs": [],
   "source": []
  },
  {
   "cell_type": "code",
   "execution_count": 278,
   "metadata": {},
   "outputs": [],
   "source": [
    "kd = pd.read_csv(\"test_stock.csv\")"
   ]
  },
  {
   "cell_type": "code",
   "execution_count": 279,
   "metadata": {},
   "outputs": [
    {
     "data": {
      "text/plain": [
       "DatetimeIndex(['2023-11-30'], dtype='datetime64[ns]', freq='M')"
      ]
     },
     "execution_count": 279,
     "metadata": {},
     "output_type": "execute_result"
    }
   ],
   "source": [
    "date = pd.date_range(start='11/08/2023', end='12/08/2023', freq='M')\n",
    "date"
   ]
  },
  {
   "cell_type": "code",
   "execution_count": 280,
   "metadata": {},
   "outputs": [
    {
     "data": {
      "text/html": [
       "<div>\n",
       "<style scoped>\n",
       "    .dataframe tbody tr th:only-of-type {\n",
       "        vertical-align: middle;\n",
       "    }\n",
       "\n",
       "    .dataframe tbody tr th {\n",
       "        vertical-align: top;\n",
       "    }\n",
       "\n",
       "    .dataframe thead th {\n",
       "        text-align: right;\n",
       "    }\n",
       "</style>\n",
       "<table border=\"1\" class=\"dataframe\">\n",
       "  <thead>\n",
       "    <tr style=\"text-align: right;\">\n",
       "      <th></th>\n",
       "    </tr>\n",
       "    <tr>\n",
       "      <th>date</th>\n",
       "    </tr>\n",
       "  </thead>\n",
       "  <tbody>\n",
       "    <tr>\n",
       "      <th>2023-11-30</th>\n",
       "    </tr>\n",
       "  </tbody>\n",
       "</table>\n",
       "</div>"
      ],
      "text/plain": [
       "Empty DataFrame\n",
       "Columns: []\n",
       "Index: [2023-11-30 00:00:00]"
      ]
     },
     "execution_count": 280,
     "metadata": {},
     "output_type": "execute_result"
    }
   ],
   "source": [
    "kd['date'] = date\n",
    "kd.drop('Date',axis=1,inplace=True)\n",
    "kd = kd.set_index('date')\n",
    "kd.head()"
   ]
  },
  {
   "cell_type": "code",
   "execution_count": null,
   "metadata": {},
   "outputs": [],
   "source": []
  },
  {
   "cell_type": "code",
   "execution_count": 281,
   "metadata": {},
   "outputs": [
    {
     "name": "stdout",
     "output_type": "stream",
     "text": [
      "<class 'pandas.core.frame.DataFrame'>\n",
      "DatetimeIndex: 68 entries, 2015-09-21 to 2015-12-31\n",
      "Data columns (total 80 columns):\n",
      " #   Column  Non-Null Count  Dtype  \n",
      "---  ------  --------------  -----  \n",
      " 0   80      68 non-null     float64\n",
      " 1   79      68 non-null     float64\n",
      " 2   78      68 non-null     float64\n",
      " 3   77      68 non-null     float64\n",
      " 4   76      68 non-null     float64\n",
      " 5   75      68 non-null     float64\n",
      " 6   74      68 non-null     float64\n",
      " 7   73      68 non-null     float64\n",
      " 8   72      68 non-null     float64\n",
      " 9   71      68 non-null     float64\n",
      " 10  70      68 non-null     float64\n",
      " 11  69      68 non-null     float64\n",
      " 12  68      68 non-null     float64\n",
      " 13  67      68 non-null     float64\n",
      " 14  66      68 non-null     float64\n",
      " 15  65      68 non-null     float64\n",
      " 16  64      68 non-null     float64\n",
      " 17  63      68 non-null     float64\n",
      " 18  62      68 non-null     float64\n",
      " 19  61      68 non-null     float64\n",
      " 20  60      68 non-null     float64\n",
      " 21  59      68 non-null     float64\n",
      " 22  58      68 non-null     float64\n",
      " 23  57      68 non-null     float64\n",
      " 24  56      68 non-null     float64\n",
      " 25  55      68 non-null     float64\n",
      " 26  54      68 non-null     float64\n",
      " 27  53      68 non-null     float64\n",
      " 28  52      68 non-null     float64\n",
      " 29  51      68 non-null     float64\n",
      " 30  50      68 non-null     float64\n",
      " 31  49      68 non-null     float64\n",
      " 32  48      68 non-null     float64\n",
      " 33  47      68 non-null     float64\n",
      " 34  46      68 non-null     float64\n",
      " 35  45      68 non-null     float64\n",
      " 36  44      68 non-null     float64\n",
      " 37  43      68 non-null     float64\n",
      " 38  42      68 non-null     float64\n",
      " 39  41      68 non-null     float64\n",
      " 40  40      68 non-null     float64\n",
      " 41  39      68 non-null     float64\n",
      " 42  38      68 non-null     float64\n",
      " 43  37      68 non-null     float64\n",
      " 44  36      68 non-null     float64\n",
      " 45  35      68 non-null     float64\n",
      " 46  34      68 non-null     float64\n",
      " 47  33      68 non-null     float64\n",
      " 48  32      68 non-null     float64\n",
      " 49  31      68 non-null     float64\n",
      " 50  30      68 non-null     float64\n",
      " 51  29      68 non-null     float64\n",
      " 52  28      68 non-null     float64\n",
      " 53  27      68 non-null     float64\n",
      " 54  26      68 non-null     float64\n",
      " 55  25      68 non-null     float64\n",
      " 56  24      68 non-null     float64\n",
      " 57  23      68 non-null     float64\n",
      " 58  22      68 non-null     float64\n",
      " 59  21      68 non-null     float64\n",
      " 60  20      68 non-null     float64\n",
      " 61  19      68 non-null     float64\n",
      " 62  18      68 non-null     float64\n",
      " 63  17      68 non-null     float64\n",
      " 64  16      68 non-null     float64\n",
      " 65  15      68 non-null     float64\n",
      " 66  14      68 non-null     float64\n",
      " 67  13      68 non-null     float64\n",
      " 68  12      68 non-null     float64\n",
      " 69  11      68 non-null     float64\n",
      " 70  10      68 non-null     float64\n",
      " 71  9       68 non-null     float64\n",
      " 72  8       68 non-null     float64\n",
      " 73  7       68 non-null     float64\n",
      " 74  6       68 non-null     float64\n",
      " 75  5       68 non-null     float64\n",
      " 76  4       68 non-null     float64\n",
      " 77  3       68 non-null     float64\n",
      " 78  2       68 non-null     float64\n",
      " 79  1       68 non-null     float64\n",
      "dtypes: float64(80)\n",
      "memory usage: 43.0 KB\n"
     ]
    }
   ],
   "source": [
    "X_test.info()"
   ]
  },
  {
   "cell_type": "code",
   "execution_count": 282,
   "metadata": {},
   "outputs": [],
   "source": [
    "# fd['Date'] = pd.to_numeric(fd['Date'])"
   ]
  },
  {
   "cell_type": "code",
   "execution_count": 285,
   "metadata": {},
   "outputs": [
    {
     "ename": "ValueError",
     "evalue": "Expected 2D array, got scalar array instead:\narray=2019-09-30.\nReshape your data either using array.reshape(-1, 1) if your data has a single feature or array.reshape(1, -1) if it contains a single sample.",
     "output_type": "error",
     "traceback": [
      "\u001b[1;31m---------------------------------------------------------------------------\u001b[0m",
      "\u001b[1;31mValueError\u001b[0m                                Traceback (most recent call last)",
      "\u001b[1;32m<ipython-input-285-c4458a2e16e6>\u001b[0m in \u001b[0;36m<module>\u001b[1;34m\u001b[0m\n\u001b[1;32m----> 1\u001b[1;33m \u001b[0my_las\u001b[0m \u001b[1;33m=\u001b[0m \u001b[0mlas\u001b[0m\u001b[1;33m.\u001b[0m\u001b[0mpredict\u001b[0m\u001b[1;33m(\u001b[0m\u001b[1;34m'2019-09-30'\u001b[0m\u001b[1;33m)\u001b[0m\u001b[1;33m\u001b[0m\u001b[1;33m\u001b[0m\u001b[0m\n\u001b[0m",
      "\u001b[1;32m~\\anaconda3\\lib\\site-packages\\sklearn\\linear_model\\_base.py\u001b[0m in \u001b[0;36mpredict\u001b[1;34m(self, X)\u001b[0m\n\u001b[0;32m    236\u001b[0m             \u001b[0mReturns\u001b[0m \u001b[0mpredicted\u001b[0m \u001b[0mvalues\u001b[0m\u001b[1;33m.\u001b[0m\u001b[1;33m\u001b[0m\u001b[1;33m\u001b[0m\u001b[0m\n\u001b[0;32m    237\u001b[0m         \"\"\"\n\u001b[1;32m--> 238\u001b[1;33m         \u001b[1;32mreturn\u001b[0m \u001b[0mself\u001b[0m\u001b[1;33m.\u001b[0m\u001b[0m_decision_function\u001b[0m\u001b[1;33m(\u001b[0m\u001b[0mX\u001b[0m\u001b[1;33m)\u001b[0m\u001b[1;33m\u001b[0m\u001b[1;33m\u001b[0m\u001b[0m\n\u001b[0m\u001b[0;32m    239\u001b[0m \u001b[1;33m\u001b[0m\u001b[0m\n\u001b[0;32m    240\u001b[0m     \u001b[0m_preprocess_data\u001b[0m \u001b[1;33m=\u001b[0m \u001b[0mstaticmethod\u001b[0m\u001b[1;33m(\u001b[0m\u001b[0m_preprocess_data\u001b[0m\u001b[1;33m)\u001b[0m\u001b[1;33m\u001b[0m\u001b[1;33m\u001b[0m\u001b[0m\n",
      "\u001b[1;32m~\\anaconda3\\lib\\site-packages\\sklearn\\linear_model\\_coordinate_descent.py\u001b[0m in \u001b[0;36m_decision_function\u001b[1;34m(self, X)\u001b[0m\n\u001b[0;32m    896\u001b[0m                                    dense_output=True) + self.intercept_\n\u001b[0;32m    897\u001b[0m         \u001b[1;32melse\u001b[0m\u001b[1;33m:\u001b[0m\u001b[1;33m\u001b[0m\u001b[1;33m\u001b[0m\u001b[0m\n\u001b[1;32m--> 898\u001b[1;33m             \u001b[1;32mreturn\u001b[0m \u001b[0msuper\u001b[0m\u001b[1;33m(\u001b[0m\u001b[1;33m)\u001b[0m\u001b[1;33m.\u001b[0m\u001b[0m_decision_function\u001b[0m\u001b[1;33m(\u001b[0m\u001b[0mX\u001b[0m\u001b[1;33m)\u001b[0m\u001b[1;33m\u001b[0m\u001b[1;33m\u001b[0m\u001b[0m\n\u001b[0m\u001b[0;32m    899\u001b[0m \u001b[1;33m\u001b[0m\u001b[0m\n\u001b[0;32m    900\u001b[0m \u001b[1;33m\u001b[0m\u001b[0m\n",
      "\u001b[1;32m~\\anaconda3\\lib\\site-packages\\sklearn\\linear_model\\_base.py\u001b[0m in \u001b[0;36m_decision_function\u001b[1;34m(self, X)\u001b[0m\n\u001b[0;32m    218\u001b[0m         \u001b[0mcheck_is_fitted\u001b[0m\u001b[1;33m(\u001b[0m\u001b[0mself\u001b[0m\u001b[1;33m)\u001b[0m\u001b[1;33m\u001b[0m\u001b[1;33m\u001b[0m\u001b[0m\n\u001b[0;32m    219\u001b[0m \u001b[1;33m\u001b[0m\u001b[0m\n\u001b[1;32m--> 220\u001b[1;33m         \u001b[0mX\u001b[0m \u001b[1;33m=\u001b[0m \u001b[0mcheck_array\u001b[0m\u001b[1;33m(\u001b[0m\u001b[0mX\u001b[0m\u001b[1;33m,\u001b[0m \u001b[0maccept_sparse\u001b[0m\u001b[1;33m=\u001b[0m\u001b[1;33m[\u001b[0m\u001b[1;34m'csr'\u001b[0m\u001b[1;33m,\u001b[0m \u001b[1;34m'csc'\u001b[0m\u001b[1;33m,\u001b[0m \u001b[1;34m'coo'\u001b[0m\u001b[1;33m]\u001b[0m\u001b[1;33m)\u001b[0m\u001b[1;33m\u001b[0m\u001b[1;33m\u001b[0m\u001b[0m\n\u001b[0m\u001b[0;32m    221\u001b[0m         return safe_sparse_dot(X, self.coef_.T,\n\u001b[0;32m    222\u001b[0m                                dense_output=True) + self.intercept_\n",
      "\u001b[1;32m~\\anaconda3\\lib\\site-packages\\sklearn\\utils\\validation.py\u001b[0m in \u001b[0;36minner_f\u001b[1;34m(*args, **kwargs)\u001b[0m\n\u001b[0;32m     61\u001b[0m             \u001b[0mextra_args\u001b[0m \u001b[1;33m=\u001b[0m \u001b[0mlen\u001b[0m\u001b[1;33m(\u001b[0m\u001b[0margs\u001b[0m\u001b[1;33m)\u001b[0m \u001b[1;33m-\u001b[0m \u001b[0mlen\u001b[0m\u001b[1;33m(\u001b[0m\u001b[0mall_args\u001b[0m\u001b[1;33m)\u001b[0m\u001b[1;33m\u001b[0m\u001b[1;33m\u001b[0m\u001b[0m\n\u001b[0;32m     62\u001b[0m             \u001b[1;32mif\u001b[0m \u001b[0mextra_args\u001b[0m \u001b[1;33m<=\u001b[0m \u001b[1;36m0\u001b[0m\u001b[1;33m:\u001b[0m\u001b[1;33m\u001b[0m\u001b[1;33m\u001b[0m\u001b[0m\n\u001b[1;32m---> 63\u001b[1;33m                 \u001b[1;32mreturn\u001b[0m \u001b[0mf\u001b[0m\u001b[1;33m(\u001b[0m\u001b[1;33m*\u001b[0m\u001b[0margs\u001b[0m\u001b[1;33m,\u001b[0m \u001b[1;33m**\u001b[0m\u001b[0mkwargs\u001b[0m\u001b[1;33m)\u001b[0m\u001b[1;33m\u001b[0m\u001b[1;33m\u001b[0m\u001b[0m\n\u001b[0m\u001b[0;32m     64\u001b[0m \u001b[1;33m\u001b[0m\u001b[0m\n\u001b[0;32m     65\u001b[0m             \u001b[1;31m# extra_args > 0\u001b[0m\u001b[1;33m\u001b[0m\u001b[1;33m\u001b[0m\u001b[1;33m\u001b[0m\u001b[0m\n",
      "\u001b[1;32m~\\anaconda3\\lib\\site-packages\\sklearn\\utils\\validation.py\u001b[0m in \u001b[0;36mcheck_array\u001b[1;34m(array, accept_sparse, accept_large_sparse, dtype, order, copy, force_all_finite, ensure_2d, allow_nd, ensure_min_samples, ensure_min_features, estimator)\u001b[0m\n\u001b[0;32m    628\u001b[0m             \u001b[1;31m# If input is scalar raise error\u001b[0m\u001b[1;33m\u001b[0m\u001b[1;33m\u001b[0m\u001b[1;33m\u001b[0m\u001b[0m\n\u001b[0;32m    629\u001b[0m             \u001b[1;32mif\u001b[0m \u001b[0marray\u001b[0m\u001b[1;33m.\u001b[0m\u001b[0mndim\u001b[0m \u001b[1;33m==\u001b[0m \u001b[1;36m0\u001b[0m\u001b[1;33m:\u001b[0m\u001b[1;33m\u001b[0m\u001b[1;33m\u001b[0m\u001b[0m\n\u001b[1;32m--> 630\u001b[1;33m                 raise ValueError(\n\u001b[0m\u001b[0;32m    631\u001b[0m                     \u001b[1;34m\"Expected 2D array, got scalar array instead:\\narray={}.\\n\"\u001b[0m\u001b[1;33m\u001b[0m\u001b[1;33m\u001b[0m\u001b[0m\n\u001b[0;32m    632\u001b[0m                     \u001b[1;34m\"Reshape your data either using array.reshape(-1, 1) if \"\u001b[0m\u001b[1;33m\u001b[0m\u001b[1;33m\u001b[0m\u001b[0m\n",
      "\u001b[1;31mValueError\u001b[0m: Expected 2D array, got scalar array instead:\narray=2019-09-30.\nReshape your data either using array.reshape(-1, 1) if your data has a single feature or array.reshape(1, -1) if it contains a single sample."
     ]
    }
   ],
   "source": [
    "y_las = las.predict('2019-09-30')"
   ]
  },
  {
   "cell_type": "code",
   "execution_count": 33,
   "metadata": {},
   "outputs": [
    {
     "data": {
      "text/plain": [
       "Date\n",
       "2015-09-21    1127.998171\n",
       "2015-09-22    1121.238322\n",
       "2015-09-23    1086.567497\n",
       "2015-09-24    1111.216517\n",
       "2015-09-28    1126.096110\n",
       "                 ...     \n",
       "2015-12-24    1045.636502\n",
       "2015-12-28    1068.161873\n",
       "2015-12-29    1126.978350\n",
       "2015-12-30    1071.658209\n",
       "2015-12-31    1049.746300\n",
       "Length: 68, dtype: float64"
      ]
     },
     "execution_count": 33,
     "metadata": {},
     "output_type": "execute_result"
    }
   ],
   "source": []
  },
  {
   "cell_type": "code",
   "execution_count": 27,
   "metadata": {},
   "outputs": [
    {
     "data": {
      "image/png": "[encoded data removed]",
      "text/plain": [
       "<Figure size 1224x360 with 1 Axes>"
      ]
     },
     "metadata": {
      "needs_background": "light"
     },
     "output_type": "display_data"
    }
   ],
   "source": [
    "plot_pred(y_las,\"Lasso Regression\")"
   ]
  },
  {
   "cell_type": "markdown",
   "metadata": {},
   "source": [
    "# 8. Moving window Neural Network\n",
    "\n",
    "We construct a simple Feed Forward network taking 80 features as our input."
   ]
  },
  {
   "cell_type": "code",
   "execution_count": 28,
   "metadata": {
    "_kg_hide-output": true
   },
   "outputs": [
    {
     "name": "stdout",
     "output_type": "stream",
     "text": [
      "Epoch 1/250\n",
      "3/3 [==============================] - 2s 247ms/step - loss: 721331.1875 - mae: 818.4391 - mse: 721331.1875 - val_loss: 1982.7568 - val_mae: 34.7704 - val_mse: 1982.7568\n",
      "Epoch 2/250\n",
      "3/3 [==============================] - 0s 32ms/step - loss: 10340.2129 - mae: 83.2786 - mse: 10340.2129 - val_loss: 9806.8330 - val_mae: 89.9020 - val_mse: 9806.8330\n",
      "Epoch 3/250\n",
      "3/3 [==============================] - 0s 30ms/step - loss: 5858.6035 - mae: 62.4447 - mse: 5858.6035 - val_loss: 36334.9883 - val_mae: 186.2033 - val_mse: 36334.9883\n",
      "Epoch 4/250\n",
      "3/3 [==============================] - 0s 31ms/step - loss: 14109.5381 - mae: 102.9242 - mse: 14109.5381 - val_loss: 2199.0286 - val_mae: 40.2549 - val_mse: 2199.0286\n",
      "Epoch 5/250\n",
      "3/3 [==============================] - 0s 34ms/step - loss: 23199.7969 - mae: 135.1824 - mse: 23199.7969 - val_loss: 95976.7500 - val_mae: 307.2260 - val_mse: 95976.7500\n",
      "Epoch 6/250\n",
      "3/3 [==============================] - 0s 32ms/step - loss: 59916.5664 - mae: 230.5150 - mse: 59916.5664 - val_loss: 69926.4375 - val_mae: 260.7178 - val_mse: 69926.4375\n",
      "Epoch 7/250\n",
      "3/3 [==============================] - 0s 30ms/step - loss: 125251.1875 - mae: 345.1634 - mse: 125251.1875 - val_loss: 151867.4062 - val_mae: 387.7275 - val_mse: 151867.4062\n",
      "Epoch 8/250\n",
      "3/3 [==============================] - 0s 32ms/step - loss: 65517.6055 - mae: 240.5918 - mse: 65517.6055 - val_loss: 1970.8408 - val_mae: 37.7527 - val_mse: 1970.8408\n",
      "Epoch 9/250\n",
      "3/3 [==============================] - 0s 32ms/step - loss: 20917.9414 - mae: 126.5535 - mse: 20917.9414 - val_loss: 65120.1484 - val_mae: 252.0019 - val_mse: 65120.1484\n",
      "Epoch 10/250\n",
      "3/3 [==============================] - 0s 29ms/step - loss: 45977.0938 - mae: 198.4628 - mse: 45977.0938 - val_loss: 40236.8906 - val_mae: 195.7964 - val_mse: 40236.8906\n",
      "Epoch 11/250\n",
      "3/3 [==============================] - 0s 32ms/step - loss: 118855.4688 - mae: 335.8365 - mse: 118855.4688 - val_loss: 138465.0625 - val_mae: 370.0413 - val_mse: 138465.0625\n",
      "Epoch 12/250\n",
      "3/3 [==============================] - 0s 29ms/step - loss: 59158.9062 - mae: 228.7113 - mse: 59158.9062 - val_loss: 5258.8276 - val_mae: 62.5009 - val_mse: 5258.8276\n",
      "Epoch 13/250\n",
      "3/3 [==============================] - 0s 32ms/step - loss: 29938.6328 - mae: 156.4932 - mse: 29938.6328 - val_loss: 111004.7031 - val_mae: 330.8453 - val_mse: 111004.7031\n",
      "Epoch 14/250\n",
      "3/3 [==============================] - 0s 29ms/step - loss: 50866.3945 - mae: 212.5579 - mse: 50866.3945 - val_loss: 9558.7227 - val_mae: 88.1009 - val_mse: 9558.7227\n",
      "Epoch 15/250\n",
      "3/3 [==============================] - 0s 31ms/step - loss: 37998.7969 - mae: 180.1794 - mse: 37998.7969 - val_loss: 100546.1016 - val_mae: 314.6538 - val_mse: 100546.1016\n",
      "Epoch 16/250\n",
      "3/3 [==============================] - 0s 32ms/step - loss: 56061.9414 - mae: 223.5517 - mse: 56061.9414 - val_loss: 38458.2969 - val_mae: 191.2800 - val_mse: 38458.2969\n",
      "Epoch 17/250\n",
      "3/3 [==============================] - 0s 33ms/step - loss: 92774.0234 - mae: 294.7325 - mse: 92774.0234 - val_loss: 128993.5312 - val_mae: 357.0492 - val_mse: 128993.5312\n",
      "Epoch 18/250\n",
      "3/3 [==============================] - 0s 36ms/step - loss: 59939.3086 - mae: 230.5951 - mse: 59939.3086 - val_loss: 2652.1965 - val_mae: 44.9794 - val_mse: 2652.1965\n",
      "Epoch 19/250\n",
      "3/3 [==============================] - 0s 35ms/step - loss: 26538.9473 - mae: 147.1801 - mse: 26538.9473 - val_loss: 64026.9102 - val_mae: 249.9122 - val_mse: 64026.9102\n",
      "Epoch 20/250\n",
      "3/3 [==============================] - 0s 28ms/step - loss: 34289.1484 - mae: 168.9358 - mse: 34289.1484 - val_loss: 17231.4141 - val_mae: 124.1503 - val_mse: 17231.4141\n",
      "Epoch 21/250\n",
      "3/3 [==============================] - 0s 28ms/step - loss: 78066.6406 - mae: 267.5193 - mse: 78066.6406 - val_loss: 165733.0000 - val_mae: 405.2867 - val_mse: 165733.0000\n",
      "Epoch 22/250\n",
      "3/3 [==============================] - 0s 32ms/step - loss: 82425.1094 - mae: 276.1039 - mse: 82425.1094 - val_loss: 14556.2041 - val_mae: 112.9024 - val_mse: 14556.2041\n",
      "Epoch 23/250\n",
      "3/3 [==============================] - 0s 36ms/step - loss: 47701.9688 - mae: 202.8863 - mse: 47701.9688 - val_loss: 52820.3164 - val_mae: 226.3665 - val_mse: 52820.3164\n",
      "Epoch 24/250\n",
      "3/3 [==============================] - 0s 36ms/step - loss: 23633.6035 - mae: 134.3579 - mse: 23633.6035 - val_loss: 8917.8545 - val_mae: 84.4447 - val_mse: 8917.8545\n",
      "Epoch 25/250\n",
      "3/3 [==============================] - 0s 31ms/step - loss: 38015.7617 - mae: 179.5051 - mse: 38015.7617 - val_loss: 74461.4922 - val_mae: 270.0238 - val_mse: 74461.4922\n",
      "Epoch 26/250\n",
      "3/3 [==============================] - 0s 39ms/step - loss: 43137.4961 - mae: 193.6631 - mse: 43137.4961 - val_loss: 12310.4883 - val_mae: 102.5315 - val_mse: 12310.4883\n",
      "Epoch 27/250\n",
      "3/3 [==============================] - 0s 38ms/step - loss: 59638.0391 - mae: 231.5891 - mse: 59638.0391 - val_loss: 107132.8281 - val_mae: 324.9871 - val_mse: 107132.8281\n",
      "Epoch 28/250\n",
      "3/3 [==============================] - 0s 32ms/step - loss: 46554.9219 - mae: 200.5360 - mse: 46554.9219 - val_loss: 2116.6345 - val_mae: 35.2585 - val_mse: 2116.6345\n",
      "Epoch 29/250\n",
      "3/3 [==============================] - 0s 33ms/step - loss: 17109.8164 - mae: 115.9575 - mse: 17109.8164 - val_loss: 63150.0859 - val_mae: 248.1699 - val_mse: 63150.0859\n",
      "Epoch 30/250\n",
      "3/3 [==============================] - 0s 28ms/step - loss: 29110.8965 - mae: 154.5847 - mse: 29110.8965 - val_loss: 11048.9678 - val_mae: 96.2152 - val_mse: 11048.9678\n",
      "Epoch 31/250\n",
      "3/3 [==============================] - 0s 31ms/step - loss: 62220.7656 - mae: 235.9942 - mse: 62220.7656 - val_loss: 146879.8281 - val_mae: 381.3215 - val_mse: 146879.8281\n",
      "Epoch 32/250\n",
      "3/3 [==============================] - 0s 32ms/step - loss: 75479.6719 - mae: 262.5289 - mse: 75479.6719 - val_loss: 2365.2322 - val_mae: 42.5018 - val_mse: 2365.2322\n",
      "Epoch 33/250\n",
      "3/3 [==============================] - 0s 29ms/step - loss: 26800.0742 - mae: 147.8471 - mse: 26800.0742 - val_loss: 54291.5352 - val_mae: 229.6447 - val_mse: 54291.5352\n",
      "Epoch 34/250\n",
      "3/3 [==============================] - 0s 35ms/step - loss: 24797.6484 - mae: 139.1768 - mse: 24797.6484 - val_loss: 2166.7161 - val_mae: 40.4186 - val_mse: 2166.7161\n",
      "Epoch 35/250\n",
      "3/3 [==============================] - 0s 33ms/step - loss: 26954.5371 - mae: 149.2412 - mse: 26954.5371 - val_loss: 78197.2266 - val_mae: 276.9088 - val_mse: 78197.2266\n",
      "Epoch 36/250\n",
      "3/3 [==============================] - 0s 31ms/step - loss: 41019.9297 - mae: 188.0953 - mse: 41019.9297 - val_loss: 8132.0293 - val_mae: 80.0616 - val_mse: 8132.0293\n",
      "Epoch 37/250\n",
      "3/3 [==============================] - 0s 29ms/step - loss: 43972.4688 - mae: 195.0141 - mse: 43972.4688 - val_loss: 92728.0391 - val_mae: 302.0608 - val_mse: 92728.0391\n",
      "Epoch 38/250\n",
      "3/3 [==============================] - 0s 34ms/step - loss: 61495.7656 - mae: 236.5949 - mse: 61495.7656 - val_loss: 5696.3086 - val_mae: 65.3168 - val_mse: 5696.3086\n",
      "Epoch 39/250\n",
      "3/3 [==============================] - 0s 33ms/step - loss: 31532.6133 - mae: 160.5807 - mse: 31532.6133 - val_loss: 50434.6562 - val_mae: 221.1151 - val_mse: 50434.6562\n",
      "Epoch 40/250\n",
      "3/3 [==============================] - 0s 27ms/step - loss: 12894.0186 - mae: 96.7512 - mse: 12894.0186 - val_loss: 2867.3486 - val_mae: 42.5603 - val_mse: 2867.3486\n",
      "Epoch 41/250\n",
      "3/3 [==============================] - 0s 33ms/step - loss: 12508.9717 - mae: 93.0456 - mse: 12508.9717 - val_loss: 90538.4531 - val_mae: 298.4288 - val_mse: 90538.4531\n",
      "Epoch 42/250\n",
      "3/3 [==============================] - 0s 29ms/step - loss: 56525.7539 - mae: 224.6133 - mse: 56525.7539 - val_loss: 18463.6465 - val_mae: 129.2842 - val_mse: 18463.6465\n",
      "Epoch 43/250\n",
      "3/3 [==============================] - 0s 28ms/step - loss: 64093.7617 - mae: 241.3410 - mse: 64093.7617 - val_loss: 90341.1016 - val_mae: 298.1143 - val_mse: 90341.1016\n",
      "Epoch 44/250\n",
      "3/3 [==============================] - 0s 34ms/step - loss: 35661.2656 - mae: 173.4599 - mse: 35661.2656 - val_loss: 2229.5498 - val_mae: 41.1069 - val_mse: 2229.5498\n",
      "Epoch 45/250\n",
      "3/3 [==============================] - 0s 32ms/step - loss: 30949.6543 - mae: 160.6684 - mse: 30949.6543 - val_loss: 111153.4688 - val_mae: 331.2142 - val_mse: 111153.4688\n"
     ]
    },
    {
     "name": "stdout",
     "output_type": "stream",
     "text": [
      "Epoch 46/250\n",
      "3/3 [==============================] - 0s 34ms/step - loss: 45357.3516 - mae: 199.0118 - mse: 45357.3516 - val_loss: 5325.0005 - val_mae: 63.1291 - val_mse: 5325.0005\n",
      "Epoch 47/250\n",
      "3/3 [==============================] - 0s 36ms/step - loss: 34242.7109 - mae: 171.1742 - mse: 34242.7109 - val_loss: 43958.4219 - val_mae: 206.0253 - val_mse: 43958.4219\n",
      "Epoch 48/250\n",
      "3/3 [==============================] - 0s 34ms/step - loss: 16238.0479 - mae: 108.7768 - mse: 16238.0498 - val_loss: 2429.0618 - val_mae: 43.0373 - val_mse: 2429.0618\n",
      "Epoch 49/250\n",
      "3/3 [==============================] - 0s 31ms/step - loss: 26707.5508 - mae: 149.9141 - mse: 26707.5508 - val_loss: 44805.3789 - val_mae: 208.0793 - val_mse: 44805.3789\n",
      "Epoch 50/250\n",
      "3/3 [==============================] - 0s 33ms/step - loss: 16802.9727 - mae: 111.2347 - mse: 16802.9727 - val_loss: 3810.2981 - val_mae: 53.9643 - val_mse: 3810.2981\n",
      "Epoch 51/250\n",
      "3/3 [==============================] - 0s 38ms/step - loss: 40760.4648 - mae: 182.4532 - mse: 40760.4648 - val_loss: 201569.9062 - val_mae: 447.4280 - val_mse: 201569.9062\n",
      "Epoch 52/250\n",
      "3/3 [==============================] - 0s 32ms/step - loss: 91826.0156 - mae: 288.2945 - mse: 91826.0156 - val_loss: 2680.4963 - val_mae: 45.3781 - val_mse: 2680.4963\n",
      "Epoch 53/250\n",
      "3/3 [==============================] - 0s 33ms/step - loss: 14782.4414 - mae: 101.7592 - mse: 14782.4414 - val_loss: 11515.2861 - val_mae: 99.7306 - val_mse: 11515.2861\n",
      "Epoch 54/250\n",
      "3/3 [==============================] - 0s 34ms/step - loss: 4674.8062 - mae: 52.8739 - mse: 4674.8062 - val_loss: 4918.1255 - val_mae: 58.9236 - val_mse: 4918.1255\n",
      "Epoch 55/250\n",
      "3/3 [==============================] - 0s 37ms/step - loss: 4858.2256 - mae: 58.8103 - mse: 4858.2256 - val_loss: 13165.1758 - val_mae: 107.6189 - val_mse: 13165.1758\n",
      "Epoch 56/250\n",
      "3/3 [==============================] - 0s 33ms/step - loss: 5870.2139 - mae: 58.6580 - mse: 5870.2139 - val_loss: 14790.4053 - val_mae: 114.2745 - val_mse: 14790.4053\n",
      "Epoch 57/250\n",
      "3/3 [==============================] - 0s 30ms/step - loss: 70329.5781 - mae: 250.0110 - mse: 70329.5781 - val_loss: 124255.5703 - val_mae: 350.4738 - val_mse: 124255.5703\n",
      "Epoch 58/250\n",
      "3/3 [==============================] - 0s 31ms/step - loss: 53461.8750 - mae: 214.1471 - mse: 53461.8750 - val_loss: 5074.5078 - val_mae: 59.9667 - val_mse: 5074.5078\n",
      "Epoch 59/250\n",
      "3/3 [==============================] - 0s 32ms/step - loss: 5725.3340 - mae: 61.6885 - mse: 5725.3340 - val_loss: 4291.9814 - val_mae: 54.6209 - val_mse: 4291.9814\n",
      "Epoch 60/250\n",
      "3/3 [==============================] - 0s 28ms/step - loss: 8962.6006 - mae: 77.6302 - mse: 8962.6006 - val_loss: 84031.0781 - val_mae: 287.3549 - val_mse: 84031.0781\n",
      "Epoch 61/250\n",
      "3/3 [==============================] - 0s 30ms/step - loss: 66056.5312 - mae: 245.8600 - mse: 66056.5312 - val_loss: 25433.2930 - val_mae: 153.9916 - val_mse: 25433.2930\n",
      "Epoch 62/250\n",
      "3/3 [==============================] - 0s 36ms/step - loss: 42815.4648 - mae: 189.6746 - mse: 42815.4648 - val_loss: 22192.5059 - val_mae: 143.7023 - val_mse: 22192.5059\n",
      "Epoch 63/250\n",
      "3/3 [==============================] - 0s 33ms/step - loss: 5684.4429 - mae: 60.4072 - mse: 5684.4429 - val_loss: 7205.7764 - val_mae: 74.9909 - val_mse: 7205.7764\n",
      "Epoch 64/250\n",
      "3/3 [==============================] - 0s 33ms/step - loss: 4404.7324 - mae: 50.8241 - mse: 4404.7324 - val_loss: 30239.7793 - val_mae: 169.4414 - val_mse: 30239.7793\n",
      "Epoch 65/250\n",
      "3/3 [==============================] - 0s 30ms/step - loss: 16417.5078 - mae: 113.0047 - mse: 16417.5078 - val_loss: 11369.1348 - val_mae: 98.3807 - val_mse: 11369.1348\n",
      "Epoch 66/250\n",
      "3/3 [==============================] - 0s 31ms/step - loss: 64766.3086 - mae: 242.8121 - mse: 64766.3086 - val_loss: 118084.0000 - val_mae: 341.5280 - val_mse: 118084.0000\n",
      "Epoch 67/250\n",
      "3/3 [==============================] - 0s 39ms/step - loss: 47625.8125 - mae: 198.7255 - mse: 47625.8125 - val_loss: 4980.8853 - val_mae: 59.2253 - val_mse: 4980.8853\n",
      "Epoch 68/250\n",
      "3/3 [==============================] - 0s 34ms/step - loss: 10477.8711 - mae: 85.7695 - mse: 10477.8711 - val_loss: 39006.1289 - val_mae: 193.6038 - val_mse: 39006.1289\n",
      "Epoch 69/250\n",
      "3/3 [==============================] - 0s 37ms/step - loss: 18457.1875 - mae: 120.9355 - mse: 18457.1875 - val_loss: 1974.4922 - val_mae: 38.7360 - val_mse: 1974.4922\n",
      "Epoch 70/250\n",
      "3/3 [==============================] - 0s 30ms/step - loss: 10945.5762 - mae: 89.0215 - mse: 10945.5762 - val_loss: 56304.0000 - val_mae: 234.0934 - val_mse: 56304.0000\n",
      "Epoch 71/250\n",
      "3/3 [==============================] - 0s 33ms/step - loss: 38309.3242 - mae: 184.1662 - mse: 38309.3242 - val_loss: 17795.6719 - val_mae: 126.7585 - val_mse: 17795.6719\n",
      "Epoch 72/250\n",
      "3/3 [==============================] - 0s 34ms/step - loss: 35424.1094 - mae: 174.6914 - mse: 35424.1094 - val_loss: 44112.4609 - val_mae: 206.3604 - val_mse: 44112.4609\n",
      "Epoch 73/250\n",
      "3/3 [==============================] - 0s 31ms/step - loss: 22820.8945 - mae: 139.4112 - mse: 22820.8945 - val_loss: 4649.7412 - val_mae: 59.2679 - val_mse: 4649.7412\n",
      "Epoch 74/250\n",
      "3/3 [==============================] - 0s 33ms/step - loss: 23142.6543 - mae: 141.0425 - mse: 23142.6543 - val_loss: 65789.2969 - val_mae: 253.5370 - val_mse: 65789.2969\n",
      "Epoch 75/250\n",
      "3/3 [==============================] - 0s 31ms/step - loss: 29824.6309 - mae: 161.2939 - mse: 29824.6309 - val_loss: 3714.2234 - val_mae: 53.6288 - val_mse: 3714.2234\n",
      "Epoch 76/250\n",
      "3/3 [==============================] - 0s 33ms/step - loss: 18191.5039 - mae: 122.1867 - mse: 18191.5039 - val_loss: 34518.9727 - val_mae: 181.5536 - val_mse: 34518.9727\n",
      "Epoch 77/250\n",
      "3/3 [==============================] - 0s 32ms/step - loss: 25336.3691 - mae: 145.1985 - mse: 25336.3691 - val_loss: 20463.6855 - val_mae: 136.7761 - val_mse: 20463.6855\n",
      "Epoch 78/250\n",
      "3/3 [==============================] - 0s 30ms/step - loss: 43717.8516 - mae: 199.6628 - mse: 43717.8516 - val_loss: 69441.1953 - val_mae: 260.6179 - val_mse: 69441.1953\n",
      "Epoch 79/250\n",
      "3/3 [==============================] - 0s 31ms/step - loss: 30250.4629 - mae: 159.8535 - mse: 30250.4629 - val_loss: 1827.6417 - val_mae: 32.2883 - val_mse: 1827.6417\n",
      "Epoch 80/250\n",
      "3/3 [==============================] - 0s 33ms/step - loss: 5517.8481 - mae: 62.6408 - mse: 5517.8481 - val_loss: 6783.2300 - val_mae: 71.7691 - val_mse: 6783.2300\n",
      "Epoch 81/250\n",
      "3/3 [==============================] - 0s 31ms/step - loss: 4395.7119 - mae: 52.2342 - mse: 4395.7119 - val_loss: 4899.0962 - val_mae: 60.7723 - val_mse: 4899.0962\n",
      "Epoch 82/250\n",
      "3/3 [==============================] - 0s 29ms/step - loss: 34950.7344 - mae: 171.1166 - mse: 34950.7344 - val_loss: 114606.7109 - val_mae: 336.3319 - val_mse: 114606.7109\n",
      "Epoch 83/250\n",
      "3/3 [==============================] - 0s 32ms/step - loss: 55903.5195 - mae: 225.9465 - mse: 55903.5195 - val_loss: 6106.2925 - val_mae: 68.1506 - val_mse: 6106.2925\n",
      "Epoch 84/250\n",
      "3/3 [==============================] - 0s 36ms/step - loss: 16290.6055 - mae: 112.3303 - mse: 16290.6055 - val_loss: 14678.6924 - val_mae: 114.2527 - val_mse: 14678.6924\n",
      "Epoch 85/250\n",
      "3/3 [==============================] - 0s 41ms/step - loss: 4786.0034 - mae: 54.5216 - mse: 4786.0034 - val_loss: 1696.0620 - val_mae: 32.5548 - val_mse: 1696.0620\n",
      "Epoch 86/250\n",
      "3/3 [==============================] - 0s 32ms/step - loss: 3785.4246 - mae: 48.0827 - mse: 3785.4246 - val_loss: 10380.1377 - val_mae: 93.4887 - val_mse: 10380.1377\n",
      "Epoch 87/250\n",
      "3/3 [==============================] - 0s 35ms/step - loss: 5269.9082 - mae: 58.7699 - mse: 5269.9082 - val_loss: 9534.4180 - val_mae: 88.1792 - val_mse: 9534.4180\n",
      "Epoch 88/250\n",
      "3/3 [==============================] - 0s 33ms/step - loss: 33915.3594 - mae: 170.2268 - mse: 33915.3594 - val_loss: 105645.3281 - val_mae: 322.6891 - val_mse: 105645.3281\n",
      "Epoch 89/250\n",
      "3/3 [==============================] - 0s 32ms/step - loss: 51389.4453 - mae: 216.8163 - mse: 51389.4453 - val_loss: 3124.0994 - val_mae: 49.5400 - val_mse: 3124.0994\n",
      "Epoch 90/250\n",
      "3/3 [==============================] - 0s 32ms/step - loss: 16880.5293 - mae: 117.2797 - mse: 16880.5293 - val_loss: 23373.3906 - val_mae: 147.4422 - val_mse: 23373.3906\n",
      "Epoch 91/250\n",
      "3/3 [==============================] - 0s 29ms/step - loss: 10054.3818 - mae: 88.8479 - mse: 10054.3818 - val_loss: 7699.7515 - val_mae: 77.8304 - val_mse: 7699.7515\n",
      "Epoch 92/250\n",
      "3/3 [==============================] - 0s 34ms/step - loss: 17378.0684 - mae: 121.5642 - mse: 17378.0684 - val_loss: 36721.1758 - val_mae: 187.3395 - val_mse: 36721.1758\n",
      "Epoch 93/250\n",
      "3/3 [==============================] - 0s 33ms/step - loss: 21961.7227 - mae: 137.4273 - mse: 21961.7227 - val_loss: 9341.4512 - val_mae: 87.0191 - val_mse: 9341.4512\n",
      "Epoch 94/250\n",
      "3/3 [==============================] - 0s 39ms/step - loss: 23661.7441 - mae: 143.8822 - mse: 23661.7441 - val_loss: 40501.7383 - val_mae: 197.1315 - val_mse: 40501.7383\n",
      "Epoch 95/250\n",
      "3/3 [==============================] - 0s 30ms/step - loss: 19599.3105 - mae: 129.7658 - mse: 19599.3105 - val_loss: 3242.6597 - val_mae: 50.5820 - val_mse: 3242.6597\n",
      "Epoch 96/250\n",
      "3/3 [==============================] - 0s 32ms/step - loss: 16480.2344 - mae: 118.3351 - mse: 16480.2344 - val_loss: 55035.7617 - val_mae: 231.0940 - val_mse: 55035.7617\n",
      "Epoch 97/250\n",
      "3/3 [==============================] - 0s 32ms/step - loss: 22478.4258 - mae: 138.4796 - mse: 22478.4258 - val_loss: 4190.2334 - val_mae: 57.0906 - val_mse: 4190.2334\n",
      "Epoch 98/250\n",
      "3/3 [==============================] - 0s 34ms/step - loss: 14873.9902 - mae: 112.3302 - mse: 14873.9902 - val_loss: 39811.6992 - val_mae: 195.3281 - val_mse: 39811.6992\n",
      "Epoch 99/250\n",
      "3/3 [==============================] - 0s 32ms/step - loss: 18848.2461 - mae: 125.2549 - mse: 18848.2461 - val_loss: 16209.8428 - val_mae: 119.7912 - val_mse: 16209.8428\n",
      "Epoch 100/250\n",
      "3/3 [==============================] - 0s 26ms/step - loss: 23963.9570 - mae: 145.5653 - mse: 23963.9570 - val_loss: 32133.6953 - val_mae: 174.5239 - val_mse: 32133.6953\n",
      "Epoch 101/250\n",
      "3/3 [==============================] - 0s 33ms/step - loss: 11908.5020 - mae: 96.8738 - mse: 11908.5020 - val_loss: 1885.3672 - val_mae: 32.7573 - val_mse: 1885.3672\n",
      "Epoch 102/250\n",
      "3/3 [==============================] - 0s 33ms/step - loss: 5682.7544 - mae: 62.7724 - mse: 5682.7544 - val_loss: 31028.5801 - val_mae: 171.3166 - val_mse: 31028.5801\n",
      "Epoch 103/250\n",
      "3/3 [==============================] - 0s 34ms/step - loss: 26548.0996 - mae: 152.2658 - mse: 26548.0996 - val_loss: 28495.1895 - val_mae: 163.0893 - val_mse: 28495.1895\n",
      "Epoch 104/250\n",
      "3/3 [==============================] - 0s 33ms/step - loss: 34535.1016 - mae: 176.5227 - mse: 34535.1055 - val_loss: 20527.1387 - val_mae: 137.1953 - val_mse: 20527.1387\n",
      "Epoch 105/250\n",
      "3/3 [==============================] - 0s 32ms/step - loss: 8366.4287 - mae: 78.8296 - mse: 8366.4287 - val_loss: 4711.8877 - val_mae: 60.2593 - val_mse: 4711.8877\n",
      "Epoch 106/250\n",
      "3/3 [==============================] - 0s 33ms/step - loss: 6126.1055 - mae: 67.5461 - mse: 6126.1055 - val_loss: 23596.4805 - val_mae: 147.9685 - val_mse: 23596.4805\n",
      "Epoch 107/250\n",
      "3/3 [==============================] - 0s 29ms/step - loss: 19329.5898 - mae: 129.4547 - mse: 19329.5898 - val_loss: 11853.6865 - val_mae: 99.9445 - val_mse: 11853.6865\n",
      "Epoch 108/250\n",
      "3/3 [==============================] - 0s 31ms/step - loss: 17452.1992 - mae: 121.5699 - mse: 17452.1992 - val_loss: 28323.4922 - val_mae: 163.1739 - val_mse: 28323.4922\n",
      "Epoch 109/250\n",
      "3/3 [==============================] - 0s 32ms/step - loss: 13741.3242 - mae: 106.1006 - mse: 13741.3242 - val_loss: 2322.7339 - val_mae: 42.9977 - val_mse: 2322.7339\n",
      "Epoch 110/250\n",
      "3/3 [==============================] - 0s 28ms/step - loss: 9709.7520 - mae: 86.7777 - mse: 9709.7520 - val_loss: 38037.9219 - val_mae: 190.6668 - val_mse: 38037.9219\n",
      "Epoch 111/250\n",
      "3/3 [==============================] - 0s 34ms/step - loss: 26553.1602 - mae: 154.6295 - mse: 26553.1602 - val_loss: 6103.3408 - val_mae: 68.0284 - val_mse: 6103.3408\n",
      "Epoch 112/250\n",
      "3/3 [==============================] - 0s 27ms/step - loss: 11836.0469 - mae: 96.9048 - mse: 11836.0469 - val_loss: 4758.0879 - val_mae: 56.7116 - val_mse: 4758.0879\n",
      "Epoch 113/250\n",
      "3/3 [==============================] - 0s 29ms/step - loss: 2542.3196 - mae: 39.7096 - mse: 2542.3196 - val_loss: 2200.2234 - val_mae: 41.4314 - val_mse: 2200.2234\n",
      "Epoch 114/250\n",
      "3/3 [==============================] - 0s 29ms/step - loss: 4150.3247 - mae: 51.2030 - mse: 4150.3247 - val_loss: 35538.9922 - val_mae: 183.9530 - val_mse: 35538.9922\n",
      "Epoch 115/250\n",
      "3/3 [==============================] - 0s 31ms/step - loss: 36972.2383 - mae: 182.5804 - mse: 36972.2383 - val_loss: 15713.7402 - val_mae: 117.5182 - val_mse: 15713.7402\n",
      "Epoch 116/250\n",
      "3/3 [==============================] - 0s 32ms/step - loss: 24368.0469 - mae: 147.3175 - mse: 24368.0469 - val_loss: 23368.2070 - val_mae: 147.0877 - val_mse: 23368.2070\n",
      "Epoch 117/250\n",
      "3/3 [==============================] - 0s 30ms/step - loss: 10989.7812 - mae: 93.6500 - mse: 10989.7812 - val_loss: 2369.3621 - val_mae: 35.6870 - val_mse: 2369.3621\n",
      "Epoch 118/250\n",
      "3/3 [==============================] - 0s 33ms/step - loss: 2514.5686 - mae: 40.7001 - mse: 2514.5686 - val_loss: 3781.5266 - val_mae: 48.9916 - val_mse: 3781.5266\n",
      "Epoch 119/250\n",
      "3/3 [==============================] - 0s 31ms/step - loss: 5500.9927 - mae: 62.3658 - mse: 5500.9927 - val_loss: 5070.5757 - val_mae: 62.2603 - val_mse: 5070.5757\n",
      "Epoch 120/250\n",
      "3/3 [==============================] - 0s 33ms/step - loss: 13661.8662 - mae: 107.4815 - mse: 13661.8662 - val_loss: 50672.9844 - val_mae: 221.2974 - val_mse: 50672.9844\n",
      "Epoch 121/250\n",
      "3/3 [==============================] - 0s 29ms/step - loss: 20828.1328 - mae: 135.0120 - mse: 20828.1328 - val_loss: 3159.7876 - val_mae: 50.5863 - val_mse: 3159.7876\n",
      "Epoch 122/250\n",
      "3/3 [==============================] - 0s 32ms/step - loss: 9003.4873 - mae: 83.9167 - mse: 9003.4873 - val_loss: 8870.8115 - val_mae: 84.1334 - val_mse: 8870.8115\n",
      "Epoch 123/250\n",
      "3/3 [==============================] - 0s 29ms/step - loss: 8465.4385 - mae: 79.4426 - mse: 8465.4385 - val_loss: 20565.9355 - val_mae: 136.3945 - val_mse: 20565.9355\n",
      "Epoch 124/250\n",
      "3/3 [==============================] - 0s 28ms/step - loss: 24593.0352 - mae: 148.1219 - mse: 24593.0352 - val_loss: 10902.1348 - val_mae: 95.4239 - val_mse: 10902.1348\n",
      "Epoch 125/250\n",
      "3/3 [==============================] - 0s 33ms/step - loss: 6567.2334 - mae: 69.9157 - mse: 6567.2334 - val_loss: 5290.2314 - val_mae: 63.5253 - val_mse: 5290.2314\n",
      "Epoch 126/250\n",
      "3/3 [==============================] - 0s 36ms/step - loss: 7309.2827 - mae: 76.3285 - mse: 7309.2827 - val_loss: 17941.2754 - val_mae: 127.1044 - val_mse: 17941.2754\n",
      "Epoch 127/250\n",
      "3/3 [==============================] - 0s 29ms/step - loss: 15893.1064 - mae: 118.0322 - mse: 15893.1064 - val_loss: 6867.8252 - val_mae: 72.5197 - val_mse: 6867.8252\n",
      "Epoch 128/250\n",
      "3/3 [==============================] - 0s 29ms/step - loss: 8116.1025 - mae: 76.9682 - mse: 8116.1025 - val_loss: 9438.7246 - val_mae: 87.1762 - val_mse: 9438.7246\n",
      "Epoch 129/250\n",
      "3/3 [==============================] - 0s 33ms/step - loss: 5666.2803 - mae: 63.8160 - mse: 5666.2803 - val_loss: 10063.4561 - val_mae: 90.4963 - val_mse: 10063.4561\n",
      "Epoch 130/250\n",
      "3/3 [==============================] - 0s 31ms/step - loss: 14576.4971 - mae: 112.4617 - mse: 14576.4971 - val_loss: 33128.8594 - val_mae: 177.0327 - val_mse: 33128.8594\n",
      "Epoch 131/250\n",
      "3/3 [==============================] - 0s 35ms/step - loss: 15137.4785 - mae: 112.0186 - mse: 15137.4785 - val_loss: 4153.8184 - val_mae: 57.0585 - val_mse: 4153.8184\n",
      "Epoch 132/250\n",
      "3/3 [==============================] - 0s 33ms/step - loss: 6098.0083 - mae: 69.9322 - mse: 6098.0083 - val_loss: 15947.9229 - val_mae: 118.8511 - val_mse: 15947.9229\n",
      "Epoch 133/250\n",
      "3/3 [==============================] - 0s 33ms/step - loss: 8619.8320 - mae: 83.9509 - mse: 8619.8320 - val_loss: 5551.8477 - val_mae: 64.9543 - val_mse: 5551.8477\n",
      "Epoch 134/250\n",
      "3/3 [==============================] - 0s 31ms/step - loss: 8391.3135 - mae: 82.4438 - mse: 8391.3135 - val_loss: 20141.6445 - val_mae: 135.3862 - val_mse: 20141.6445\n",
      "Epoch 135/250\n",
      "3/3 [==============================] - 0s 35ms/step - loss: 18068.0137 - mae: 126.9055 - mse: 18068.0137 - val_loss: 3524.9675 - val_mae: 53.3466 - val_mse: 3524.9675\n",
      "Epoch 136/250\n"
     ]
    },
    {
     "name": "stdout",
     "output_type": "stream",
     "text": [
      "3/3 [==============================] - 0s 33ms/step - loss: 12714.7900 - mae: 102.2496 - mse: 12714.7900 - val_loss: 5594.1611 - val_mae: 62.3385 - val_mse: 5594.1611\n",
      "Epoch 137/250\n",
      "3/3 [==============================] - 0s 31ms/step - loss: 2745.2600 - mae: 41.9334 - mse: 2745.2600 - val_loss: 2606.3440 - val_mae: 37.8823 - val_mse: 2606.3440\n",
      "Epoch 138/250\n",
      "3/3 [==============================] - 0s 30ms/step - loss: 2339.4331 - mae: 39.3438 - mse: 2339.4331 - val_loss: 6432.4775 - val_mae: 69.8902 - val_mse: 6432.4775\n",
      "Epoch 139/250\n",
      "3/3 [==============================] - 0s 30ms/step - loss: 12671.2969 - mae: 101.5367 - mse: 12671.2969 - val_loss: 32884.2969 - val_mae: 176.3356 - val_mse: 32884.2969\n",
      "Epoch 140/250\n",
      "3/3 [==============================] - 0s 31ms/step - loss: 18444.8086 - mae: 127.9573 - mse: 18444.8086 - val_loss: 2964.7485 - val_mae: 49.3528 - val_mse: 2964.7485\n",
      "Epoch 141/250\n",
      "3/3 [==============================] - 0s 30ms/step - loss: 3126.9941 - mae: 45.7750 - mse: 3126.9941 - val_loss: 3179.6904 - val_mae: 43.2546 - val_mse: 3179.6904\n",
      "Epoch 142/250\n",
      "3/3 [==============================] - 0s 30ms/step - loss: 4998.6973 - mae: 58.5886 - mse: 4998.6973 - val_loss: 29769.6191 - val_mae: 166.6209 - val_mse: 29769.6191\n",
      "Epoch 143/250\n",
      "3/3 [==============================] - 0s 29ms/step - loss: 25520.6367 - mae: 152.5143 - mse: 25520.6367 - val_loss: 11448.8867 - val_mae: 98.0818 - val_mse: 11448.8867\n",
      "Epoch 144/250\n",
      "3/3 [==============================] - 0s 31ms/step - loss: 5076.8994 - mae: 62.9824 - mse: 5076.8994 - val_loss: 1985.5803 - val_mae: 37.7757 - val_mse: 1985.5803\n",
      "Epoch 145/250\n",
      "3/3 [==============================] - 0s 34ms/step - loss: 1834.5800 - mae: 32.6202 - mse: 1834.5800 - val_loss: 6887.6777 - val_mae: 71.0128 - val_mse: 6887.6777\n",
      "Epoch 146/250\n",
      "3/3 [==============================] - 0s 30ms/step - loss: 4385.6665 - mae: 58.6834 - mse: 4385.6665 - val_loss: 8865.2373 - val_mae: 84.2659 - val_mse: 8865.2373\n",
      "Epoch 147/250\n",
      "3/3 [==============================] - 0s 30ms/step - loss: 12667.4990 - mae: 103.6919 - mse: 12667.4990 - val_loss: 28273.9375 - val_mae: 162.7649 - val_mse: 28273.9375\n",
      "Epoch 148/250\n",
      "3/3 [==============================] - 0s 33ms/step - loss: 14742.9365 - mae: 112.9536 - mse: 14742.9365 - val_loss: 2926.5227 - val_mae: 49.1602 - val_mse: 2926.5227\n",
      "Epoch 149/250\n",
      "3/3 [==============================] - 0s 34ms/step - loss: 3986.9338 - mae: 54.7229 - mse: 3986.9338 - val_loss: 9600.5195 - val_mae: 88.1989 - val_mse: 9600.5195\n",
      "Epoch 150/250\n",
      "3/3 [==============================] - 0s 34ms/step - loss: 4013.2488 - mae: 51.8118 - mse: 4013.2488 - val_loss: 6353.5093 - val_mae: 69.5325 - val_mse: 6353.5093\n",
      "Epoch 151/250\n",
      "3/3 [==============================] - 0s 30ms/step - loss: 8637.8721 - mae: 83.9758 - mse: 8637.8721 - val_loss: 22490.0449 - val_mae: 143.8669 - val_mse: 22490.0449\n",
      "Epoch 152/250\n",
      "3/3 [==============================] - 0s 33ms/step - loss: 11960.6172 - mae: 101.1809 - mse: 11960.6172 - val_loss: 4695.8008 - val_mae: 60.4125 - val_mse: 4695.8008\n",
      "Epoch 153/250\n",
      "3/3 [==============================] - 0s 33ms/step - loss: 4391.2490 - mae: 60.3187 - mse: 4391.2490 - val_loss: 2537.1892 - val_mae: 45.6152 - val_mse: 2537.1892\n",
      "Epoch 154/250\n",
      "3/3 [==============================] - 0s 46ms/step - loss: 1387.1931 - mae: 28.1974 - mse: 1387.1931 - val_loss: 1897.3436 - val_mae: 34.6469 - val_mse: 1897.3436\n",
      "Epoch 155/250\n",
      "3/3 [==============================] - 0s 33ms/step - loss: 1135.9929 - mae: 24.8172 - mse: 1135.9929 - val_loss: 3309.8862 - val_mae: 52.0686 - val_mse: 3309.8862\n",
      "Epoch 156/250\n",
      "3/3 [==============================] - 0s 30ms/step - loss: 7785.5117 - mae: 70.2401 - mse: 7785.5117 - val_loss: 67692.5234 - val_mae: 256.8103 - val_mse: 67692.5234\n",
      "Epoch 157/250\n",
      "3/3 [==============================] - 0s 35ms/step - loss: 23923.4277 - mae: 133.4243 - mse: 23923.4277 - val_loss: 2140.1279 - val_mae: 33.9015 - val_mse: 2140.1279\n",
      "Epoch 158/250\n",
      "3/3 [==============================] - 0s 30ms/step - loss: 1577.3612 - mae: 30.4688 - mse: 1577.3612 - val_loss: 2444.3428 - val_mae: 44.5546 - val_mse: 2444.3428\n",
      "Epoch 159/250\n",
      "3/3 [==============================] - 0s 33ms/step - loss: 2476.9482 - mae: 40.1662 - mse: 2476.9482 - val_loss: 10100.5439 - val_mae: 90.7253 - val_mse: 10100.5439\n",
      "Epoch 160/250\n",
      "3/3 [==============================] - 0s 33ms/step - loss: 8623.8154 - mae: 86.5892 - mse: 8623.8154 - val_loss: 3010.3574 - val_mae: 49.9536 - val_mse: 3010.3574\n",
      "Epoch 161/250\n",
      "3/3 [==============================] - 0s 34ms/step - loss: 4378.8882 - mae: 59.0989 - mse: 4378.8882 - val_loss: 4952.3643 - val_mae: 56.9393 - val_mse: 4952.3643\n",
      "Epoch 162/250\n",
      "3/3 [==============================] - 0s 28ms/step - loss: 6549.2666 - mae: 69.5627 - mse: 6549.2666 - val_loss: 7138.0059 - val_mae: 74.1666 - val_mse: 7138.0059\n",
      "Epoch 163/250\n",
      "3/3 [==============================] - 0s 30ms/step - loss: 7897.4692 - mae: 81.9005 - mse: 7897.4692 - val_loss: 12506.1748 - val_mae: 103.0131 - val_mse: 12506.1748\n",
      "Epoch 164/250\n",
      "3/3 [==============================] - 0s 38ms/step - loss: 8582.5703 - mae: 84.8982 - mse: 8582.5703 - val_loss: 17167.8945 - val_mae: 122.9127 - val_mse: 17167.8945\n",
      "Epoch 165/250\n",
      "3/3 [==============================] - 0s 33ms/step - loss: 11811.0303 - mae: 100.6026 - mse: 11811.0303 - val_loss: 7240.2808 - val_mae: 72.8394 - val_mse: 7240.2808\n",
      "Epoch 166/250\n",
      "3/3 [==============================] - 0s 34ms/step - loss: 6002.6357 - mae: 69.6361 - mse: 6002.6357 - val_loss: 3885.5461 - val_mae: 56.1369 - val_mse: 3885.5461\n",
      "Epoch 167/250\n",
      "3/3 [==============================] - 0s 34ms/step - loss: 2014.2294 - mae: 35.9892 - mse: 2014.2294 - val_loss: 2492.4795 - val_mae: 45.0401 - val_mse: 2492.4795\n",
      "Epoch 168/250\n",
      "3/3 [==============================] - 0s 30ms/step - loss: 1590.9507 - mae: 27.6524 - mse: 1590.9507 - val_loss: 13093.7139 - val_mae: 105.7251 - val_mse: 13093.7139\n",
      "Epoch 169/250\n",
      "3/3 [==============================] - 0s 29ms/step - loss: 12719.0889 - mae: 104.7239 - mse: 12719.0889 - val_loss: 9312.3926 - val_mae: 86.4022 - val_mse: 9312.3926\n",
      "Epoch 170/250\n",
      "3/3 [==============================] - 0s 29ms/step - loss: 11120.1504 - mae: 98.1457 - mse: 11120.1504 - val_loss: 15203.8301 - val_mae: 115.2941 - val_mse: 15203.8301\n",
      "Epoch 171/250\n",
      "3/3 [==============================] - 0s 27ms/step - loss: 5475.0176 - mae: 62.1641 - mse: 5475.0176 - val_loss: 1989.9298 - val_mae: 35.9570 - val_mse: 1989.9298\n",
      "Epoch 172/250\n",
      "3/3 [==============================] - 0s 28ms/step - loss: 1452.7759 - mae: 29.0715 - mse: 1452.7759 - val_loss: 3007.8884 - val_mae: 41.1624 - val_mse: 3007.8884\n",
      "Epoch 173/250\n",
      "3/3 [==============================] - 0s 30ms/step - loss: 6568.9668 - mae: 70.2557 - mse: 6568.9668 - val_loss: 6415.8950 - val_mae: 69.7718 - val_mse: 6415.8950\n",
      "Epoch 174/250\n",
      "3/3 [==============================] - 0s 29ms/step - loss: 10122.9062 - mae: 94.9120 - mse: 10122.9062 - val_loss: 16921.5977 - val_mae: 122.5558 - val_mse: 16921.5977\n",
      "Epoch 175/250\n",
      "3/3 [==============================] - 0s 32ms/step - loss: 8913.5537 - mae: 85.4499 - mse: 8913.5537 - val_loss: 4414.5869 - val_mae: 59.2323 - val_mse: 4414.5869\n",
      "Epoch 176/250\n",
      "3/3 [==============================] - 0s 34ms/step - loss: 2801.8198 - mae: 45.8967 - mse: 2801.8198 - val_loss: 5457.9839 - val_mae: 60.1668 - val_mse: 5457.9839\n",
      "Epoch 177/250\n",
      "3/3 [==============================] - 0s 30ms/step - loss: 3013.8215 - mae: 44.6799 - mse: 3013.8215 - val_loss: 13467.1309 - val_mae: 106.8504 - val_mse: 13467.1309\n",
      "Epoch 178/250\n",
      "3/3 [==============================] - 0s 32ms/step - loss: 9843.5459 - mae: 91.1032 - mse: 9843.5459 - val_loss: 7906.8174 - val_mae: 77.3109 - val_mse: 7906.8174\n",
      "Epoch 179/250\n",
      "3/3 [==============================] - 0s 39ms/step - loss: 4452.5640 - mae: 57.9743 - mse: 4452.5640 - val_loss: 7801.5410 - val_mae: 77.9769 - val_mse: 7801.5410\n",
      "Epoch 180/250\n",
      "3/3 [==============================] - 0s 27ms/step - loss: 5577.8535 - mae: 67.6746 - mse: 5577.8535 - val_loss: 25585.0469 - val_mae: 153.9568 - val_mse: 25585.0469\n",
      "Epoch 181/250\n",
      "3/3 [==============================] - 0s 35ms/step - loss: 8276.8320 - mae: 80.4160 - mse: 8276.8320 - val_loss: 2281.6304 - val_mae: 42.3976 - val_mse: 2281.6304\n"
     ]
    },
    {
     "name": "stdout",
     "output_type": "stream",
     "text": [
      "Epoch 182/250\n",
      "3/3 [==============================] - 0s 34ms/step - loss: 2614.5803 - mae: 40.3806 - mse: 2614.5803 - val_loss: 5432.0273 - val_mae: 59.9736 - val_mse: 5432.0273\n",
      "Epoch 183/250\n",
      "3/3 [==============================] - 0s 30ms/step - loss: 6792.9849 - mae: 71.8721 - mse: 6792.9849 - val_loss: 20805.1367 - val_mae: 136.8629 - val_mse: 20805.1367\n",
      "Epoch 184/250\n",
      "3/3 [==============================] - 0s 32ms/step - loss: 15852.3535 - mae: 120.6218 - mse: 15852.3535 - val_loss: 34951.8711 - val_mae: 181.8849 - val_mse: 34951.8711\n",
      "Epoch 185/250\n",
      "3/3 [==============================] - 0s 33ms/step - loss: 9094.0137 - mae: 80.5613 - mse: 9094.0137 - val_loss: 4105.9424 - val_mae: 57.5262 - val_mse: 4105.9424\n",
      "Epoch 186/250\n",
      "3/3 [==============================] - 0s 34ms/step - loss: 2668.7808 - mae: 42.7552 - mse: 2668.7808 - val_loss: 2892.7959 - val_mae: 40.0241 - val_mse: 2892.7959\n",
      "Epoch 187/250\n",
      "3/3 [==============================] - 0s 26ms/step - loss: 4596.0771 - mae: 56.8163 - mse: 4596.0776 - val_loss: 14359.4941 - val_mae: 110.9092 - val_mse: 14359.4941\n",
      "Epoch 188/250\n",
      "3/3 [==============================] - 0s 35ms/step - loss: 8462.4014 - mae: 84.7781 - mse: 8462.4014 - val_loss: 4991.6670 - val_mae: 56.7425 - val_mse: 4991.6670\n",
      "Epoch 189/250\n",
      "3/3 [==============================] - 0s 36ms/step - loss: 6710.5386 - mae: 75.3706 - mse: 6710.5386 - val_loss: 2699.6018 - val_mae: 47.3375 - val_mse: 2699.6018\n",
      "Epoch 190/250\n",
      "3/3 [==============================] - 0s 34ms/step - loss: 2917.4480 - mae: 42.6134 - mse: 2917.4480 - val_loss: 10032.5498 - val_mae: 90.0241 - val_mse: 10032.5498\n",
      "Epoch 191/250\n",
      "3/3 [==============================] - 0s 38ms/step - loss: 9344.2441 - mae: 89.0301 - mse: 9344.2441 - val_loss: 6269.8267 - val_mae: 68.8331 - val_mse: 6269.8267\n",
      "Epoch 192/250\n",
      "3/3 [==============================] - 0s 38ms/step - loss: 8073.2051 - mae: 82.0415 - mse: 8073.2051 - val_loss: 24806.4941 - val_mae: 151.3756 - val_mse: 24806.4941\n",
      "Epoch 193/250\n",
      "3/3 [==============================] - 0s 28ms/step - loss: 10472.5596 - mae: 92.1063 - mse: 10472.5596 - val_loss: 4996.8345 - val_mae: 62.1898 - val_mse: 4996.8345\n",
      "Epoch 194/250\n",
      "3/3 [==============================] - 0s 31ms/step - loss: 2336.2278 - mae: 41.1711 - mse: 2336.2278 - val_loss: 2633.7568 - val_mae: 46.6344 - val_mse: 2633.7568\n",
      "Epoch 195/250\n",
      "3/3 [==============================] - 0s 33ms/step - loss: 1339.0125 - mae: 26.2431 - mse: 1339.0125 - val_loss: 16541.8340 - val_mae: 120.3155 - val_mse: 16541.8340\n",
      "Epoch 196/250\n",
      "3/3 [==============================] - 0s 31ms/step - loss: 11804.9648 - mae: 100.5136 - mse: 11804.9648 - val_loss: 7908.9463 - val_mae: 77.2654 - val_mse: 7908.9463\n",
      "Epoch 197/250\n",
      "3/3 [==============================] - 0s 29ms/step - loss: 3730.6243 - mae: 52.2084 - mse: 3730.6243 - val_loss: 4159.0786 - val_mae: 57.8218 - val_mse: 4159.0786\n",
      "Epoch 198/250\n",
      "3/3 [==============================] - 0s 28ms/step - loss: 2555.6792 - mae: 39.8348 - mse: 2555.6792 - val_loss: 21057.8301 - val_mae: 138.4144 - val_mse: 21057.8301\n",
      "Epoch 199/250\n",
      "3/3 [==============================] - 0s 36ms/step - loss: 16174.6113 - mae: 120.6421 - mse: 16174.6113 - val_loss: 15471.1826 - val_mae: 115.7699 - val_mse: 15471.1826\n",
      "Epoch 200/250\n",
      "3/3 [==============================] - 0s 28ms/step - loss: 7286.7544 - mae: 76.4916 - mse: 7286.7544 - val_loss: 2103.3347 - val_mae: 34.2710 - val_mse: 2103.3347\n",
      "Epoch 201/250\n",
      "3/3 [==============================] - 0s 31ms/step - loss: 1423.1338 - mae: 27.4379 - mse: 1423.1338 - val_loss: 3191.6921 - val_mae: 51.5465 - val_mse: 3191.6921\n",
      "Epoch 202/250\n",
      "3/3 [==============================] - 0s 33ms/step - loss: 1675.2413 - mae: 30.1567 - mse: 1675.2413 - val_loss: 7615.7720 - val_mae: 75.3402 - val_mse: 7615.7720\n",
      "Epoch 203/250\n",
      "3/3 [==============================] - 0s 38ms/step - loss: 9618.5801 - mae: 89.0224 - mse: 9618.5801 - val_loss: 6885.9346 - val_mae: 72.6791 - val_mse: 6885.9346\n",
      "Epoch 204/250\n",
      "3/3 [==============================] - 0s 33ms/step - loss: 8127.2100 - mae: 80.4873 - mse: 8127.2100 - val_loss: 2965.2954 - val_mae: 40.7053 - val_mse: 2965.2954\n",
      "Epoch 205/250\n",
      "3/3 [==============================] - 0s 30ms/step - loss: 1420.5863 - mae: 28.0113 - mse: 1420.5863 - val_loss: 1987.1564 - val_mae: 35.6621 - val_mse: 1987.1564\n",
      "Epoch 206/250\n",
      "3/3 [==============================] - 0s 29ms/step - loss: 2923.1509 - mae: 45.8495 - mse: 2923.1509 - val_loss: 13021.0537 - val_mae: 104.7001 - val_mse: 13021.0537\n",
      "Epoch 207/250\n",
      "3/3 [==============================] - 0s 30ms/step - loss: 9453.0928 - mae: 90.1748 - mse: 9453.0928 - val_loss: 7099.2900 - val_mae: 71.8178 - val_mse: 7099.2900\n",
      "Epoch 208/250\n",
      "3/3 [==============================] - 0s 33ms/step - loss: 7382.0566 - mae: 77.4479 - mse: 7382.0557 - val_loss: 7004.3452 - val_mae: 73.3882 - val_mse: 7004.3452\n",
      "Epoch 209/250\n",
      "3/3 [==============================] - 0s 31ms/step - loss: 4653.9136 - mae: 62.3928 - mse: 4653.9136 - val_loss: 13878.4365 - val_mae: 109.3380 - val_mse: 13878.4365\n",
      "Epoch 210/250\n",
      "3/3 [==============================] - 0s 29ms/step - loss: 7883.7617 - mae: 78.5941 - mse: 7883.7617 - val_loss: 2386.6960 - val_mae: 43.7414 - val_mse: 2386.6960\n",
      "Epoch 211/250\n",
      "3/3 [==============================] - 0s 31ms/step - loss: 3231.0779 - mae: 48.2631 - mse: 3231.0779 - val_loss: 5427.3877 - val_mae: 59.9204 - val_mse: 5427.3877\n",
      "Epoch 212/250\n",
      "3/3 [==============================] - 0s 28ms/step - loss: 9596.4346 - mae: 89.0311 - mse: 9596.4346 - val_loss: 18471.9941 - val_mae: 128.0298 - val_mse: 18471.9941\n",
      "Epoch 213/250\n",
      "3/3 [==============================] - 0s 30ms/step - loss: 12407.8330 - mae: 104.3074 - mse: 12407.8330 - val_loss: 5857.4531 - val_mae: 62.8691 - val_mse: 5857.4531\n",
      "Epoch 214/250\n",
      "3/3 [==============================] - 0s 32ms/step - loss: 6989.9175 - mae: 74.7770 - mse: 6989.9175 - val_loss: 6801.2183 - val_mae: 72.1625 - val_mse: 6801.2183\n",
      "Epoch 215/250\n",
      "3/3 [==============================] - 0s 27ms/step - loss: 3732.1797 - mae: 52.8673 - mse: 3732.1797 - val_loss: 5764.0957 - val_mae: 62.2233 - val_mse: 5764.0957\n",
      "Epoch 216/250\n",
      "3/3 [==============================] - 0s 29ms/step - loss: 3264.3149 - mae: 49.1721 - mse: 3264.3149 - val_loss: 3826.4800 - val_mae: 55.9063 - val_mse: 3826.4800\n",
      "Epoch 217/250\n",
      "3/3 [==============================] - 0s 33ms/step - loss: 2639.9221 - mae: 43.5604 - mse: 2639.9221 - val_loss: 2048.5374 - val_mae: 34.7648 - val_mse: 2048.5374\n",
      "Epoch 218/250\n",
      "3/3 [==============================] - 0s 34ms/step - loss: 5211.9419 - mae: 59.9178 - mse: 5211.9419 - val_loss: 6789.9199 - val_mae: 72.0928 - val_mse: 6789.9199\n",
      "Epoch 219/250\n",
      "3/3 [==============================] - 0s 32ms/step - loss: 11804.1670 - mae: 101.9238 - mse: 11804.1670 - val_loss: 18111.0312 - val_mae: 127.2638 - val_mse: 18111.0312\n",
      "Epoch 220/250\n",
      "3/3 [==============================] - 0s 32ms/step - loss: 6501.3706 - mae: 67.9901 - mse: 6501.3706 - val_loss: 2018.6517 - val_mae: 36.7506 - val_mse: 2018.6517\n",
      "Epoch 221/250\n",
      "3/3 [==============================] - 0s 30ms/step - loss: 1213.4636 - mae: 24.4143 - mse: 1213.4636 - val_loss: 1992.9907 - val_mae: 35.8127 - val_mse: 1992.9907\n",
      "Epoch 222/250\n",
      "3/3 [==============================] - 0s 33ms/step - loss: 2267.8477 - mae: 37.8558 - mse: 2267.8477 - val_loss: 14583.3604 - val_mae: 111.8691 - val_mse: 14583.3604\n",
      "Epoch 223/250\n",
      "3/3 [==============================] - 0s 31ms/step - loss: 13095.7002 - mae: 105.4028 - mse: 13095.7002 - val_loss: 18618.2559 - val_mae: 129.2463 - val_mse: 18618.2559\n",
      "Epoch 224/250\n",
      "3/3 [==============================] - 0s 33ms/step - loss: 6083.8530 - mae: 66.9945 - mse: 6083.8530 - val_loss: 3422.6162 - val_mae: 53.3012 - val_mse: 3422.6162\n",
      "Epoch 225/250\n",
      "3/3 [==============================] - 0s 25ms/step - loss: 1236.2919 - mae: 24.2515 - mse: 1236.2919 - val_loss: 2072.7446 - val_mae: 34.5542 - val_mse: 2072.7446\n",
      "Epoch 226/250\n",
      "3/3 [==============================] - 0s 25ms/step - loss: 2262.0254 - mae: 40.2373 - mse: 2262.0254 - val_loss: 18892.6504 - val_mae: 129.6563 - val_mse: 18892.6504\n",
      "Epoch 227/250\n",
      "3/3 [==============================] - 0s 30ms/step - loss: 13068.3486 - mae: 106.4268 - mse: 13068.3486 - val_loss: 7356.5967 - val_mae: 73.5104 - val_mse: 7356.5967\n"
     ]
    },
    {
     "name": "stdout",
     "output_type": "stream",
     "text": [
      "Epoch 228/250\n",
      "3/3 [==============================] - 0s 33ms/step - loss: 5540.4214 - mae: 64.2418 - mse: 5540.4214 - val_loss: 16796.5703 - val_mae: 121.3112 - val_mse: 16796.5703\n",
      "Epoch 229/250\n",
      "3/3 [==============================] - 0s 33ms/step - loss: 10144.4629 - mae: 93.2044 - mse: 10144.4629 - val_loss: 3685.1929 - val_mae: 46.5827 - val_mse: 3685.1929\n",
      "Epoch 230/250\n",
      "3/3 [==============================] - 0s 28ms/step - loss: 1560.5236 - mae: 27.9418 - mse: 1560.5236 - val_loss: 3335.8447 - val_mae: 52.6787 - val_mse: 3335.8447\n",
      "Epoch 231/250\n",
      "3/3 [==============================] - 0s 30ms/step - loss: 952.8588 - mae: 22.4895 - mse: 952.8588 - val_loss: 2138.1226 - val_mae: 39.6483 - val_mse: 2138.1226\n",
      "Epoch 232/250\n",
      "3/3 [==============================] - 0s 29ms/step - loss: 2078.4692 - mae: 35.6339 - mse: 2078.4692 - val_loss: 31497.8828 - val_mae: 171.4265 - val_mse: 31497.8828\n",
      "Epoch 233/250\n",
      "3/3 [==============================] - 0s 28ms/step - loss: 18738.3359 - mae: 129.4211 - mse: 18738.3359 - val_loss: 11549.7373 - val_mae: 98.0322 - val_mse: 11549.7373\n",
      "Epoch 234/250\n",
      "3/3 [==============================] - 0s 33ms/step - loss: 4826.4253 - mae: 59.6859 - mse: 4826.4253 - val_loss: 3691.0264 - val_mae: 55.0756 - val_mse: 3691.0264\n",
      "Epoch 235/250\n",
      "3/3 [==============================] - 0s 33ms/step - loss: 1764.0823 - mae: 32.0848 - mse: 1764.0823 - val_loss: 9804.8828 - val_mae: 88.6456 - val_mse: 9804.8828\n",
      "Epoch 236/250\n",
      "3/3 [==============================] - 0s 34ms/step - loss: 9788.0498 - mae: 92.0614 - mse: 9788.0498 - val_loss: 9970.5840 - val_mae: 89.7308 - val_mse: 9970.5840\n",
      "Epoch 237/250\n",
      "3/3 [==============================] - 0s 32ms/step - loss: 6067.2705 - mae: 70.5198 - mse: 6067.2705 - val_loss: 2271.3975 - val_mae: 34.9854 - val_mse: 2271.3975\n",
      "Epoch 238/250\n",
      "3/3 [==============================] - 0s 32ms/step - loss: 1240.5032 - mae: 28.6605 - mse: 1240.5032 - val_loss: 5834.2998 - val_mae: 66.4602 - val_mse: 5834.2998\n",
      "Epoch 239/250\n",
      "3/3 [==============================] - 0s 33ms/step - loss: 1628.1907 - mae: 33.4840 - mse: 1628.1907 - val_loss: 3974.4160 - val_mae: 48.8082 - val_mse: 3974.4160\n",
      "Epoch 240/250\n",
      "3/3 [==============================] - 0s 28ms/step - loss: 7745.6934 - mae: 76.4001 - mse: 7745.6934 - val_loss: 9269.5215 - val_mae: 86.0010 - val_mse: 9269.5215\n",
      "Epoch 241/250\n",
      "3/3 [==============================] - 0s 29ms/step - loss: 9540.6152 - mae: 88.7875 - mse: 9540.6152 - val_loss: 3666.9341 - val_mae: 46.4758 - val_mse: 3666.9341\n",
      "Epoch 242/250\n",
      "3/3 [==============================] - 0s 38ms/step - loss: 2439.0818 - mae: 39.6980 - mse: 2439.0818 - val_loss: 6478.0200 - val_mae: 70.1318 - val_mse: 6478.0200\n",
      "Epoch 243/250\n",
      "3/3 [==============================] - 0s 36ms/step - loss: 4298.4351 - mae: 58.9634 - mse: 4298.4351 - val_loss: 6393.3169 - val_mae: 66.6390 - val_mse: 6393.3169\n",
      "Epoch 244/250\n",
      "3/3 [==============================] - 0s 36ms/step - loss: 5375.1099 - mae: 64.9617 - mse: 5375.1099 - val_loss: 21743.9902 - val_mae: 140.1618 - val_mse: 21743.9902\n",
      "Epoch 245/250\n",
      "3/3 [==============================] - 0s 32ms/step - loss: 17275.4062 - mae: 122.1762 - mse: 17275.4062 - val_loss: 2624.5078 - val_mae: 38.0532 - val_mse: 2624.5078\n",
      "Epoch 246/250\n",
      "3/3 [==============================] - 0s 34ms/step - loss: 1519.5554 - mae: 30.2172 - mse: 1519.5554 - val_loss: 3650.4434 - val_mae: 54.8064 - val_mse: 3650.4434\n",
      "Epoch 247/250\n",
      "3/3 [==============================] - 0s 36ms/step - loss: 1654.7589 - mae: 28.9519 - mse: 1654.7589 - val_loss: 14699.3252 - val_mae: 112.9763 - val_mse: 14699.3252\n",
      "Epoch 248/250\n",
      "3/3 [==============================] - 0s 34ms/step - loss: 8442.9619 - mae: 85.4906 - mse: 8442.9619 - val_loss: 28584.6172 - val_mae: 162.6907 - val_mse: 28584.6172\n",
      "Epoch 249/250\n",
      "3/3 [==============================] - 0s 33ms/step - loss: 13542.0078 - mae: 108.9782 - mse: 13542.0078 - val_loss: 5925.7363 - val_mae: 63.2739 - val_mse: 5925.7363\n",
      "Epoch 250/250\n",
      "3/3 [==============================] - 0s 33ms/step - loss: 3038.4702 - mae: 45.6409 - mse: 3038.4702 - val_loss: 2789.1648 - val_mae: 48.1967 - val_mse: 2789.1648\n"
     ]
    }
   ],
   "source": [
    "from keras.models import Sequential\n",
    "from keras.layers import Dense\n",
    "\n",
    "#moving average Neural Network\n",
    "ma_nn = Sequential([Dense(64,input_shape=(80,),activation='relu'), \n",
    "                    Dense(32,activation='linear'),Dense(1)])\n",
    "\n",
    "ma_nn.compile(loss='mse',optimizer='rmsprop',metrics=['mae','mse'])\n",
    "\n",
    "history = ma_nn.fit(X_train, y_train, epochs=250, batch_size=32, validation_split=0.25)"
   ]
  },
  {
   "cell_type": "code",
   "execution_count": 29,
   "metadata": {
    "_kg_hide-input": true,
    "_kg_hide-output": true
   },
   "outputs": [
    {
     "data": {
      "image/png": "[encoded data removed]",
      "text/plain": [
       "<Figure size 432x288 with 1 Axes>"
      ]
     },
     "metadata": {
      "needs_background": "light"
     },
     "output_type": "display_data"
    }
   ],
   "source": [
    "plt.plot(history.history['mse'],label='Training loss')\n",
    "plt.plot(history.history['val_mse'], label='Validation loss')\n",
    "plt.title(\"Mean Squared error\")\n",
    "plt.xlabel(\"Number of Epochs\")\n",
    "plt.legend()\n",
    "plt.show()"
   ]
  },
  {
   "cell_type": "code",
   "execution_count": 30,
   "metadata": {
    "_kg_hide-input": true,
    "_kg_hide-output": true
   },
   "outputs": [
    {
     "name": "stdout",
     "output_type": "stream",
     "text": [
      "3/3 [==============================] - 0s 5ms/step - loss: 2079.8760 - mae: 37.1739 - mse: 2079.8760\n",
      "\n",
      "loss: 2079.8759765625 \n",
      "mae: 37.17393112182617 \n",
      "mse: 2079.8759765625\n"
     ]
    }
   ],
   "source": [
    "loss_nn,mae_nn,mse_nn = ma_nn.evaluate(X_test,y_test)\n",
    "print(\"\\nloss:\",loss_nn,\"\\nmae:\",mae_nn,\"\\nmse:\",mse_nn)"
   ]
  },
  {
   "cell_type": "code",
   "execution_count": 31,
   "metadata": {},
   "outputs": [
    {
     "data": {
      "text/plain": [
       "2079.87559793688"
      ]
     },
     "execution_count": 31,
     "metadata": {},
     "output_type": "execute_result"
    }
   ],
   "source": [
    "y_nn = ma_nn.predict(X_test)\n",
    "y_nn = pd.Series(y_nn[:,0],index=y_test.index)\n",
    "mse(y_nn,y_test)"
   ]
  },
  {
   "cell_type": "code",
   "execution_count": 32,
   "metadata": {},
   "outputs": [
    {
     "data": {
      "image/png": "[encoded data removed]",
      "text/plain": [
       "<Figure size 1224x360 with 1 Axes>"
      ]
     },
     "metadata": {
      "needs_background": "light"
     },
     "output_type": "display_data"
    }
   ],
   "source": [
    "plot_pred(y_nn,\"Moving Average Prediction\")"
   ]
  },
  {
   "cell_type": "markdown",
   "metadata": {},
   "source": [
    "The above methods are simple models. We will see more about classical time series analysis in the another notebook (Will update soon).\n",
    "\n",
    "Feedbacks are most welcomed!"
   ]
  }
 ],
 "metadata": {
  "kernelspec": {
   "display_name": "Python 3",
   "language": "python",
   "name": "python3"
  },
  "language_info": {
   "codemirror_mode": {
    "name": "ipython",
    "version": 3
   },
   "file_extension": ".py",
   "mimetype": "text/x-python",
   "name": "python",
   "nbconvert_exporter": "python",
   "pygments_lexer": "ipython3",
   "version": "3.8.8"
  }
 },
 "nbformat": 4,
 "nbformat_minor": 4
}
